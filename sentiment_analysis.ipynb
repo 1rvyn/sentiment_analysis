{
  "cells": [
    {
      "cell_type": "markdown",
      "source": [],
      "metadata": {
        "id": "SXJrFLcNz_ZO"
      }
    },
    {
      "cell_type": "markdown",
      "source": [
        "#1.0 Import & setup"
      ],
      "metadata": {
        "id": "ODaXGIoR0AbV"
      }
    },
    {
      "cell_type": "code",
      "execution_count": 84,
      "metadata": {
        "id": "CZZbputxGi_r"
      },
      "outputs": [],
      "source": [
        "import numpy as np\n",
        "import pandas as pd\n",
        "\n",
        "import nltk\n",
        "from nltk.corpus import stopwords\n",
        "from nltk.stem.snowball import SnowballStemmer\n",
        "\n",
        "# text to vectors\n",
        "from sklearn.feature_extraction.text import CountVectorizer, TfidfTransformer, TfidfVectorizer\n",
        "\n",
        "\n",
        "from sklearn import model_selection\n",
        "from sklearn.pipeline import make_pipeline\n",
        "from sklearn.pipeline import Pipeline\n",
        "from sklearn.model_selection import train_test_split, cross_val_score, GridSearchCV\n",
        "\n",
        "#classifiers\n",
        "from sklearn.naive_bayes import MultinomialNB\n",
        "from sklearn.linear_model import LogisticRegression\n",
        "from sklearn.neighbors import KNeighborsClassifier\n",
        "from sklearn.discriminant_analysis import LinearDiscriminantAnalysis\n",
        "from sklearn.neural_network import MLPClassifier\n",
        "from sklearn.svm import SVC\n",
        "from sklearn.svm import LinearSVC\n",
        "\n",
        "from sklearn.metrics import classification_report\n",
        "from sklearn.ensemble import RandomForestClassifier\n",
        "\n",
        "from keras.preprocessing import sequence\n",
        "from keras.models import Sequential\n",
        "from keras.layers import Dense, Embedding\n",
        "from keras.layers import LSTM\n"
      ]
    },
    {
      "cell_type": "code",
      "execution_count": 2,
      "metadata": {
        "colab": {
          "base_uri": "https://localhost:8080/",
          "height": 225
        },
        "id": "D-xpUGmO0law",
        "outputId": "31bf0940-6544-4134-9de0-bb8f77b5fd4a"
      },
      "outputs": [
        {
          "output_type": "stream",
          "name": "stdout",
          "text": [
            "df1 shape:  (50000, 2)\n"
          ]
        },
        {
          "output_type": "execute_result",
          "data": {
            "text/plain": [
              "                                              review sentiment\n",
              "0  In 1974, the teenager Martha Moxley (Maggie Gr...       pos\n",
              "1  OK... so... I really like Kris Kristofferson a...       neg\n",
              "2  ***SPOILER*** Do not read this, if you think a...       neg\n",
              "3  hi for all the people who have seen this wonde...       pos\n",
              "4  I recently bought the DVD, forgetting just how...       neg"
            ],
            "text/html": [
              "\n",
              "  <div id=\"df-30ec5c8c-96ad-4752-a370-86c1b97a6428\">\n",
              "    <div class=\"colab-df-container\">\n",
              "      <div>\n",
              "<style scoped>\n",
              "    .dataframe tbody tr th:only-of-type {\n",
              "        vertical-align: middle;\n",
              "    }\n",
              "\n",
              "    .dataframe tbody tr th {\n",
              "        vertical-align: top;\n",
              "    }\n",
              "\n",
              "    .dataframe thead th {\n",
              "        text-align: right;\n",
              "    }\n",
              "</style>\n",
              "<table border=\"1\" class=\"dataframe\">\n",
              "  <thead>\n",
              "    <tr style=\"text-align: right;\">\n",
              "      <th></th>\n",
              "      <th>review</th>\n",
              "      <th>sentiment</th>\n",
              "    </tr>\n",
              "  </thead>\n",
              "  <tbody>\n",
              "    <tr>\n",
              "      <th>0</th>\n",
              "      <td>In 1974, the teenager Martha Moxley (Maggie Gr...</td>\n",
              "      <td>pos</td>\n",
              "    </tr>\n",
              "    <tr>\n",
              "      <th>1</th>\n",
              "      <td>OK... so... I really like Kris Kristofferson a...</td>\n",
              "      <td>neg</td>\n",
              "    </tr>\n",
              "    <tr>\n",
              "      <th>2</th>\n",
              "      <td>***SPOILER*** Do not read this, if you think a...</td>\n",
              "      <td>neg</td>\n",
              "    </tr>\n",
              "    <tr>\n",
              "      <th>3</th>\n",
              "      <td>hi for all the people who have seen this wonde...</td>\n",
              "      <td>pos</td>\n",
              "    </tr>\n",
              "    <tr>\n",
              "      <th>4</th>\n",
              "      <td>I recently bought the DVD, forgetting just how...</td>\n",
              "      <td>neg</td>\n",
              "    </tr>\n",
              "  </tbody>\n",
              "</table>\n",
              "</div>\n",
              "      <button class=\"colab-df-convert\" onclick=\"convertToInteractive('df-30ec5c8c-96ad-4752-a370-86c1b97a6428')\"\n",
              "              title=\"Convert this dataframe to an interactive table.\"\n",
              "              style=\"display:none;\">\n",
              "        \n",
              "  <svg xmlns=\"http://www.w3.org/2000/svg\" height=\"24px\"viewBox=\"0 0 24 24\"\n",
              "       width=\"24px\">\n",
              "    <path d=\"M0 0h24v24H0V0z\" fill=\"none\"/>\n",
              "    <path d=\"M18.56 5.44l.94 2.06.94-2.06 2.06-.94-2.06-.94-.94-2.06-.94 2.06-2.06.94zm-11 1L8.5 8.5l.94-2.06 2.06-.94-2.06-.94L8.5 2.5l-.94 2.06-2.06.94zm10 10l.94 2.06.94-2.06 2.06-.94-2.06-.94-.94-2.06-.94 2.06-2.06.94z\"/><path d=\"M17.41 7.96l-1.37-1.37c-.4-.4-.92-.59-1.43-.59-.52 0-1.04.2-1.43.59L10.3 9.45l-7.72 7.72c-.78.78-.78 2.05 0 2.83L4 21.41c.39.39.9.59 1.41.59.51 0 1.02-.2 1.41-.59l7.78-7.78 2.81-2.81c.8-.78.8-2.07 0-2.86zM5.41 20L4 18.59l7.72-7.72 1.47 1.35L5.41 20z\"/>\n",
              "  </svg>\n",
              "      </button>\n",
              "      \n",
              "  <style>\n",
              "    .colab-df-container {\n",
              "      display:flex;\n",
              "      flex-wrap:wrap;\n",
              "      gap: 12px;\n",
              "    }\n",
              "\n",
              "    .colab-df-convert {\n",
              "      background-color: #E8F0FE;\n",
              "      border: none;\n",
              "      border-radius: 50%;\n",
              "      cursor: pointer;\n",
              "      display: none;\n",
              "      fill: #1967D2;\n",
              "      height: 32px;\n",
              "      padding: 0 0 0 0;\n",
              "      width: 32px;\n",
              "    }\n",
              "\n",
              "    .colab-df-convert:hover {\n",
              "      background-color: #E2EBFA;\n",
              "      box-shadow: 0px 1px 2px rgba(60, 64, 67, 0.3), 0px 1px 3px 1px rgba(60, 64, 67, 0.15);\n",
              "      fill: #174EA6;\n",
              "    }\n",
              "\n",
              "    [theme=dark] .colab-df-convert {\n",
              "      background-color: #3B4455;\n",
              "      fill: #D2E3FC;\n",
              "    }\n",
              "\n",
              "    [theme=dark] .colab-df-convert:hover {\n",
              "      background-color: #434B5C;\n",
              "      box-shadow: 0px 1px 3px 1px rgba(0, 0, 0, 0.15);\n",
              "      filter: drop-shadow(0px 1px 2px rgba(0, 0, 0, 0.3));\n",
              "      fill: #FFFFFF;\n",
              "    }\n",
              "  </style>\n",
              "\n",
              "      <script>\n",
              "        const buttonEl =\n",
              "          document.querySelector('#df-30ec5c8c-96ad-4752-a370-86c1b97a6428 button.colab-df-convert');\n",
              "        buttonEl.style.display =\n",
              "          google.colab.kernel.accessAllowed ? 'block' : 'none';\n",
              "\n",
              "        async function convertToInteractive(key) {\n",
              "          const element = document.querySelector('#df-30ec5c8c-96ad-4752-a370-86c1b97a6428');\n",
              "          const dataTable =\n",
              "            await google.colab.kernel.invokeFunction('convertToInteractive',\n",
              "                                                     [key], {});\n",
              "          if (!dataTable) return;\n",
              "\n",
              "          const docLinkHtml = 'Like what you see? Visit the ' +\n",
              "            '<a target=\"_blank\" href=https://colab.research.google.com/notebooks/data_table.ipynb>data table notebook</a>'\n",
              "            + ' to learn more about interactive tables.';\n",
              "          element.innerHTML = '';\n",
              "          dataTable['output_type'] = 'display_data';\n",
              "          await google.colab.output.renderOutput(dataTable, element);\n",
              "          const docLink = document.createElement('div');\n",
              "          docLink.innerHTML = docLinkHtml;\n",
              "          element.appendChild(docLink);\n",
              "        }\n",
              "      </script>\n",
              "    </div>\n",
              "  </div>\n",
              "  "
            ]
          },
          "metadata": {},
          "execution_count": 2
        }
      ],
      "source": [
        "data_file = \"https://raw.githubusercontent.com/nirmalie/CM4107/main/movie_data_cat.csv\"\n",
        "df = pd.read_csv(data_file,  encoding='utf-8')\n",
        "\n",
        "# load the two datasets we will explore and lets see the shape of them\n",
        "print(\"df1 shape: \", df.shape)\n",
        "df.head(5)\n"
      ]
    },
    {
      "cell_type": "markdown",
      "source": [
        "## 1.1  clean & investigate the data\n",
        "\n",
        "We have to start by mapping the class labels properly - we can also see what a 0 or 1 represent once we have mapped them."
      ],
      "metadata": {
        "id": "0O4x1zsO0Htn"
      }
    },
    {
      "cell_type": "code",
      "execution_count": 3,
      "metadata": {
        "id": "Xpd0pZYK4ncl",
        "colab": {
          "base_uri": "https://localhost:8080/",
          "height": 225
        },
        "outputId": "0f9c3519-6d81-4b55-e6a2-e51d25e3a445"
      },
      "outputs": [
        {
          "output_type": "stream",
          "name": "stdout",
          "text": [
            "class_mapping: {'neg': 0, 'pos': 1}\n"
          ]
        },
        {
          "output_type": "execute_result",
          "data": {
            "text/plain": [
              "                                              review  sentiment\n",
              "0  In 1974, the teenager Martha Moxley (Maggie Gr...          1\n",
              "1  OK... so... I really like Kris Kristofferson a...          0\n",
              "2  ***SPOILER*** Do not read this, if you think a...          0\n",
              "3  hi for all the people who have seen this wonde...          1\n",
              "4  I recently bought the DVD, forgetting just how...          0"
            ],
            "text/html": [
              "\n",
              "  <div id=\"df-67a90f55-5841-4c2e-b30e-404f4d36fd9d\">\n",
              "    <div class=\"colab-df-container\">\n",
              "      <div>\n",
              "<style scoped>\n",
              "    .dataframe tbody tr th:only-of-type {\n",
              "        vertical-align: middle;\n",
              "    }\n",
              "\n",
              "    .dataframe tbody tr th {\n",
              "        vertical-align: top;\n",
              "    }\n",
              "\n",
              "    .dataframe thead th {\n",
              "        text-align: right;\n",
              "    }\n",
              "</style>\n",
              "<table border=\"1\" class=\"dataframe\">\n",
              "  <thead>\n",
              "    <tr style=\"text-align: right;\">\n",
              "      <th></th>\n",
              "      <th>review</th>\n",
              "      <th>sentiment</th>\n",
              "    </tr>\n",
              "  </thead>\n",
              "  <tbody>\n",
              "    <tr>\n",
              "      <th>0</th>\n",
              "      <td>In 1974, the teenager Martha Moxley (Maggie Gr...</td>\n",
              "      <td>1</td>\n",
              "    </tr>\n",
              "    <tr>\n",
              "      <th>1</th>\n",
              "      <td>OK... so... I really like Kris Kristofferson a...</td>\n",
              "      <td>0</td>\n",
              "    </tr>\n",
              "    <tr>\n",
              "      <th>2</th>\n",
              "      <td>***SPOILER*** Do not read this, if you think a...</td>\n",
              "      <td>0</td>\n",
              "    </tr>\n",
              "    <tr>\n",
              "      <th>3</th>\n",
              "      <td>hi for all the people who have seen this wonde...</td>\n",
              "      <td>1</td>\n",
              "    </tr>\n",
              "    <tr>\n",
              "      <th>4</th>\n",
              "      <td>I recently bought the DVD, forgetting just how...</td>\n",
              "      <td>0</td>\n",
              "    </tr>\n",
              "  </tbody>\n",
              "</table>\n",
              "</div>\n",
              "      <button class=\"colab-df-convert\" onclick=\"convertToInteractive('df-67a90f55-5841-4c2e-b30e-404f4d36fd9d')\"\n",
              "              title=\"Convert this dataframe to an interactive table.\"\n",
              "              style=\"display:none;\">\n",
              "        \n",
              "  <svg xmlns=\"http://www.w3.org/2000/svg\" height=\"24px\"viewBox=\"0 0 24 24\"\n",
              "       width=\"24px\">\n",
              "    <path d=\"M0 0h24v24H0V0z\" fill=\"none\"/>\n",
              "    <path d=\"M18.56 5.44l.94 2.06.94-2.06 2.06-.94-2.06-.94-.94-2.06-.94 2.06-2.06.94zm-11 1L8.5 8.5l.94-2.06 2.06-.94-2.06-.94L8.5 2.5l-.94 2.06-2.06.94zm10 10l.94 2.06.94-2.06 2.06-.94-2.06-.94-.94-2.06-.94 2.06-2.06.94z\"/><path d=\"M17.41 7.96l-1.37-1.37c-.4-.4-.92-.59-1.43-.59-.52 0-1.04.2-1.43.59L10.3 9.45l-7.72 7.72c-.78.78-.78 2.05 0 2.83L4 21.41c.39.39.9.59 1.41.59.51 0 1.02-.2 1.41-.59l7.78-7.78 2.81-2.81c.8-.78.8-2.07 0-2.86zM5.41 20L4 18.59l7.72-7.72 1.47 1.35L5.41 20z\"/>\n",
              "  </svg>\n",
              "      </button>\n",
              "      \n",
              "  <style>\n",
              "    .colab-df-container {\n",
              "      display:flex;\n",
              "      flex-wrap:wrap;\n",
              "      gap: 12px;\n",
              "    }\n",
              "\n",
              "    .colab-df-convert {\n",
              "      background-color: #E8F0FE;\n",
              "      border: none;\n",
              "      border-radius: 50%;\n",
              "      cursor: pointer;\n",
              "      display: none;\n",
              "      fill: #1967D2;\n",
              "      height: 32px;\n",
              "      padding: 0 0 0 0;\n",
              "      width: 32px;\n",
              "    }\n",
              "\n",
              "    .colab-df-convert:hover {\n",
              "      background-color: #E2EBFA;\n",
              "      box-shadow: 0px 1px 2px rgba(60, 64, 67, 0.3), 0px 1px 3px 1px rgba(60, 64, 67, 0.15);\n",
              "      fill: #174EA6;\n",
              "    }\n",
              "\n",
              "    [theme=dark] .colab-df-convert {\n",
              "      background-color: #3B4455;\n",
              "      fill: #D2E3FC;\n",
              "    }\n",
              "\n",
              "    [theme=dark] .colab-df-convert:hover {\n",
              "      background-color: #434B5C;\n",
              "      box-shadow: 0px 1px 3px 1px rgba(0, 0, 0, 0.15);\n",
              "      filter: drop-shadow(0px 1px 2px rgba(0, 0, 0, 0.3));\n",
              "      fill: #FFFFFF;\n",
              "    }\n",
              "  </style>\n",
              "\n",
              "      <script>\n",
              "        const buttonEl =\n",
              "          document.querySelector('#df-67a90f55-5841-4c2e-b30e-404f4d36fd9d button.colab-df-convert');\n",
              "        buttonEl.style.display =\n",
              "          google.colab.kernel.accessAllowed ? 'block' : 'none';\n",
              "\n",
              "        async function convertToInteractive(key) {\n",
              "          const element = document.querySelector('#df-67a90f55-5841-4c2e-b30e-404f4d36fd9d');\n",
              "          const dataTable =\n",
              "            await google.colab.kernel.invokeFunction('convertToInteractive',\n",
              "                                                     [key], {});\n",
              "          if (!dataTable) return;\n",
              "\n",
              "          const docLinkHtml = 'Like what you see? Visit the ' +\n",
              "            '<a target=\"_blank\" href=https://colab.research.google.com/notebooks/data_table.ipynb>data table notebook</a>'\n",
              "            + ' to learn more about interactive tables.';\n",
              "          element.innerHTML = '';\n",
              "          dataTable['output_type'] = 'display_data';\n",
              "          await google.colab.output.renderOutput(dataTable, element);\n",
              "          const docLink = document.createElement('div');\n",
              "          docLink.innerHTML = docLinkHtml;\n",
              "          element.appendChild(docLink);\n",
              "        }\n",
              "      </script>\n",
              "    </div>\n",
              "  </div>\n",
              "  "
            ]
          },
          "metadata": {},
          "execution_count": 3
        }
      ],
      "source": [
        "# this is the whole dataset for the final models and results to be built on\n",
        "\n",
        "class_mapping = {label:idx for idx,label in enumerate(np.unique(df['sentiment']))}\n",
        "\n",
        "print(\"class_mapping:\" , class_mapping)\n",
        "\n",
        "# turn 'neg' and 'pos' into 0 or 1\n",
        "\n",
        "df['sentiment'] = df['sentiment'].map(class_mapping)\n",
        "df.head()"
      ]
    },
    {
      "cell_type": "markdown",
      "source": [
        "* Create a pre-processor that can remove all the fluff from the review.\n",
        "\n",
        "* Download the stop words and assign 'stop' to them.\n",
        "\n",
        "* Create two tokenizer methods- \n",
        "  * simply create tokens \n",
        "  * stemm the word then create tokens\n",
        "  "
      ],
      "metadata": {
        "id": "S4w3znht0e-n"
      }
    },
    {
      "cell_type": "code",
      "execution_count": 4,
      "metadata": {
        "colab": {
          "base_uri": "https://localhost:8080/"
        },
        "id": "objP3nH3aZX4",
        "outputId": "054720f8-ac16-4535-aa1d-0030d30f6673"
      },
      "outputs": [
        {
          "output_type": "stream",
          "name": "stdout",
          "text": [
            "Number of stopwords: 179\n"
          ]
        },
        {
          "output_type": "stream",
          "name": "stderr",
          "text": [
            "[nltk_data] Downloading package stopwords to /root/nltk_data...\n",
            "[nltk_data]   Unzipping corpora/stopwords.zip.\n"
          ]
        }
      ],
      "source": [
        "import re\n",
        "def preprocessor(text):\n",
        "    text = re.sub('<[^>]*>', '', text) # remove all html markup ; re.sub(A, B, C) will Replace A with B in the string C.\n",
        "    emoticons = re.findall('(?::|;|=)(?:-)?(?:\\)|\\(|D|P)', text) # findall the emoticons re.findall(A, B) | Matches all instances of an expression A in a string B and returns them in a list.\n",
        "    \n",
        "    # remove the non-word chars '[\\W]+'\n",
        "    # append the emoticons to end \n",
        "    # convert all to lowercase\n",
        "    # remove nose char for consistency\n",
        "    text = (re.sub('[\\W]+', ' ', text.lower()) +\n",
        "            ' '.join(emoticons).replace('-', '')) \n",
        "    return text\n",
        "\n",
        "nltk.download('stopwords')\n",
        "#get the english stopwords\n",
        "stop = set(stopwords.words('english'))\n",
        "print(\"Number of stopwords:\", len(stop))\n",
        "\n",
        "stemmer = SnowballStemmer(\"english\")\n",
        "\n",
        "def tokenizer(text):\n",
        "       return text.split()\n",
        " \n",
        "\n",
        "def tokenizer_stemmer(text):\n",
        "    return [stemmer.stem(word) for word in tokenizer(text)]\n"
      ]
    },
    {
      "cell_type": "code",
      "execution_count": 5,
      "metadata": {
        "id": "k3x8ZKONaN9f"
      },
      "outputs": [],
      "source": [
        "from sklearn.preprocessing import FunctionTransformer\n",
        "\n",
        "def text_cleanup(X, lowercase):  #lowercase: True to convert to lowercase or False to leave case as they are\n",
        "    # print('in text_cleanup...')\n",
        "    # print('lowercase:', lowercase)\n",
        "    XX = np.copy(X)  # get copy of the data\n",
        "    for index, text in enumerate(XX):\n",
        "        text = re.sub('<[^>]*>', '', text) # remove all html markup ; re.sub(A, B, C) will Replace A with B in the string C.\n",
        "        emoticons = re.findall('(?::|;|=)(?:-)?(?:\\)|\\(|D|P)', text) # findall the emoticons re.findall(A, B) | Matches all instances of an expression A in a string B and returns them in a list.\n",
        "        \n",
        "        # remove the non-word chars '[\\W]+'\n",
        "        # append the emoticons to end \n",
        "        # conditionally convert all to lowercase\n",
        "        # remove nose char for consistency\n",
        "        if lowercase:\n",
        "            text = text.lower()\n",
        "        text = (re.sub('[\\W]+', ' ', text) +\n",
        "                ' '.join(emoticons).replace('-', ''))\n",
        "        XX[index] = text\n",
        "\n",
        "    return XX\n",
        "\n",
        "\n",
        "#creating text_cleanup object using FunctionTransformer\n",
        "text_cleanup_preprocessor = FunctionTransformer(text_cleanup, kw_args={'lowercase': True})"
      ]
    },
    {
      "cell_type": "markdown",
      "source": [
        "### 1.1.1 investigate preprocessing steps\n",
        "\n",
        "Lets see how these tokenisers work.\n",
        "\n",
        "We have to push the preprocessor through FunctionTransformer so that it can be used within our pipeline."
      ],
      "metadata": {
        "id": "b1gPkRuU15St"
      }
    },
    {
      "cell_type": "code",
      "source": [
        "temp_item = \"this movie is so bad i couldnt help but fall asleep it was worse than being in a lecture while you have had 0 hours of sleep and want to learn the topic\"\n",
        "clean_me = [\"OMG ;) THIS MOVIE <>??? WAS INSAN333 there were so many cool ^-^ scenes :}@@£$\"]\n",
        "print(text_cleanup(clean_me, lowercase=True))\n",
        "print(text_cleanup(clean_me, lowercase=False))\n",
        "print(tokenizer(temp_item))\n",
        "print(tokenizer_stemmer(temp_item))"
      ],
      "metadata": {
        "colab": {
          "base_uri": "https://localhost:8080/"
        },
        "id": "8SMqfH0k1RbL",
        "outputId": "9aa231aa-3078-4d0c-be46-ccf18e997169"
      },
      "execution_count": 139,
      "outputs": [
        {
          "output_type": "stream",
          "name": "stdout",
          "text": [
            "['omg this movie was insan333 there were so many cool scenes ;)']\n",
            "['OMG THIS MOVIE WAS INSAN333 there were so many cool scenes ;)']\n",
            "['this', 'movie', 'is', 'so', 'bad', 'i', 'couldnt', 'help', 'but', 'fall', 'asleep', 'it', 'was', 'worse', 'than', 'being', 'in', 'a', 'lecture', 'while', 'you', 'have', 'had', '0', 'hours', 'of', 'sleep', 'and', 'want', 'to', 'learn', 'the', 'topic']\n",
            "['this', 'movi', 'is', 'so', 'bad', 'i', 'couldnt', 'help', 'but', 'fall', 'asleep', 'it', 'was', 'wors', 'than', 'be', 'in', 'a', 'lectur', 'while', 'you', 'have', 'had', '0', 'hour', 'of', 'sleep', 'and', 'want', 'to', 'learn', 'the', 'topic']\n"
          ]
        }
      ]
    },
    {
      "cell_type": "markdown",
      "source": [
        "### 1.1.2 more processing\n",
        "\n",
        "Lets get a smaller amount of data - training will be less accurate but the dataset pre-processing should be sufficient / correlate with larger datasets."
      ],
      "metadata": {
        "id": "Yz9153WV3KmK"
      }
    },
    {
      "cell_type": "code",
      "source": [
        "smaller_df = df.sample(frac=0.09, replace=False, random_state=1)\n",
        "# remove the HTML and punctuation to speed up text processing\n",
        "\n",
        "smaller_df['review'] = smaller_df['review'].apply(preprocessor)\n",
        "\n",
        "X = smaller_df.loc[:, \"review\"].values\n",
        "y = smaller_df.loc[:, \"sentiment\"].values\n",
        "\n",
        "X_train, X_test, y_train, y_test = train_test_split(X, y, \n",
        "                                                          random_state=42,\n",
        "                                                          test_size=0.30, # 30% for testing\n",
        "                                                          stratify=y)\n",
        "print(\"Sample of Training data:\", X_train.shape)\n",
        "print(\"Sample of Test data:\", X_test.shape)"
      ],
      "metadata": {
        "colab": {
          "base_uri": "https://localhost:8080/"
        },
        "id": "iAOQ2vJWWYuL",
        "outputId": "96071af6-ac48-4127-e2b0-56a82e75c1d8"
      },
      "execution_count": 6,
      "outputs": [
        {
          "output_type": "stream",
          "name": "stdout",
          "text": [
            "Sample of Training data: (3150,)\n",
            "Sample of Test data: (1350,)\n"
          ]
        }
      ]
    },
    {
      "cell_type": "markdown",
      "source": [
        "## 1.2 Dataset visualisations\n",
        "\n",
        "Lets see what the dataset looks like, we can clean the data manually here or call preprocessor and then lets see the total size.\n",
        "\n",
        "We also want to see the average words per feature and how the label distrubution is."
      ],
      "metadata": {
        "id": "oU5jrQap3wub"
      }
    },
    {
      "cell_type": "code",
      "source": [
        "df=pd.DataFrame(X_train, columns=['review'])\n",
        "df.head()\n",
        "VOCAB_SIZE = set(df['review'].str.replace('[^a-zA-Z ]', '').str.lower().str.split(' ').sum())\n",
        "print(\"Vocabulary approx size: \")\n",
        "len(VOCAB_SIZE)"
      ],
      "metadata": {
        "id": "HX1-g_yofHul",
        "colab": {
          "base_uri": "https://localhost:8080/"
        },
        "outputId": "6b52b5df-f720-42e1-ae4d-f9fc36425af0"
      },
      "execution_count": 7,
      "outputs": [
        {
          "output_type": "stream",
          "name": "stderr",
          "text": [
            "<ipython-input-7-7789f635b4e5>:3: FutureWarning: The default value of regex will change from True to False in a future version.\n",
            "  VOCAB_SIZE = set(df['review'].str.replace('[^a-zA-Z ]', '').str.lower().str.split(' ').sum())\n"
          ]
        },
        {
          "output_type": "stream",
          "name": "stdout",
          "text": [
            "Vocabulary approx size: \n"
          ]
        },
        {
          "output_type": "execute_result",
          "data": {
            "text/plain": [
              "31085"
            ]
          },
          "metadata": {},
          "execution_count": 7
        }
      ]
    },
    {
      "cell_type": "code",
      "source": [
        "# lets see the length of the reviews\n",
        "from matplotlib import pyplot\n",
        "\n",
        "# Summarize review length\n",
        "print(\"Review length: \")\n",
        "result = [len(x) for x in df.review]\n",
        "print(\"Mean %.2f words (%f) in a review\" % (np.mean(result), np.std(result)))\n",
        "\n",
        "AVG_REVIEW_LEN = np.mean(result)\n",
        "\n",
        "# plot review length\n",
        "pyplot.boxplot(result)\n",
        "pyplot.show()"
      ],
      "metadata": {
        "id": "pKAQNcGTelSh",
        "colab": {
          "base_uri": "https://localhost:8080/",
          "height": 302
        },
        "outputId": "c07074d5-7f3d-4287-8827-9cce0532092d"
      },
      "execution_count": 8,
      "outputs": [
        {
          "output_type": "stream",
          "name": "stdout",
          "text": [
            "Review length: \n",
            "Mean 1266.97 words (958.829856) in a review\n"
          ]
        },
        {
          "output_type": "display_data",
          "data": {
            "text/plain": [
              "<Figure size 432x288 with 1 Axes>"
            ],
            "image/png": "[encoded data removed]"
          },
          "metadata": {
            "needs_background": "light"
          }
        }
      ]
    },
    {
      "cell_type": "code",
      "source": [
        "# Import the Counter class from the collections module and the matplotlib library.\n",
        "from collections import Counter\n",
        "import matplotlib.pyplot as plt\n",
        "\n",
        "# The data points and the labels in your X_train dataset.\n",
        "\n",
        "# Calculate the label distribution in the X_train dataset using the Counter class.\n",
        "label_distribution = Counter(y_train)\n",
        "# Print the label distribution.\n",
        "print(label_distribution)\n",
        "# Output: Counter({1: 5, 0: 5})\n",
        "\n",
        "# Graph the label distribution using the matplotlib library.\n",
        "plt.bar(label_distribution.keys(), label_distribution.values(), color=['red', 'green'])\n",
        "plt.xticks([0, 1])\n",
        "plt.xlabel('Labels')\n",
        "plt.ylabel('Frequency')\n",
        "plt.show()\n"
      ],
      "metadata": {
        "colab": {
          "base_uri": "https://localhost:8080/",
          "height": 297
        },
        "id": "6NdxAtyLPxSK",
        "outputId": "f7bdc072-58b9-4e87-b990-16285f803402"
      },
      "execution_count": 9,
      "outputs": [
        {
          "output_type": "stream",
          "name": "stdout",
          "text": [
            "Counter({0: 1604, 1: 1546})\n"
          ]
        },
        {
          "output_type": "display_data",
          "data": {
            "text/plain": [
              "<Figure size 432x288 with 1 Axes>"
            ],
            "image/png": "[encoded data removed]"
          },
          "metadata": {
            "needs_background": "light"
          }
        }
      ]
    },
    {
      "cell_type": "markdown",
      "source": [
        "Here is an inital look into the distrubution of labels in the dataset - shows that there is a slight imbalance of around 50 labels\n",
        "\n",
        "And the previous graph shows the average length - some variance there too, however we use CV folds to help mitigate the issues some training instances might have with highly imbalanced or varied training data."
      ],
      "metadata": {
        "id": "vqrpnWL8fufq"
      }
    },
    {
      "cell_type": "code",
      "source": [
        "print(X_train[1])\n",
        "print(y_train[1])\n",
        "\n",
        "print(X_train[3])\n",
        "print(y_train[3])"
      ],
      "metadata": {
        "colab": {
          "base_uri": "https://localhost:8080/"
        },
        "id": "6pwNRGuq76G2",
        "outputId": "21928686-4a55-468b-a2ff-52181ab5feaa"
      },
      "execution_count": 140,
      "outputs": [
        {
          "output_type": "stream",
          "name": "stdout",
          "text": [
            "ok so the following review is more of a synopsis more so than really containing any spoilers but better safe than sorry so as to avoid being blacklisted right right consider yourselves officially warned and read on in this parody tribute to the greatest time in horror movie history the 1980 s a group of stupid teens are getting together to host a seance in the house of the notorious murder mcgee who butchered his entire family a few years back and buried them in the back yard as i m sure you can guess things go from bad to worse faster than you can say where s the beef and in typical 80 s horror movie fashion the deaths are bloody the dialogue is cheesy and beautiful women are taking off their clothes every chance they get good times no clique or 80 s horror movie clichéd characterizations are left unrepresented here in fact no stone was left unturned at all we have the cool hero his innocent girlfriend the goth chick the tough thug think john bender the hot blonde who keeps losing her shirt the shy dork in love with the hot blonde that keeps losing her shirt a couple of gorgeous half naked lesbians and two big geeks as you can plainly see the cast is pretty big usually larger casts are where things can fall apart quickly with one or two sour apples buggering up the whole barrel not in this case though not a single cast member left me disappointed the acting was very well done everyone from the cool hero in his thriller jacket played by jovan meredith to the grooovy goth chick played by renee dorian to geeks one two played by cory assink jonathan brett they all played it straight brought their a game and knocked it out of the park if you re a fan of gary wyatt in weird science you ll immediately fall in love with the geeks director co writer jeff c smith is a guy to watch for in the future trust me on this if this is what he can do with a low budget there are nothing but good things ahead for him when he gets more money for future projects the characters were dead on the atmosphere was perfect the laughs were huge the blood flowed and squirted and sprayed beautifully it was just like watching a horror movie from the 1980 s call this one the breakfast club meets night of the demons the tag line says it all and says it honestly excessive violence gratuitous nudity zero budget no false advertising here folks as fans of this genre we have to look to the indies and support these hard working folks who are busting their humps out there bringing us original tales lest we forever get stuck in a world filled with big studio watered down pg 13 horror or pointless remakes like the hitcher no thank you no more of that for me in closing i honestly have to say that stupid teenagers must die is by far one of the best indie flicks i ve gotten the pleasure of watching this year it s a bloody good time and holds up on repeat viewings from the dialogue to the characters to the wardrobe even the closing love theme over the end credits which if that doesn t bring back fits of laughter recalling mid 80 s power ballads by reo speedwagon over pronounced r s on every word starting with the letter r then i ll eat my dvd right now bottom line is if you re a fan of 80 s horror or horror in general no more hesitation this flick deserves to be in your collection \n",
            "1\n",
            "i love columbo and have seen pretty much all of the episodes but this one undoubtedly ranks as the worst of the lot a mind bogglingly tedious pointless muddled pile of unwatchable drivel that wastes both the time of the viewing audience and of the acting talents of an exceedingly bored looking peter falk the plot such as it is just seems to be made up as the film goes along with not even the slightest hint of the ingredients to the formula that made the show such a brilliant success to start with one part of the proceedings which i found extremely puzzling or possibly annoying was peter falk s character being introduced to the guests at the wedding as lt columbo if the producers insist on keeping columbo s first name a secret why couldn t they have omitted this line altogether as it sounds ridiculous like i said this is the pits and all true columbo fans would do well to avoid it like the plague \n",
            "0\n"
          ]
        }
      ]
    },
    {
      "cell_type": "markdown",
      "source": [
        "### 1.2.1 Coolest visualisation in the class?\n",
        "\n",
        "Lets createa a cool visualisation to see what some of the words for a positive and negative feature look like."
      ],
      "metadata": {
        "id": "B9zu-d2n4STM"
      }
    },
    {
      "cell_type": "code",
      "source": [
        "from wordcloud import WordCloud,STOPWORDS\n",
        "import matplotlib.pyplot as plt\n",
        "\n",
        "plt.figure(figsize=(10,10))\n",
        "for i in range (50):\n",
        "  if y_train[i] == 1:\n",
        "    positive_text=X_train[i]\n",
        "\n",
        "WC=WordCloud(width=1000,height=500,max_words=500,min_font_size=5)\n",
        "positive_words=WC.generate(positive_text)\n",
        "plt.imshow(positive_words,interpolation='bilinear')\n",
        "plt.title(\"Positive words from a training instance\")\n",
        "plt.show\n",
        "\n",
        "from wordcloud import WordCloud,STOPWORDS\n",
        "import matplotlib.pyplot as plt\n",
        "\n",
        "plt.figure(figsize=(10,10))\n",
        "for x in range (50):\n",
        "  if y_train[x] == 0:\n",
        "    negative_text=X_train[x]\n",
        "\n",
        "WC=WordCloud(width=1000,height=500,max_words=500,min_font_size=5)\n",
        "positive_words=WC.generate(negative_text)\n",
        "plt.imshow(positive_words,interpolation='bilinear')\n",
        "plt.title(\"Negative words from a training instance\")\n",
        "\n",
        "plt.show"
      ],
      "metadata": {
        "colab": {
          "base_uri": "https://localhost:8080/",
          "height": 687
        },
        "id": "88nAQHgNux0H",
        "outputId": "35b2e82d-6441-462b-9018-402d958e12b5"
      },
      "execution_count": 141,
      "outputs": [
        {
          "output_type": "execute_result",
          "data": {
            "text/plain": [
              "<function matplotlib.pyplot.show(*args, **kw)>"
            ]
          },
          "metadata": {},
          "execution_count": 141
        },
        {
          "output_type": "display_data",
          "data": {
            "text/plain": [
              "<Figure size 720x720 with 1 Axes>"
            ],
            "image/png": "[encoded data removed]"
          },
          "metadata": {}
        },
        {
          "output_type": "display_data",
          "data": {
            "text/plain": [
              "<Figure size 720x720 with 1 Axes>"
            ],
            "image/png": "[encoded data removed]"
          },
          "metadata": {}
        }
      ]
    },
    {
      "cell_type": "markdown",
      "source": [
        "The above is a wordcloud of two different sentiments one positive one negative, this can give us an idea of how a model could learn certain patterns or words to determine sentiment from patterns. \n",
        "\n",
        "**Obviously we dont train just on words as we have to vectorise the data**"
      ],
      "metadata": {
        "id": "tzQCQfoEeZtE"
      }
    },
    {
      "cell_type": "markdown",
      "source": [
        "# 2.0 Create inital pipeline\n",
        "\n",
        "Lets create a pipeline so that we can perform a gridsearch to find the most optimal pre-processing parameters - these will vary from model to model so I have to be cautious."
      ],
      "metadata": {
        "id": "cxBhezsc5GJm"
      }
    },
    {
      "cell_type": "code",
      "execution_count": null,
      "metadata": {
        "id": "xE_PnS2mabmL"
      },
      "outputs": [],
      "source": [
        "param_grid = [{\n",
        "    'vect__ngram_range': [(1,1),(1,2)], # extract 2-grams of words in addition to the 1-grams (1 word vs 2 word combos)\n",
        "    'vect__tokenizer': [tokenizer, tokenizer_stemmer], # a tokeniser and the stemmer \n",
        "    'vect__stop_words': [stop, None], # use the stop dictionary of stopwords or not\n",
        "    'tcp__kw_args': [{'lowercase': True}, {'lowercase': False}]  # case insensitive or not parameters for our custom transformer\n",
        "  }]\n",
        "\n",
        "#Sentiment classification with a neural net\n",
        "pipe_ = Pipeline([\n",
        "                  ('tcp', text_cleanup_preprocessor),\n",
        "                  ('vect', TfidfVectorizer()),\n",
        "                  ('clf', MultinomialNB(alpha=1.0, class_prior=None))\n",
        "  ])\n",
        "                \n",
        "grid_senti = GridSearchCV(pipe_, param_grid,\n",
        "                           scoring='accuracy',\n",
        "                           cv=5,\n",
        "                           verbose=1,\n",
        "                           n_jobs=1) \n",
        "\n",
        "grid_senti.fit(X_train, y_train)"
      ]
    },
    {
      "cell_type": "code",
      "execution_count": 16,
      "metadata": {
        "id": "49Q-ji20bBiG",
        "colab": {
          "base_uri": "https://localhost:8080/"
        },
        "outputId": "c5f3e792-490c-4b1f-bb77-40ef0cf18402"
      },
      "outputs": [
        {
          "output_type": "stream",
          "name": "stdout",
          "text": [
            "best parameters are:  {'tcp__kw_args': {'lowercase': True}, 'vect__ngram_range': (1, 2), 'vect__stop_words': {'being', \"aren't\", 'below', 'them', 'then', 'she', 'under', 'here', 'having', 'above', 'other', 'some', 'any', 'haven', 'ma', 'our', 'while', 'whom', 'am', 'doesn', 'he', 'few', 'which', 'so', \"it's\", 'where', 's', \"you'd\", 'you', 'couldn', 'shouldn', 'out', 'an', \"mightn't\", 'once', 'but', 'such', \"she's\", 'ourselves', 'herself', 'itself', 'shan', \"needn't\", 'be', \"hasn't\", \"wouldn't\", 'because', 'the', 'don', 'doing', 'about', \"you'll\", \"should've\", \"haven't\", 'had', 't', 'of', 'aren', 'me', 'yourself', 'ours', 'has', 'when', \"shouldn't\", \"don't\", 'just', \"didn't\", 'wasn', 'between', 'its', 'again', 'ain', 'mightn', 've', \"wasn't\", 'or', \"you've\", 'during', 'll', 'this', 'more', 'off', 'against', 'there', 'your', 'at', 'y', 'mustn', 'further', 'my', 'needn', 'theirs', 'these', 'most', 'than', 'were', 'now', \"couldn't\", 'weren', 'himself', 'into', 'both', 'hadn', 'yourselves', 'i', 'how', 'did', 'on', 'for', 'to', 'they', 'does', 'up', 'all', 'have', 're', 'it', 'been', 'why', 'can', 'm', 'd', 'his', 'too', \"that'll\", 'hasn', 'is', 'as', 'myself', \"weren't\", 'from', 'over', 'who', 'not', 'wouldn', 'didn', \"won't\", 'we', 'in', 'those', 'should', 'him', 'and', \"hadn't\", 'themselves', 'her', 'by', 'that', 'their', 'own', 'down', \"doesn't\", 'very', 'with', 'hers', 'are', \"shan't\", 'was', 'until', 'nor', 'do', \"isn't\", 'isn', 'if', \"you're\", 'each', 'no', 'will', 'what', 'o', 'yours', 'same', \"mustn't\", 'a', 'before', 'after', 'through', 'only', 'won'}, 'vect__tokenizer': <function tokenizer_stemmer at 0x7fcae03925e0>}\n",
            "Best score is:  0.8234920634920636\n",
            "(3150,)\n",
            "Test accuracy from the model is:  0.825925925925926\n"
          ]
        }
      ],
      "source": [
        "print('best parameters are: ', grid_senti.best_params_)\n",
        "print(\"Best score is: \", grid_senti.best_score_)\n",
        "best_ver = grid_senti.best_estimator_\n",
        "print(X_train.shape)\n",
        "print(\"Test accuracy from the model is: \", best_ver.score(X_test, y_test))"
      ]
    },
    {
      "cell_type": "markdown",
      "source": [
        "## 2.1 More pipelines & parameters\n",
        "\n",
        "This is a good start however we can further tune these paremter searches to find other more optimal results. \n",
        "\n",
        "It must be pointed out we only used 5 cross-validation splits."
      ],
      "metadata": {
        "id": "BN-m5ajc5jGH"
      }
    },
    {
      "cell_type": "markdown",
      "source": [
        "1. ngram_range best = (1,2) {unigrams + bigrams)\n",
        "2. lowercase = true \n",
        "3. tokenizer + stemmer is best\n",
        "\n",
        "However, we have to be warey here - lets see the whole classification report. It must be noted .best_score_ from the above gridsearch uses the average of the 5-folds.\n",
        "\n",
        "Lets investigate what affect other parameters have, specifically parameteres that limit the amount of words (dimension reduction) that are allowed into the vectorizor. ie: min and max df and max_features."
      ],
      "metadata": {
        "id": "4CuSo2yy_NbU"
      }
    },
    {
      "cell_type": "code",
      "source": [
        "param_grid0 = [{\n",
        "    'vect__ngram_range': [(1,2)], # extract 2-grams of words in addition to the 1-grams (1 word vs 2 word combos)\n",
        "    'vect__tokenizer': [tokenizer_stemmer], # a tokeniser and the stemmer \n",
        "    'vect__stop_words': [stop], # use the stop dictionary of stopwords or not\n",
        "    'vect__max_features': (500, 1000, None), # a vocabulary that only consider the top max_features ordered by term frequency\n",
        "    'vect__min_df': (7, 10), # ignore terms that have a document frequency strictly lower than )\n",
        "    'vect__max_df': (0.75, 0.95),\n",
        "    'tcp__kw_args': [{'lowercase': False}],  # case insensitive or not parameters for our custom transformer\n",
        "  }]\n",
        "\n",
        "\n",
        "pipeline0 = Pipeline([\n",
        "                  ('tcp', text_cleanup_preprocessor),\n",
        "                  ('vect', TfidfVectorizer()),\n",
        "                  ('clf',  MultinomialNB(alpha=1.0, class_prior=None))\n",
        "\n",
        "  ])\n",
        "\n",
        "grid_senti0 = GridSearchCV(pipeline0, param_grid0,\n",
        "                           scoring='accuracy',\n",
        "                           cv=5,\n",
        "                           verbose=1,\n",
        "                           n_jobs=1)\n",
        "grid_senti0.fit(X_train, y_train)\n"
      ],
      "metadata": {
        "colab": {
          "base_uri": "https://localhost:8080/"
        },
        "id": "R0HhW53Nbl8J",
        "outputId": "5ffd46cb-a859-415d-dae8-6a948952add9"
      },
      "execution_count": 143,
      "outputs": [
        {
          "output_type": "stream",
          "name": "stdout",
          "text": [
            "Fitting 5 folds for each of 12 candidates, totalling 60 fits\n"
          ]
        },
        {
          "output_type": "stream",
          "name": "stderr",
          "text": [
            "/usr/local/lib/python3.8/dist-packages/sklearn/feature_extraction/text.py:396: UserWarning: Your stop_words may be inconsistent with your preprocessing. Tokenizing the stop words generated tokens ['abov', 'ani', 'becaus', 'befor', 'doe', 'dure', 'onc', 'onli', 'ourselv', \"should'v\", 'themselv', 'veri', 'whi', \"you'r\", \"you'v\", 'yourselv'] not in stop_words.\n",
            "  warnings.warn(\n",
            "/usr/local/lib/python3.8/dist-packages/sklearn/feature_extraction/text.py:396: UserWarning: Your stop_words may be inconsistent with your preprocessing. Tokenizing the stop words generated tokens ['abov', 'ani', 'becaus', 'befor', 'doe', 'dure', 'onc', 'onli', 'ourselv', \"should'v\", 'themselv', 'veri', 'whi', \"you'r\", \"you'v\", 'yourselv'] not in stop_words.\n",
            "  warnings.warn(\n",
            "/usr/local/lib/python3.8/dist-packages/sklearn/feature_extraction/text.py:396: UserWarning: Your stop_words may be inconsistent with your preprocessing. Tokenizing the stop words generated tokens ['abov', 'ani', 'becaus', 'befor', 'doe', 'dure', 'onc', 'onli', 'ourselv', \"should'v\", 'themselv', 'veri', 'whi', \"you'r\", \"you'v\", 'yourselv'] not in stop_words.\n",
            "  warnings.warn(\n",
            "/usr/local/lib/python3.8/dist-packages/sklearn/feature_extraction/text.py:396: UserWarning: Your stop_words may be inconsistent with your preprocessing. Tokenizing the stop words generated tokens ['abov', 'ani', 'becaus', 'befor', 'doe', 'dure', 'onc', 'onli', 'ourselv', \"should'v\", 'themselv', 'veri', 'whi', \"you'r\", \"you'v\", 'yourselv'] not in stop_words.\n",
            "  warnings.warn(\n",
            "/usr/local/lib/python3.8/dist-packages/sklearn/feature_extraction/text.py:396: UserWarning: Your stop_words may be inconsistent with your preprocessing. Tokenizing the stop words generated tokens ['abov', 'ani', 'becaus', 'befor', 'doe', 'dure', 'onc', 'onli', 'ourselv', \"should'v\", 'themselv', 'veri', 'whi', \"you'r\", \"you'v\", 'yourselv'] not in stop_words.\n",
            "  warnings.warn(\n",
            "/usr/local/lib/python3.8/dist-packages/sklearn/feature_extraction/text.py:396: UserWarning: Your stop_words may be inconsistent with your preprocessing. Tokenizing the stop words generated tokens ['abov', 'ani', 'becaus', 'befor', 'doe', 'dure', 'onc', 'onli', 'ourselv', \"should'v\", 'themselv', 'veri', 'whi', \"you'r\", \"you'v\", 'yourselv'] not in stop_words.\n",
            "  warnings.warn(\n",
            "/usr/local/lib/python3.8/dist-packages/sklearn/feature_extraction/text.py:396: UserWarning: Your stop_words may be inconsistent with your preprocessing. Tokenizing the stop words generated tokens ['abov', 'ani', 'becaus', 'befor', 'doe', 'dure', 'onc', 'onli', 'ourselv', \"should'v\", 'themselv', 'veri', 'whi', \"you'r\", \"you'v\", 'yourselv'] not in stop_words.\n",
            "  warnings.warn(\n",
            "/usr/local/lib/python3.8/dist-packages/sklearn/feature_extraction/text.py:396: UserWarning: Your stop_words may be inconsistent with your preprocessing. Tokenizing the stop words generated tokens ['abov', 'ani', 'becaus', 'befor', 'doe', 'dure', 'onc', 'onli', 'ourselv', \"should'v\", 'themselv', 'veri', 'whi', \"you'r\", \"you'v\", 'yourselv'] not in stop_words.\n",
            "  warnings.warn(\n",
            "/usr/local/lib/python3.8/dist-packages/sklearn/feature_extraction/text.py:396: UserWarning: Your stop_words may be inconsistent with your preprocessing. Tokenizing the stop words generated tokens ['abov', 'ani', 'becaus', 'befor', 'doe', 'dure', 'onc', 'onli', 'ourselv', \"should'v\", 'themselv', 'veri', 'whi', \"you'r\", \"you'v\", 'yourselv'] not in stop_words.\n",
            "  warnings.warn(\n",
            "/usr/local/lib/python3.8/dist-packages/sklearn/feature_extraction/text.py:396: UserWarning: Your stop_words may be inconsistent with your preprocessing. Tokenizing the stop words generated tokens ['abov', 'ani', 'becaus', 'befor', 'doe', 'dure', 'onc', 'onli', 'ourselv', \"should'v\", 'themselv', 'veri', 'whi', \"you'r\", \"you'v\", 'yourselv'] not in stop_words.\n",
            "  warnings.warn(\n",
            "/usr/local/lib/python3.8/dist-packages/sklearn/feature_extraction/text.py:396: UserWarning: Your stop_words may be inconsistent with your preprocessing. Tokenizing the stop words generated tokens ['abov', 'ani', 'becaus', 'befor', 'doe', 'dure', 'onc', 'onli', 'ourselv', \"should'v\", 'themselv', 'veri', 'whi', \"you'r\", \"you'v\", 'yourselv'] not in stop_words.\n",
            "  warnings.warn(\n",
            "/usr/local/lib/python3.8/dist-packages/sklearn/feature_extraction/text.py:396: UserWarning: Your stop_words may be inconsistent with your preprocessing. Tokenizing the stop words generated tokens ['abov', 'ani', 'becaus', 'befor', 'doe', 'dure', 'onc', 'onli', 'ourselv', \"should'v\", 'themselv', 'veri', 'whi', \"you'r\", \"you'v\", 'yourselv'] not in stop_words.\n",
            "  warnings.warn(\n",
            "/usr/local/lib/python3.8/dist-packages/sklearn/feature_extraction/text.py:396: UserWarning: Your stop_words may be inconsistent with your preprocessing. Tokenizing the stop words generated tokens ['abov', 'ani', 'becaus', 'befor', 'doe', 'dure', 'onc', 'onli', 'ourselv', \"should'v\", 'themselv', 'veri', 'whi', \"you'r\", \"you'v\", 'yourselv'] not in stop_words.\n",
            "  warnings.warn(\n",
            "/usr/local/lib/python3.8/dist-packages/sklearn/feature_extraction/text.py:396: UserWarning: Your stop_words may be inconsistent with your preprocessing. Tokenizing the stop words generated tokens ['abov', 'ani', 'becaus', 'befor', 'doe', 'dure', 'onc', 'onli', 'ourselv', \"should'v\", 'themselv', 'veri', 'whi', \"you'r\", \"you'v\", 'yourselv'] not in stop_words.\n",
            "  warnings.warn(\n",
            "/usr/local/lib/python3.8/dist-packages/sklearn/feature_extraction/text.py:396: UserWarning: Your stop_words may be inconsistent with your preprocessing. Tokenizing the stop words generated tokens ['abov', 'ani', 'becaus', 'befor', 'doe', 'dure', 'onc', 'onli', 'ourselv', \"should'v\", 'themselv', 'veri', 'whi', \"you'r\", \"you'v\", 'yourselv'] not in stop_words.\n",
            "  warnings.warn(\n",
            "/usr/local/lib/python3.8/dist-packages/sklearn/feature_extraction/text.py:396: UserWarning: Your stop_words may be inconsistent with your preprocessing. Tokenizing the stop words generated tokens ['abov', 'ani', 'becaus', 'befor', 'doe', 'dure', 'onc', 'onli', 'ourselv', \"should'v\", 'themselv', 'veri', 'whi', \"you'r\", \"you'v\", 'yourselv'] not in stop_words.\n",
            "  warnings.warn(\n",
            "/usr/local/lib/python3.8/dist-packages/sklearn/feature_extraction/text.py:396: UserWarning: Your stop_words may be inconsistent with your preprocessing. Tokenizing the stop words generated tokens ['abov', 'ani', 'becaus', 'befor', 'doe', 'dure', 'onc', 'onli', 'ourselv', \"should'v\", 'themselv', 'veri', 'whi', \"you'r\", \"you'v\", 'yourselv'] not in stop_words.\n",
            "  warnings.warn(\n",
            "/usr/local/lib/python3.8/dist-packages/sklearn/feature_extraction/text.py:396: UserWarning: Your stop_words may be inconsistent with your preprocessing. Tokenizing the stop words generated tokens ['abov', 'ani', 'becaus', 'befor', 'doe', 'dure', 'onc', 'onli', 'ourselv', \"should'v\", 'themselv', 'veri', 'whi', \"you'r\", \"you'v\", 'yourselv'] not in stop_words.\n",
            "  warnings.warn(\n",
            "/usr/local/lib/python3.8/dist-packages/sklearn/feature_extraction/text.py:396: UserWarning: Your stop_words may be inconsistent with your preprocessing. Tokenizing the stop words generated tokens ['abov', 'ani', 'becaus', 'befor', 'doe', 'dure', 'onc', 'onli', 'ourselv', \"should'v\", 'themselv', 'veri', 'whi', \"you'r\", \"you'v\", 'yourselv'] not in stop_words.\n",
            "  warnings.warn(\n",
            "/usr/local/lib/python3.8/dist-packages/sklearn/feature_extraction/text.py:396: UserWarning: Your stop_words may be inconsistent with your preprocessing. Tokenizing the stop words generated tokens ['abov', 'ani', 'becaus', 'befor', 'doe', 'dure', 'onc', 'onli', 'ourselv', \"should'v\", 'themselv', 'veri', 'whi', \"you'r\", \"you'v\", 'yourselv'] not in stop_words.\n",
            "  warnings.warn(\n",
            "/usr/local/lib/python3.8/dist-packages/sklearn/feature_extraction/text.py:396: UserWarning: Your stop_words may be inconsistent with your preprocessing. Tokenizing the stop words generated tokens ['abov', 'ani', 'becaus', 'befor', 'doe', 'dure', 'onc', 'onli', 'ourselv', \"should'v\", 'themselv', 'veri', 'whi', \"you'r\", \"you'v\", 'yourselv'] not in stop_words.\n",
            "  warnings.warn(\n",
            "/usr/local/lib/python3.8/dist-packages/sklearn/feature_extraction/text.py:396: UserWarning: Your stop_words may be inconsistent with your preprocessing. Tokenizing the stop words generated tokens ['abov', 'ani', 'becaus', 'befor', 'doe', 'dure', 'onc', 'onli', 'ourselv', \"should'v\", 'themselv', 'veri', 'whi', \"you'r\", \"you'v\", 'yourselv'] not in stop_words.\n",
            "  warnings.warn(\n",
            "/usr/local/lib/python3.8/dist-packages/sklearn/feature_extraction/text.py:396: UserWarning: Your stop_words may be inconsistent with your preprocessing. Tokenizing the stop words generated tokens ['abov', 'ani', 'becaus', 'befor', 'doe', 'dure', 'onc', 'onli', 'ourselv', \"should'v\", 'themselv', 'veri', 'whi', \"you'r\", \"you'v\", 'yourselv'] not in stop_words.\n",
            "  warnings.warn(\n",
            "/usr/local/lib/python3.8/dist-packages/sklearn/feature_extraction/text.py:396: UserWarning: Your stop_words may be inconsistent with your preprocessing. Tokenizing the stop words generated tokens ['abov', 'ani', 'becaus', 'befor', 'doe', 'dure', 'onc', 'onli', 'ourselv', \"should'v\", 'themselv', 'veri', 'whi', \"you'r\", \"you'v\", 'yourselv'] not in stop_words.\n",
            "  warnings.warn(\n",
            "/usr/local/lib/python3.8/dist-packages/sklearn/feature_extraction/text.py:396: UserWarning: Your stop_words may be inconsistent with your preprocessing. Tokenizing the stop words generated tokens ['abov', 'ani', 'becaus', 'befor', 'doe', 'dure', 'onc', 'onli', 'ourselv', \"should'v\", 'themselv', 'veri', 'whi', \"you'r\", \"you'v\", 'yourselv'] not in stop_words.\n",
            "  warnings.warn(\n",
            "/usr/local/lib/python3.8/dist-packages/sklearn/feature_extraction/text.py:396: UserWarning: Your stop_words may be inconsistent with your preprocessing. Tokenizing the stop words generated tokens ['abov', 'ani', 'becaus', 'befor', 'doe', 'dure', 'onc', 'onli', 'ourselv', \"should'v\", 'themselv', 'veri', 'whi', \"you'r\", \"you'v\", 'yourselv'] not in stop_words.\n",
            "  warnings.warn(\n",
            "/usr/local/lib/python3.8/dist-packages/sklearn/feature_extraction/text.py:396: UserWarning: Your stop_words may be inconsistent with your preprocessing. Tokenizing the stop words generated tokens ['abov', 'ani', 'becaus', 'befor', 'doe', 'dure', 'onc', 'onli', 'ourselv', \"should'v\", 'themselv', 'veri', 'whi', \"you'r\", \"you'v\", 'yourselv'] not in stop_words.\n",
            "  warnings.warn(\n",
            "/usr/local/lib/python3.8/dist-packages/sklearn/feature_extraction/text.py:396: UserWarning: Your stop_words may be inconsistent with your preprocessing. Tokenizing the stop words generated tokens ['abov', 'ani', 'becaus', 'befor', 'doe', 'dure', 'onc', 'onli', 'ourselv', \"should'v\", 'themselv', 'veri', 'whi', \"you'r\", \"you'v\", 'yourselv'] not in stop_words.\n",
            "  warnings.warn(\n",
            "/usr/local/lib/python3.8/dist-packages/sklearn/feature_extraction/text.py:396: UserWarning: Your stop_words may be inconsistent with your preprocessing. Tokenizing the stop words generated tokens ['abov', 'ani', 'becaus', 'befor', 'doe', 'dure', 'onc', 'onli', 'ourselv', \"should'v\", 'themselv', 'veri', 'whi', \"you'r\", \"you'v\", 'yourselv'] not in stop_words.\n",
            "  warnings.warn(\n",
            "/usr/local/lib/python3.8/dist-packages/sklearn/feature_extraction/text.py:396: UserWarning: Your stop_words may be inconsistent with your preprocessing. Tokenizing the stop words generated tokens ['abov', 'ani', 'becaus', 'befor', 'doe', 'dure', 'onc', 'onli', 'ourselv', \"should'v\", 'themselv', 'veri', 'whi', \"you'r\", \"you'v\", 'yourselv'] not in stop_words.\n",
            "  warnings.warn(\n",
            "/usr/local/lib/python3.8/dist-packages/sklearn/feature_extraction/text.py:396: UserWarning: Your stop_words may be inconsistent with your preprocessing. Tokenizing the stop words generated tokens ['abov', 'ani', 'becaus', 'befor', 'doe', 'dure', 'onc', 'onli', 'ourselv', \"should'v\", 'themselv', 'veri', 'whi', \"you'r\", \"you'v\", 'yourselv'] not in stop_words.\n",
            "  warnings.warn(\n",
            "/usr/local/lib/python3.8/dist-packages/sklearn/feature_extraction/text.py:396: UserWarning: Your stop_words may be inconsistent with your preprocessing. Tokenizing the stop words generated tokens ['abov', 'ani', 'becaus', 'befor', 'doe', 'dure', 'onc', 'onli', 'ourselv', \"should'v\", 'themselv', 'veri', 'whi', \"you'r\", \"you'v\", 'yourselv'] not in stop_words.\n",
            "  warnings.warn(\n",
            "/usr/local/lib/python3.8/dist-packages/sklearn/feature_extraction/text.py:396: UserWarning: Your stop_words may be inconsistent with your preprocessing. Tokenizing the stop words generated tokens ['abov', 'ani', 'becaus', 'befor', 'doe', 'dure', 'onc', 'onli', 'ourselv', \"should'v\", 'themselv', 'veri', 'whi', \"you'r\", \"you'v\", 'yourselv'] not in stop_words.\n",
            "  warnings.warn(\n",
            "/usr/local/lib/python3.8/dist-packages/sklearn/feature_extraction/text.py:396: UserWarning: Your stop_words may be inconsistent with your preprocessing. Tokenizing the stop words generated tokens ['abov', 'ani', 'becaus', 'befor', 'doe', 'dure', 'onc', 'onli', 'ourselv', \"should'v\", 'themselv', 'veri', 'whi', \"you'r\", \"you'v\", 'yourselv'] not in stop_words.\n",
            "  warnings.warn(\n",
            "/usr/local/lib/python3.8/dist-packages/sklearn/feature_extraction/text.py:396: UserWarning: Your stop_words may be inconsistent with your preprocessing. Tokenizing the stop words generated tokens ['abov', 'ani', 'becaus', 'befor', 'doe', 'dure', 'onc', 'onli', 'ourselv', \"should'v\", 'themselv', 'veri', 'whi', \"you'r\", \"you'v\", 'yourselv'] not in stop_words.\n",
            "  warnings.warn(\n",
            "/usr/local/lib/python3.8/dist-packages/sklearn/feature_extraction/text.py:396: UserWarning: Your stop_words may be inconsistent with your preprocessing. Tokenizing the stop words generated tokens ['abov', 'ani', 'becaus', 'befor', 'doe', 'dure', 'onc', 'onli', 'ourselv', \"should'v\", 'themselv', 'veri', 'whi', \"you'r\", \"you'v\", 'yourselv'] not in stop_words.\n",
            "  warnings.warn(\n",
            "/usr/local/lib/python3.8/dist-packages/sklearn/feature_extraction/text.py:396: UserWarning: Your stop_words may be inconsistent with your preprocessing. Tokenizing the stop words generated tokens ['abov', 'ani', 'becaus', 'befor', 'doe', 'dure', 'onc', 'onli', 'ourselv', \"should'v\", 'themselv', 'veri', 'whi', \"you'r\", \"you'v\", 'yourselv'] not in stop_words.\n",
            "  warnings.warn(\n",
            "/usr/local/lib/python3.8/dist-packages/sklearn/feature_extraction/text.py:396: UserWarning: Your stop_words may be inconsistent with your preprocessing. Tokenizing the stop words generated tokens ['abov', 'ani', 'becaus', 'befor', 'doe', 'dure', 'onc', 'onli', 'ourselv', \"should'v\", 'themselv', 'veri', 'whi', \"you'r\", \"you'v\", 'yourselv'] not in stop_words.\n",
            "  warnings.warn(\n",
            "/usr/local/lib/python3.8/dist-packages/sklearn/feature_extraction/text.py:396: UserWarning: Your stop_words may be inconsistent with your preprocessing. Tokenizing the stop words generated tokens ['abov', 'ani', 'becaus', 'befor', 'doe', 'dure', 'onc', 'onli', 'ourselv', \"should'v\", 'themselv', 'veri', 'whi', \"you'r\", \"you'v\", 'yourselv'] not in stop_words.\n",
            "  warnings.warn(\n",
            "/usr/local/lib/python3.8/dist-packages/sklearn/feature_extraction/text.py:396: UserWarning: Your stop_words may be inconsistent with your preprocessing. Tokenizing the stop words generated tokens ['abov', 'ani', 'becaus', 'befor', 'doe', 'dure', 'onc', 'onli', 'ourselv', \"should'v\", 'themselv', 'veri', 'whi', \"you'r\", \"you'v\", 'yourselv'] not in stop_words.\n",
            "  warnings.warn(\n",
            "/usr/local/lib/python3.8/dist-packages/sklearn/feature_extraction/text.py:396: UserWarning: Your stop_words may be inconsistent with your preprocessing. Tokenizing the stop words generated tokens ['abov', 'ani', 'becaus', 'befor', 'doe', 'dure', 'onc', 'onli', 'ourselv', \"should'v\", 'themselv', 'veri', 'whi', \"you'r\", \"you'v\", 'yourselv'] not in stop_words.\n",
            "  warnings.warn(\n",
            "/usr/local/lib/python3.8/dist-packages/sklearn/feature_extraction/text.py:396: UserWarning: Your stop_words may be inconsistent with your preprocessing. Tokenizing the stop words generated tokens ['abov', 'ani', 'becaus', 'befor', 'doe', 'dure', 'onc', 'onli', 'ourselv', \"should'v\", 'themselv', 'veri', 'whi', \"you'r\", \"you'v\", 'yourselv'] not in stop_words.\n",
            "  warnings.warn(\n",
            "/usr/local/lib/python3.8/dist-packages/sklearn/feature_extraction/text.py:396: UserWarning: Your stop_words may be inconsistent with your preprocessing. Tokenizing the stop words generated tokens ['abov', 'ani', 'becaus', 'befor', 'doe', 'dure', 'onc', 'onli', 'ourselv', \"should'v\", 'themselv', 'veri', 'whi', \"you'r\", \"you'v\", 'yourselv'] not in stop_words.\n",
            "  warnings.warn(\n",
            "/usr/local/lib/python3.8/dist-packages/sklearn/feature_extraction/text.py:396: UserWarning: Your stop_words may be inconsistent with your preprocessing. Tokenizing the stop words generated tokens ['abov', 'ani', 'becaus', 'befor', 'doe', 'dure', 'onc', 'onli', 'ourselv', \"should'v\", 'themselv', 'veri', 'whi', \"you'r\", \"you'v\", 'yourselv'] not in stop_words.\n",
            "  warnings.warn(\n",
            "/usr/local/lib/python3.8/dist-packages/sklearn/feature_extraction/text.py:396: UserWarning: Your stop_words may be inconsistent with your preprocessing. Tokenizing the stop words generated tokens ['abov', 'ani', 'becaus', 'befor', 'doe', 'dure', 'onc', 'onli', 'ourselv', \"should'v\", 'themselv', 'veri', 'whi', \"you'r\", \"you'v\", 'yourselv'] not in stop_words.\n",
            "  warnings.warn(\n",
            "/usr/local/lib/python3.8/dist-packages/sklearn/feature_extraction/text.py:396: UserWarning: Your stop_words may be inconsistent with your preprocessing. Tokenizing the stop words generated tokens ['abov', 'ani', 'becaus', 'befor', 'doe', 'dure', 'onc', 'onli', 'ourselv', \"should'v\", 'themselv', 'veri', 'whi', \"you'r\", \"you'v\", 'yourselv'] not in stop_words.\n",
            "  warnings.warn(\n",
            "/usr/local/lib/python3.8/dist-packages/sklearn/feature_extraction/text.py:396: UserWarning: Your stop_words may be inconsistent with your preprocessing. Tokenizing the stop words generated tokens ['abov', 'ani', 'becaus', 'befor', 'doe', 'dure', 'onc', 'onli', 'ourselv', \"should'v\", 'themselv', 'veri', 'whi', \"you'r\", \"you'v\", 'yourselv'] not in stop_words.\n",
            "  warnings.warn(\n",
            "/usr/local/lib/python3.8/dist-packages/sklearn/feature_extraction/text.py:396: UserWarning: Your stop_words may be inconsistent with your preprocessing. Tokenizing the stop words generated tokens ['abov', 'ani', 'becaus', 'befor', 'doe', 'dure', 'onc', 'onli', 'ourselv', \"should'v\", 'themselv', 'veri', 'whi', \"you'r\", \"you'v\", 'yourselv'] not in stop_words.\n",
            "  warnings.warn(\n",
            "/usr/local/lib/python3.8/dist-packages/sklearn/feature_extraction/text.py:396: UserWarning: Your stop_words may be inconsistent with your preprocessing. Tokenizing the stop words generated tokens ['abov', 'ani', 'becaus', 'befor', 'doe', 'dure', 'onc', 'onli', 'ourselv', \"should'v\", 'themselv', 'veri', 'whi', \"you'r\", \"you'v\", 'yourselv'] not in stop_words.\n",
            "  warnings.warn(\n",
            "/usr/local/lib/python3.8/dist-packages/sklearn/feature_extraction/text.py:396: UserWarning: Your stop_words may be inconsistent with your preprocessing. Tokenizing the stop words generated tokens ['abov', 'ani', 'becaus', 'befor', 'doe', 'dure', 'onc', 'onli', 'ourselv', \"should'v\", 'themselv', 'veri', 'whi', \"you'r\", \"you'v\", 'yourselv'] not in stop_words.\n",
            "  warnings.warn(\n",
            "/usr/local/lib/python3.8/dist-packages/sklearn/feature_extraction/text.py:396: UserWarning: Your stop_words may be inconsistent with your preprocessing. Tokenizing the stop words generated tokens ['abov', 'ani', 'becaus', 'befor', 'doe', 'dure', 'onc', 'onli', 'ourselv', \"should'v\", 'themselv', 'veri', 'whi', \"you'r\", \"you'v\", 'yourselv'] not in stop_words.\n",
            "  warnings.warn(\n",
            "/usr/local/lib/python3.8/dist-packages/sklearn/feature_extraction/text.py:396: UserWarning: Your stop_words may be inconsistent with your preprocessing. Tokenizing the stop words generated tokens ['abov', 'ani', 'becaus', 'befor', 'doe', 'dure', 'onc', 'onli', 'ourselv', \"should'v\", 'themselv', 'veri', 'whi', \"you'r\", \"you'v\", 'yourselv'] not in stop_words.\n",
            "  warnings.warn(\n",
            "/usr/local/lib/python3.8/dist-packages/sklearn/feature_extraction/text.py:396: UserWarning: Your stop_words may be inconsistent with your preprocessing. Tokenizing the stop words generated tokens ['abov', 'ani', 'becaus', 'befor', 'doe', 'dure', 'onc', 'onli', 'ourselv', \"should'v\", 'themselv', 'veri', 'whi', \"you'r\", \"you'v\", 'yourselv'] not in stop_words.\n",
            "  warnings.warn(\n",
            "/usr/local/lib/python3.8/dist-packages/sklearn/feature_extraction/text.py:396: UserWarning: Your stop_words may be inconsistent with your preprocessing. Tokenizing the stop words generated tokens ['abov', 'ani', 'becaus', 'befor', 'doe', 'dure', 'onc', 'onli', 'ourselv', \"should'v\", 'themselv', 'veri', 'whi', \"you'r\", \"you'v\", 'yourselv'] not in stop_words.\n",
            "  warnings.warn(\n",
            "/usr/local/lib/python3.8/dist-packages/sklearn/feature_extraction/text.py:396: UserWarning: Your stop_words may be inconsistent with your preprocessing. Tokenizing the stop words generated tokens ['abov', 'ani', 'becaus', 'befor', 'doe', 'dure', 'onc', 'onli', 'ourselv', \"should'v\", 'themselv', 'veri', 'whi', \"you'r\", \"you'v\", 'yourselv'] not in stop_words.\n",
            "  warnings.warn(\n",
            "/usr/local/lib/python3.8/dist-packages/sklearn/feature_extraction/text.py:396: UserWarning: Your stop_words may be inconsistent with your preprocessing. Tokenizing the stop words generated tokens ['abov', 'ani', 'becaus', 'befor', 'doe', 'dure', 'onc', 'onli', 'ourselv', \"should'v\", 'themselv', 'veri', 'whi', \"you'r\", \"you'v\", 'yourselv'] not in stop_words.\n",
            "  warnings.warn(\n",
            "/usr/local/lib/python3.8/dist-packages/sklearn/feature_extraction/text.py:396: UserWarning: Your stop_words may be inconsistent with your preprocessing. Tokenizing the stop words generated tokens ['abov', 'ani', 'becaus', 'befor', 'doe', 'dure', 'onc', 'onli', 'ourselv', \"should'v\", 'themselv', 'veri', 'whi', \"you'r\", \"you'v\", 'yourselv'] not in stop_words.\n",
            "  warnings.warn(\n",
            "/usr/local/lib/python3.8/dist-packages/sklearn/feature_extraction/text.py:396: UserWarning: Your stop_words may be inconsistent with your preprocessing. Tokenizing the stop words generated tokens ['abov', 'ani', 'becaus', 'befor', 'doe', 'dure', 'onc', 'onli', 'ourselv', \"should'v\", 'themselv', 'veri', 'whi', \"you'r\", \"you'v\", 'yourselv'] not in stop_words.\n",
            "  warnings.warn(\n",
            "/usr/local/lib/python3.8/dist-packages/sklearn/feature_extraction/text.py:396: UserWarning: Your stop_words may be inconsistent with your preprocessing. Tokenizing the stop words generated tokens ['abov', 'ani', 'becaus', 'befor', 'doe', 'dure', 'onc', 'onli', 'ourselv', \"should'v\", 'themselv', 'veri', 'whi', \"you'r\", \"you'v\", 'yourselv'] not in stop_words.\n",
            "  warnings.warn(\n",
            "/usr/local/lib/python3.8/dist-packages/sklearn/feature_extraction/text.py:396: UserWarning: Your stop_words may be inconsistent with your preprocessing. Tokenizing the stop words generated tokens ['abov', 'ani', 'becaus', 'befor', 'doe', 'dure', 'onc', 'onli', 'ourselv', \"should'v\", 'themselv', 'veri', 'whi', \"you'r\", \"you'v\", 'yourselv'] not in stop_words.\n",
            "  warnings.warn(\n",
            "/usr/local/lib/python3.8/dist-packages/sklearn/feature_extraction/text.py:396: UserWarning: Your stop_words may be inconsistent with your preprocessing. Tokenizing the stop words generated tokens ['abov', 'ani', 'becaus', 'befor', 'doe', 'dure', 'onc', 'onli', 'ourselv', \"should'v\", 'themselv', 'veri', 'whi', \"you'r\", \"you'v\", 'yourselv'] not in stop_words.\n",
            "  warnings.warn(\n"
          ]
        },
        {
          "output_type": "execute_result",
          "data": {
            "text/plain": [
              "GridSearchCV(cv=5,\n",
              "             estimator=Pipeline(steps=[('tcp',\n",
              "                                        FunctionTransformer(func=<function text_cleanup at 0x7fcae03929d0>,\n",
              "                                                            kw_args={'lowercase': True})),\n",
              "                                       ('vect', TfidfVectorizer()),\n",
              "                                       ('clf', MultinomialNB())]),\n",
              "             n_jobs=1,\n",
              "             param_grid=[{'tcp__kw_args': [{'lowercase': False}],\n",
              "                          'vect__max_df': (0.75, 0.95),\n",
              "                          'vect__max_features': (500, 1000, None),\n",
              "                          'vect__min_df': (7, 10),\n",
              "                          'vect__n...range': [(1, 2)],\n",
              "                          'vect__stop_words': [{'a', 'about', 'above', 'after',\n",
              "                                                'again', 'against', 'ain',\n",
              "                                                'all', 'am', 'an', 'and', 'any',\n",
              "                                                'are', 'aren', \"aren't\", 'as',\n",
              "                                                'at', 'be', 'because', 'been',\n",
              "                                                'before', 'being', 'below',\n",
              "                                                'between', 'both', 'but', 'by',\n",
              "                                                'can', 'couldn', \"couldn't\", ...}],\n",
              "                          'vect__tokenizer': [<function tokenizer_stemmer at 0x7fcae03925e0>]}],\n",
              "             scoring='accuracy', verbose=1)"
            ]
          },
          "metadata": {},
          "execution_count": 143
        }
      ]
    },
    {
      "cell_type": "code",
      "source": [
        "print('best parameters are: ', grid_senti0.best_params_)\n",
        "print(\"Best score is: \", grid_senti0.best_score_)\n",
        "best_ver0 = grid_senti0.best_estimator_\n",
        "\n",
        "print(\"Test accuracy from all the models test data is: \", best_ver0.score(X_test, y_test))\n"
      ],
      "metadata": {
        "colab": {
          "base_uri": "https://localhost:8080/"
        },
        "id": "DAeHu-lDAhuY",
        "outputId": "e2015a13-d6df-4807-c859-ca90a2c29ef9"
      },
      "execution_count": 144,
      "outputs": [
        {
          "output_type": "stream",
          "name": "stdout",
          "text": [
            "best parameters are:  {'tcp__kw_args': {'lowercase': False}, 'vect__max_df': 0.75, 'vect__max_features': None, 'vect__min_df': 7, 'vect__ngram_range': (1, 2), 'vect__stop_words': {'being', \"aren't\", 'below', 'them', 'then', 'she', 'under', 'here', 'having', 'above', 'other', 'some', 'any', 'haven', 'ma', 'our', 'while', 'whom', 'am', 'doesn', 'he', 'few', 'which', 'so', \"it's\", 'where', 's', \"you'd\", 'you', 'couldn', 'shouldn', 'out', 'an', \"mightn't\", 'once', 'but', 'such', \"she's\", 'ourselves', 'herself', 'itself', 'shan', \"needn't\", 'be', \"hasn't\", \"wouldn't\", 'because', 'the', 'don', 'doing', 'about', \"you'll\", \"should've\", \"haven't\", 'had', 't', 'of', 'aren', 'me', 'yourself', 'ours', 'has', 'when', \"shouldn't\", \"don't\", 'just', \"didn't\", 'wasn', 'between', 'its', 'again', 'ain', 'mightn', 've', \"wasn't\", 'or', \"you've\", 'during', 'll', 'this', 'more', 'off', 'against', 'there', 'your', 'at', 'y', 'mustn', 'further', 'my', 'needn', 'theirs', 'these', 'most', 'than', 'were', 'now', \"couldn't\", 'weren', 'himself', 'into', 'both', 'hadn', 'yourselves', 'i', 'how', 'did', 'on', 'for', 'to', 'they', 'does', 'up', 'all', 'have', 're', 'it', 'been', 'why', 'can', 'm', 'd', 'his', 'too', \"that'll\", 'hasn', 'is', 'as', 'myself', \"weren't\", 'from', 'over', 'who', 'not', 'wouldn', 'didn', \"won't\", 'we', 'in', 'those', 'should', 'him', 'and', \"hadn't\", 'themselves', 'her', 'by', 'that', 'their', 'own', 'down', \"doesn't\", 'very', 'with', 'hers', 'are', \"shan't\", 'was', 'until', 'nor', 'do', \"isn't\", 'isn', 'if', \"you're\", 'each', 'no', 'will', 'what', 'o', 'yours', 'same', \"mustn't\", 'a', 'before', 'after', 'through', 'only', 'won'}, 'vect__tokenizer': <function tokenizer_stemmer at 0x7fcae03925e0>}\n",
            "Best score is:  0.8507936507936508\n",
            "Test accuracy from all the models test data is:  0.8540740740740741\n"
          ]
        }
      ]
    },
    {
      "cell_type": "markdown",
      "source": [
        "GridSearch CV gets an average of all 5 scores lets use the cross_eval to see what values each fold had."
      ],
      "metadata": {
        "id": "lOq6iRTrPwBb"
      }
    },
    {
      "cell_type": "markdown",
      "source": [
        "## 2.2 SelectKbest paramtere tuning\n",
        "\n",
        "SelectKbest is capable of dimension reduction and it does this by selecting the \"K\" top features from a dataset.\n",
        "\n",
        "Lets inspect the effect this has on our model."
      ],
      "metadata": {
        "id": "yiNFI9mx59a_"
      }
    },
    {
      "cell_type": "code",
      "source": [
        "from sklearn.feature_selection import SelectKBest, chi2\n",
        "\n",
        "param_grid1 = [{\n",
        "    'vect__ngram_range': [(1,2)],\n",
        "    'vect__tokenizer': [tokenizer_stemmer], # a tokeniser and the stemmer \n",
        "    'vect__stop_words': [stop], # use the stop dictionary of stopwords or not\n",
        "    'tcp__kw_args': [{'lowercase': False}],\n",
        "    'chi__k' : [(50), (100), (250), (300)],\n",
        "}]\n",
        "\n",
        "pipeline1 = Pipeline([\n",
        "                  ('tcp', text_cleanup_preprocessor),\n",
        "                  ('vect', TfidfVectorizer(min_df=7, max_df=0.75)),\n",
        "                  ('chi', SelectKBest(chi2)),\n",
        "                  ('clf',  MultinomialNB(alpha=1.0, class_prior=None))\n",
        "\n",
        "  ])\n",
        "\n",
        "grid_senti1 = GridSearchCV(pipeline1, param_grid1,\n",
        "                           scoring='accuracy',\n",
        "                           cv=5,\n",
        "                           verbose=1,\n",
        "                           n_jobs=-1)"
      ],
      "metadata": {
        "id": "ngjbkuwjJRMV"
      },
      "execution_count": 145,
      "outputs": []
    },
    {
      "cell_type": "code",
      "source": [
        "grid_senti1.fit(X_train, y_train)\n",
        "print('best parameters are: ', grid_senti1.best_params_)\n",
        "print(\"Best score is: \", grid_senti1.best_score_)\n",
        "best_ver1 = grid_senti1.best_estimator_\n",
        "\n",
        "print(\"Test accuracy from all the models test data is: \", best_ver1.score(X_test, y_test))\n",
        "\n",
        "\n",
        "cv_results_df = pd.DataFrame(grid_senti1.cv_results_)\n",
        "print(cv_results_df[[\"param_chi__k\",\"mean_test_score\"]])"
      ],
      "metadata": {
        "colab": {
          "base_uri": "https://localhost:8080/"
        },
        "id": "qJR4KWPSXJRu",
        "outputId": "6258b685-3a02-460c-8aa3-534e28c86ddf"
      },
      "execution_count": 147,
      "outputs": [
        {
          "output_type": "stream",
          "name": "stdout",
          "text": [
            "Fitting 5 folds for each of 4 candidates, totalling 20 fits\n"
          ]
        },
        {
          "output_type": "stream",
          "name": "stderr",
          "text": [
            "/usr/local/lib/python3.8/dist-packages/sklearn/feature_extraction/text.py:396: UserWarning: Your stop_words may be inconsistent with your preprocessing. Tokenizing the stop words generated tokens ['abov', 'ani', 'becaus', 'befor', 'doe', 'dure', 'onc', 'onli', 'ourselv', \"should'v\", 'themselv', 'veri', 'whi', \"you'r\", \"you'v\", 'yourselv'] not in stop_words.\n",
            "  warnings.warn(\n"
          ]
        },
        {
          "output_type": "stream",
          "name": "stdout",
          "text": [
            "best parameters are:  {'chi__k': 250, 'tcp__kw_args': {'lowercase': False}, 'vect__ngram_range': (1, 2), 'vect__stop_words': {'being', \"aren't\", 'below', 'them', 'then', 'she', 'under', 'here', 'having', 'above', 'other', 'some', 'any', 'haven', 'ma', 'our', 'while', 'whom', 'am', 'doesn', 'he', 'few', 'which', 'so', \"it's\", 'where', 's', \"you'd\", 'you', 'couldn', 'shouldn', 'out', 'an', \"mightn't\", 'once', 'but', 'such', \"she's\", 'ourselves', 'herself', 'itself', 'shan', \"needn't\", 'be', \"hasn't\", \"wouldn't\", 'because', 'the', 'don', 'doing', 'about', \"you'll\", \"should've\", \"haven't\", 'had', 't', 'of', 'aren', 'me', 'yourself', 'ours', 'has', 'when', \"shouldn't\", \"don't\", 'just', \"didn't\", 'wasn', 'between', 'its', 'again', 'ain', 'mightn', 've', \"wasn't\", 'or', \"you've\", 'during', 'll', 'this', 'more', 'off', 'against', 'there', 'your', 'at', 'y', 'mustn', 'further', 'my', 'needn', 'theirs', 'these', 'most', 'than', 'were', 'now', \"couldn't\", 'weren', 'himself', 'into', 'both', 'hadn', 'yourselves', 'i', 'how', 'did', 'on', 'for', 'to', 'they', 'does', 'up', 'all', 'have', 're', 'it', 'been', 'why', 'can', 'm', 'd', 'his', 'too', \"that'll\", 'hasn', 'is', 'as', 'myself', \"weren't\", 'from', 'over', 'who', 'not', 'wouldn', 'didn', \"won't\", 'we', 'in', 'those', 'should', 'him', 'and', \"hadn't\", 'themselves', 'her', 'by', 'that', 'their', 'own', 'down', \"doesn't\", 'very', 'with', 'hers', 'are', \"shan't\", 'was', 'until', 'nor', 'do', \"isn't\", 'isn', 'if', \"you're\", 'each', 'no', 'will', 'what', 'o', 'yours', 'same', \"mustn't\", 'a', 'before', 'after', 'through', 'only', 'won'}, 'vect__tokenizer': <function tokenizer_stemmer at 0x7fcae03925e0>}\n",
            "Best score is:  0.8431746031746032\n",
            "Test accuracy from all the models test data is:  0.8318518518518518\n",
            "  param_chi__k  mean_test_score\n",
            "0           50         0.791746\n",
            "1          100         0.823175\n",
            "2          250         0.843175\n",
            "3          300         0.841587\n"
          ]
        }
      ]
    },
    {
      "cell_type": "markdown",
      "source": [
        "### 2.2.1 Investigate selectKbest results\n",
        "\n",
        "Lets see what is happeing with increasing kbest values."
      ],
      "metadata": {
        "id": "ST2QVqc36VLu"
      }
    },
    {
      "cell_type": "code",
      "source": [
        "# Import the necessary modules\n",
        "import matplotlib.pyplot as plt\n",
        "import seaborn as sns\n",
        "\n",
        "# Set the style for the visualizations\n",
        "sns.set_style(\"darkgrid\")\n",
        "\n",
        "# Extract the mean accuracy scores for each fold\n",
        "mean_accuracies = grid_senti1.cv_results_[\"mean_test_score\"]\n",
        "\n",
        "# Create a barplot of the mean accuracy scores for each fold\n",
        "sns.barplot(x=list(range(1, len(mean_accuracies)+1)), y=mean_accuracies)\n",
        "\n",
        "# Add labels and title to the plot\n",
        "plt.xlabel(\"\")\n",
        "plt.ylabel(\"Mean accuracy\")\n",
        "plt.title(\"Mean accuracy per fold\")\n",
        "\n",
        "# Show the plot\n",
        "plt.show()\n"
      ],
      "metadata": {
        "colab": {
          "base_uri": "https://localhost:8080/",
          "height": 281
        },
        "id": "xfxJYiUeV2Xm",
        "outputId": "c364e723-1438-446b-fdab-cf213e242daf"
      },
      "execution_count": 148,
      "outputs": [
        {
          "output_type": "display_data",
          "data": {
            "text/plain": [
              "<Figure size 432x288 with 1 Axes>"
            ],
            "image/png": "[encoded data removed]"
          },
          "metadata": {}
        }
      ]
    },
    {
      "cell_type": "code",
      "source": [
        "cv_all_results_df = pd.DataFrame(grid_senti1.cv_results_)\n",
        "feature_selection_results = cv_results_df[[\"param_chi__k\",\"mean_test_score\"]]\n",
        "feature_selection_results.plot.bar(y='mean_test_score', x=\"param_chi__k\", rot=0)\n",
        "ax = plt.gca()\n",
        "ax.legend(loc=\"lower left\")\n",
        "plt.show()"
      ],
      "metadata": {
        "colab": {
          "base_uri": "https://localhost:8080/",
          "height": 280
        },
        "id": "sZC4yyKGANG6",
        "outputId": "ad0a6da4-81a1-4afc-e765-21d9e048b562"
      },
      "execution_count": 149,
      "outputs": [
        {
          "output_type": "display_data",
          "data": {
            "text/plain": [
              "<Figure size 432x288 with 1 Axes>"
            ],
            "image/png": "[encoded data removed]"
          },
          "metadata": {}
        }
      ]
    },
    {
      "cell_type": "markdown",
      "source": [
        "k = 250 seems to give the highest accuracy with the current NB model."
      ],
      "metadata": {
        "id": "MPmgAmLmH_8q"
      }
    },
    {
      "cell_type": "code",
      "source": [
        "cross_val_score(best_ver1, X_train, y_train, cv=10)\n",
        "# lets see all the results from the folds, rather than just the average that best_score gives"
      ],
      "metadata": {
        "colab": {
          "base_uri": "https://localhost:8080/"
        },
        "id": "fDIfJxhLUc-X",
        "outputId": "99448c8a-3538-4e8e-956d-d4bdf5d41f85"
      },
      "execution_count": 150,
      "outputs": [
        {
          "output_type": "stream",
          "name": "stderr",
          "text": [
            "/usr/local/lib/python3.8/dist-packages/sklearn/feature_extraction/text.py:396: UserWarning: Your stop_words may be inconsistent with your preprocessing. Tokenizing the stop words generated tokens ['abov', 'ani', 'becaus', 'befor', 'doe', 'dure', 'onc', 'onli', 'ourselv', \"should'v\", 'themselv', 'veri', 'whi', \"you'r\", \"you'v\", 'yourselv'] not in stop_words.\n",
            "  warnings.warn(\n",
            "/usr/local/lib/python3.8/dist-packages/sklearn/feature_extraction/text.py:396: UserWarning: Your stop_words may be inconsistent with your preprocessing. Tokenizing the stop words generated tokens ['abov', 'ani', 'becaus', 'befor', 'doe', 'dure', 'onc', 'onli', 'ourselv', \"should'v\", 'themselv', 'veri', 'whi', \"you'r\", \"you'v\", 'yourselv'] not in stop_words.\n",
            "  warnings.warn(\n",
            "/usr/local/lib/python3.8/dist-packages/sklearn/feature_extraction/text.py:396: UserWarning: Your stop_words may be inconsistent with your preprocessing. Tokenizing the stop words generated tokens ['abov', 'ani', 'becaus', 'befor', 'doe', 'dure', 'onc', 'onli', 'ourselv', \"should'v\", 'themselv', 'veri', 'whi', \"you'r\", \"you'v\", 'yourselv'] not in stop_words.\n",
            "  warnings.warn(\n",
            "/usr/local/lib/python3.8/dist-packages/sklearn/feature_extraction/text.py:396: UserWarning: Your stop_words may be inconsistent with your preprocessing. Tokenizing the stop words generated tokens ['abov', 'ani', 'becaus', 'befor', 'doe', 'dure', 'onc', 'onli', 'ourselv', \"should'v\", 'themselv', 'veri', 'whi', \"you'r\", \"you'v\", 'yourselv'] not in stop_words.\n",
            "  warnings.warn(\n",
            "/usr/local/lib/python3.8/dist-packages/sklearn/feature_extraction/text.py:396: UserWarning: Your stop_words may be inconsistent with your preprocessing. Tokenizing the stop words generated tokens ['abov', 'ani', 'becaus', 'befor', 'doe', 'dure', 'onc', 'onli', 'ourselv', \"should'v\", 'themselv', 'veri', 'whi', \"you'r\", \"you'v\", 'yourselv'] not in stop_words.\n",
            "  warnings.warn(\n",
            "/usr/local/lib/python3.8/dist-packages/sklearn/feature_extraction/text.py:396: UserWarning: Your stop_words may be inconsistent with your preprocessing. Tokenizing the stop words generated tokens ['abov', 'ani', 'becaus', 'befor', 'doe', 'dure', 'onc', 'onli', 'ourselv', \"should'v\", 'themselv', 'veri', 'whi', \"you'r\", \"you'v\", 'yourselv'] not in stop_words.\n",
            "  warnings.warn(\n",
            "/usr/local/lib/python3.8/dist-packages/sklearn/feature_extraction/text.py:396: UserWarning: Your stop_words may be inconsistent with your preprocessing. Tokenizing the stop words generated tokens ['abov', 'ani', 'becaus', 'befor', 'doe', 'dure', 'onc', 'onli', 'ourselv', \"should'v\", 'themselv', 'veri', 'whi', \"you'r\", \"you'v\", 'yourselv'] not in stop_words.\n",
            "  warnings.warn(\n",
            "/usr/local/lib/python3.8/dist-packages/sklearn/feature_extraction/text.py:396: UserWarning: Your stop_words may be inconsistent with your preprocessing. Tokenizing the stop words generated tokens ['abov', 'ani', 'becaus', 'befor', 'doe', 'dure', 'onc', 'onli', 'ourselv', \"should'v\", 'themselv', 'veri', 'whi', \"you'r\", \"you'v\", 'yourselv'] not in stop_words.\n",
            "  warnings.warn(\n",
            "/usr/local/lib/python3.8/dist-packages/sklearn/feature_extraction/text.py:396: UserWarning: Your stop_words may be inconsistent with your preprocessing. Tokenizing the stop words generated tokens ['abov', 'ani', 'becaus', 'befor', 'doe', 'dure', 'onc', 'onli', 'ourselv', \"should'v\", 'themselv', 'veri', 'whi', \"you'r\", \"you'v\", 'yourselv'] not in stop_words.\n",
            "  warnings.warn(\n",
            "/usr/local/lib/python3.8/dist-packages/sklearn/feature_extraction/text.py:396: UserWarning: Your stop_words may be inconsistent with your preprocessing. Tokenizing the stop words generated tokens ['abov', 'ani', 'becaus', 'befor', 'doe', 'dure', 'onc', 'onli', 'ourselv', \"should'v\", 'themselv', 'veri', 'whi', \"you'r\", \"you'v\", 'yourselv'] not in stop_words.\n",
            "  warnings.warn(\n"
          ]
        },
        {
          "output_type": "execute_result",
          "data": {
            "text/plain": [
              "array([0.85079365, 0.86984127, 0.83174603, 0.84444444, 0.81269841,\n",
              "       0.86031746, 0.82539683, 0.85714286, 0.83809524, 0.86349206])"
            ]
          },
          "metadata": {},
          "execution_count": 150
        }
      ]
    },
    {
      "cell_type": "markdown",
      "source": [
        "With the crossvalscore function and the number of folds(cv=10) being larger here we can see some scores of higher values 86% but the average seems to be about what was expected given what best_score returned earlier."
      ],
      "metadata": {
        "id": "ONdtQk_QV9Vz"
      }
    },
    {
      "cell_type": "markdown",
      "source": [
        "## 2.3 Visualise the existing pipeline\n",
        "\n",
        "We can visualise the structure of the pipeline (how the processes are applied and in which order)"
      ],
      "metadata": {
        "id": "vljSliCZ6vyW"
      }
    },
    {
      "cell_type": "code",
      "source": [
        "# pipe with optimal params so far\n",
        "pipe = make_pipeline(text_cleanup_preprocessor,TfidfVectorizer(min_df=7, max_df=0.75), SelectKBest(k=250), MultinomialNB(alpha=1.0, class_prior=None))"
      ],
      "metadata": {
        "id": "vwCWKXUq55xK"
      },
      "execution_count": 151,
      "outputs": []
    },
    {
      "cell_type": "code",
      "source": [
        "# a cool visualisation here to see the current best found params for NB model\n",
        "from sklearn import set_config\n",
        "set_config(display=\"diagram\")\n",
        "pipe\n"
      ],
      "metadata": {
        "colab": {
          "base_uri": "https://localhost:8080/",
          "height": 197
        },
        "id": "llokOjnh6yvn",
        "outputId": "63b87379-b0f9-4efc-e78f-07a9637bd0d1"
      },
      "execution_count": 152,
      "outputs": [
        {
          "output_type": "execute_result",
          "data": {
            "text/plain": [
              "Pipeline(steps=[('functiontransformer',\n",
              "                 FunctionTransformer(func=<function text_cleanup at 0x7fcae03929d0>,\n",
              "                                     kw_args={'lowercase': True})),\n",
              "                ('tfidfvectorizer', TfidfVectorizer(max_df=0.75, min_df=7)),\n",
              "                ('selectkbest', SelectKBest(k=250)),\n",
              "                ('multinomialnb', MultinomialNB())])"
            ],
            "text/html": [
              "<style>#sk-e72fe146-d306-4bc1-b3b2-9913999ba7e4 {color: black;background-color: white;}#sk-e72fe146-d306-4bc1-b3b2-9913999ba7e4 pre{padding: 0;}#sk-e72fe146-d306-4bc1-b3b2-9913999ba7e4 div.sk-toggleable {background-color: white;}#sk-e72fe146-d306-4bc1-b3b2-9913999ba7e4 label.sk-toggleable__label {cursor: pointer;display: block;width: 100%;margin-bottom: 0;padding: 0.3em;box-sizing: border-box;text-align: center;}#sk-e72fe146-d306-4bc1-b3b2-9913999ba7e4 label.sk-toggleable__label-arrow:before {content: \"▸\";float: left;margin-right: 0.25em;color: #696969;}#sk-e72fe146-d306-4bc1-b3b2-9913999ba7e4 label.sk-toggleable__label-arrow:hover:before {color: black;}#sk-e72fe146-d306-4bc1-b3b2-9913999ba7e4 div.sk-estimator:hover label.sk-toggleable__label-arrow:before {color: black;}#sk-e72fe146-d306-4bc1-b3b2-9913999ba7e4 div.sk-toggleable__content {max-height: 0;max-width: 0;overflow: hidden;text-align: left;background-color: #f0f8ff;}#sk-e72fe146-d306-4bc1-b3b2-9913999ba7e4 div.sk-toggleable__content pre {margin: 0.2em;color: black;border-radius: 0.25em;background-color: #f0f8ff;}#sk-e72fe146-d306-4bc1-b3b2-9913999ba7e4 input.sk-toggleable__control:checked~div.sk-toggleable__content {max-height: 200px;max-width: 100%;overflow: auto;}#sk-e72fe146-d306-4bc1-b3b2-9913999ba7e4 input.sk-toggleable__control:checked~label.sk-toggleable__label-arrow:before {content: \"▾\";}#sk-e72fe146-d306-4bc1-b3b2-9913999ba7e4 div.sk-estimator input.sk-toggleable__control:checked~label.sk-toggleable__label {background-color: #d4ebff;}#sk-e72fe146-d306-4bc1-b3b2-9913999ba7e4 div.sk-label input.sk-toggleable__control:checked~label.sk-toggleable__label {background-color: #d4ebff;}#sk-e72fe146-d306-4bc1-b3b2-9913999ba7e4 input.sk-hidden--visually {border: 0;clip: rect(1px 1px 1px 1px);clip: rect(1px, 1px, 1px, 1px);height: 1px;margin: -1px;overflow: hidden;padding: 0;position: absolute;width: 1px;}#sk-e72fe146-d306-4bc1-b3b2-9913999ba7e4 div.sk-estimator {font-family: monospace;background-color: #f0f8ff;border: 1px dotted black;border-radius: 0.25em;box-sizing: border-box;margin-bottom: 0.5em;}#sk-e72fe146-d306-4bc1-b3b2-9913999ba7e4 div.sk-estimator:hover {background-color: #d4ebff;}#sk-e72fe146-d306-4bc1-b3b2-9913999ba7e4 div.sk-parallel-item::after {content: \"\";width: 100%;border-bottom: 1px solid gray;flex-grow: 1;}#sk-e72fe146-d306-4bc1-b3b2-9913999ba7e4 div.sk-label:hover label.sk-toggleable__label {background-color: #d4ebff;}#sk-e72fe146-d306-4bc1-b3b2-9913999ba7e4 div.sk-serial::before {content: \"\";position: absolute;border-left: 1px solid gray;box-sizing: border-box;top: 2em;bottom: 0;left: 50%;}#sk-e72fe146-d306-4bc1-b3b2-9913999ba7e4 div.sk-serial {display: flex;flex-direction: column;align-items: center;background-color: white;padding-right: 0.2em;padding-left: 0.2em;}#sk-e72fe146-d306-4bc1-b3b2-9913999ba7e4 div.sk-item {z-index: 1;}#sk-e72fe146-d306-4bc1-b3b2-9913999ba7e4 div.sk-parallel {display: flex;align-items: stretch;justify-content: center;background-color: white;}#sk-e72fe146-d306-4bc1-b3b2-9913999ba7e4 div.sk-parallel::before {content: \"\";position: absolute;border-left: 1px solid gray;box-sizing: border-box;top: 2em;bottom: 0;left: 50%;}#sk-e72fe146-d306-4bc1-b3b2-9913999ba7e4 div.sk-parallel-item {display: flex;flex-direction: column;position: relative;background-color: white;}#sk-e72fe146-d306-4bc1-b3b2-9913999ba7e4 div.sk-parallel-item:first-child::after {align-self: flex-end;width: 50%;}#sk-e72fe146-d306-4bc1-b3b2-9913999ba7e4 div.sk-parallel-item:last-child::after {align-self: flex-start;width: 50%;}#sk-e72fe146-d306-4bc1-b3b2-9913999ba7e4 div.sk-parallel-item:only-child::after {width: 0;}#sk-e72fe146-d306-4bc1-b3b2-9913999ba7e4 div.sk-dashed-wrapped {border: 1px dashed gray;margin: 0 0.4em 0.5em 0.4em;box-sizing: border-box;padding-bottom: 0.4em;background-color: white;position: relative;}#sk-e72fe146-d306-4bc1-b3b2-9913999ba7e4 div.sk-label label {font-family: monospace;font-weight: bold;background-color: white;display: inline-block;line-height: 1.2em;}#sk-e72fe146-d306-4bc1-b3b2-9913999ba7e4 div.sk-label-container {position: relative;z-index: 2;text-align: center;}#sk-e72fe146-d306-4bc1-b3b2-9913999ba7e4 div.sk-container {/* jupyter's `normalize.less` sets `[hidden] { display: none; }` but bootstrap.min.css set `[hidden] { display: none !important; }` so we also need the `!important` here to be able to override the default hidden behavior on the sphinx rendered scikit-learn.org. See: https://github.com/scikit-learn/scikit-learn/issues/21755 */display: inline-block !important;position: relative;}#sk-e72fe146-d306-4bc1-b3b2-9913999ba7e4 div.sk-text-repr-fallback {display: none;}</style><div id=\"sk-e72fe146-d306-4bc1-b3b2-9913999ba7e4\" class=\"sk-top-container\"><div class=\"sk-text-repr-fallback\"><pre>Pipeline(steps=[(&#x27;functiontransformer&#x27;,\n",
              "                 FunctionTransformer(func=&lt;function text_cleanup at 0x7fcae03929d0&gt;,\n",
              "                                     kw_args={&#x27;lowercase&#x27;: True})),\n",
              "                (&#x27;tfidfvectorizer&#x27;, TfidfVectorizer(max_df=0.75, min_df=7)),\n",
              "                (&#x27;selectkbest&#x27;, SelectKBest(k=250)),\n",
              "                (&#x27;multinomialnb&#x27;, MultinomialNB())])</pre><b>Please rerun this cell to show the HTML repr or trust the notebook.</b></div><div class=\"sk-container\" hidden><div class=\"sk-item sk-dashed-wrapped\"><div class=\"sk-label-container\"><div class=\"sk-label sk-toggleable\"><input class=\"sk-toggleable__control sk-hidden--visually\" id=\"3ff63f1a-4b92-4acf-8b86-2683c697f459\" type=\"checkbox\" ><label for=\"3ff63f1a-4b92-4acf-8b86-2683c697f459\" class=\"sk-toggleable__label sk-toggleable__label-arrow\">Pipeline</label><div class=\"sk-toggleable__content\"><pre>Pipeline(steps=[(&#x27;functiontransformer&#x27;,\n",
              "                 FunctionTransformer(func=&lt;function text_cleanup at 0x7fcae03929d0&gt;,\n",
              "                                     kw_args={&#x27;lowercase&#x27;: True})),\n",
              "                (&#x27;tfidfvectorizer&#x27;, TfidfVectorizer(max_df=0.75, min_df=7)),\n",
              "                (&#x27;selectkbest&#x27;, SelectKBest(k=250)),\n",
              "                (&#x27;multinomialnb&#x27;, MultinomialNB())])</pre></div></div></div><div class=\"sk-serial\"><div class=\"sk-item\"><div class=\"sk-estimator sk-toggleable\"><input class=\"sk-toggleable__control sk-hidden--visually\" id=\"6901c61a-b518-4df7-b3fd-0cedc31552a1\" type=\"checkbox\" ><label for=\"6901c61a-b518-4df7-b3fd-0cedc31552a1\" class=\"sk-toggleable__label sk-toggleable__label-arrow\">FunctionTransformer</label><div class=\"sk-toggleable__content\"><pre>FunctionTransformer(func=&lt;function text_cleanup at 0x7fcae03929d0&gt;,\n",
              "                    kw_args={&#x27;lowercase&#x27;: True})</pre></div></div></div><div class=\"sk-item\"><div class=\"sk-estimator sk-toggleable\"><input class=\"sk-toggleable__control sk-hidden--visually\" id=\"dfe27743-b058-4dfe-9998-4fff7ced7a1a\" type=\"checkbox\" ><label for=\"dfe27743-b058-4dfe-9998-4fff7ced7a1a\" class=\"sk-toggleable__label sk-toggleable__label-arrow\">TfidfVectorizer</label><div class=\"sk-toggleable__content\"><pre>TfidfVectorizer(max_df=0.75, min_df=7)</pre></div></div></div><div class=\"sk-item\"><div class=\"sk-estimator sk-toggleable\"><input class=\"sk-toggleable__control sk-hidden--visually\" id=\"81a5e942-99a9-47b0-8389-865ef2526b8c\" type=\"checkbox\" ><label for=\"81a5e942-99a9-47b0-8389-865ef2526b8c\" class=\"sk-toggleable__label sk-toggleable__label-arrow\">SelectKBest</label><div class=\"sk-toggleable__content\"><pre>SelectKBest(k=250)</pre></div></div></div><div class=\"sk-item\"><div class=\"sk-estimator sk-toggleable\"><input class=\"sk-toggleable__control sk-hidden--visually\" id=\"c6a2dae6-d41c-451b-9238-a74daef35796\" type=\"checkbox\" ><label for=\"c6a2dae6-d41c-451b-9238-a74daef35796\" class=\"sk-toggleable__label sk-toggleable__label-arrow\">MultinomialNB</label><div class=\"sk-toggleable__content\"><pre>MultinomialNB()</pre></div></div></div></div></div></div></div>"
            ]
          },
          "metadata": {},
          "execution_count": 152
        }
      ]
    },
    {
      "cell_type": "code",
      "source": [
        "from sklearn.model_selection import learning_curve\n",
        "import matplotlib.pyplot as plt\n",
        "\n",
        "train_sizes, train_scores, test_scores =\\\n",
        "                learning_curve(estimator=pipe,\n",
        "                               X=X_train,\n",
        "                               y=y_train,\n",
        "                               train_sizes=np.linspace(0.1, 1.0, 10),\n",
        "                               cv=10,\n",
        "                               n_jobs=-1)\n",
        "\n",
        "train_mean = np.mean(train_scores, axis=1)\n",
        "train_std = np.std(train_scores, axis=1)\n",
        "test_mean = np.mean(test_scores, axis=1)\n",
        "test_std = np.std(test_scores, axis=1)"
      ],
      "metadata": {
        "id": "IfhKE-iiuBL9"
      },
      "execution_count": 153,
      "outputs": []
    },
    {
      "cell_type": "markdown",
      "source": [
        "\n",
        "Lets plot and see how the training accuracy improves during training.\n"
      ],
      "metadata": {
        "id": "f-MIlIzDinon"
      }
    },
    {
      "cell_type": "code",
      "source": [
        "plt.plot(train_sizes, train_mean,\n",
        "         color='blue', marker='o',\n",
        "         markersize=5, label='training accuracy')\n",
        "\n",
        "plt.fill_between(train_sizes,\n",
        "                 train_mean + train_std,\n",
        "                 train_mean - train_std,\n",
        "                 alpha=0.15, color='blue')\n",
        "\n",
        "plt.plot(train_sizes, test_mean,\n",
        "         color='green', linestyle='--',\n",
        "         marker='s', markersize=5,\n",
        "         label='test accuracy')\n",
        "\n",
        "plt.fill_between(train_sizes,\n",
        "                 test_mean + test_std,\n",
        "                 test_mean - test_std,\n",
        "                 alpha=0.15, color='green')\n",
        "\n",
        "plt.grid()\n",
        "plt.xlabel('Number of training samples')\n",
        "plt.ylabel('Accuracy')\n",
        "plt.legend(loc='lower right')\n",
        "plt.ylim([0.5, 1.03])\n",
        "plt.tight_layout()\n",
        "plt.show()"
      ],
      "metadata": {
        "colab": {
          "base_uri": "https://localhost:8080/",
          "height": 297
        },
        "id": "CcCZYhbfx6B5",
        "outputId": "3affc277-a7d0-4089-9da1-6bd17f1ef438"
      },
      "execution_count": 154,
      "outputs": [
        {
          "output_type": "display_data",
          "data": {
            "text/plain": [
              "<Figure size 432x288 with 1 Axes>"
            ],
            "image/png": "[encoded data removed]"
          },
          "metadata": {}
        }
      ]
    },
    {
      "cell_type": "markdown",
      "source": [
        "# 3.0 Create multiple pipelines of different models\n",
        "\n",
        "Here we created a function so that it is possible to conduct similar experiments on different types of models, we can run multiple models while simultaneously getting their optimal parameters."
      ],
      "metadata": {
        "id": "oagX38KR7n_A"
      }
    },
    {
      "cell_type": "code",
      "source": [
        "# pipe = make_pipeline(text_cleanup_preprocessor,TfidfVectorizer(min_df=7, max_df=0.75), SelectKBest(k=250), MultinomialNB(alpha=1.0, class_prior=None))\n",
        "\n",
        "import copy\n",
        "\n",
        "best_models = []\n",
        "from sklearn.metrics import accuracy_score, precision_score, recall_score, f1_score\n",
        "def gsearch(models, train_data, train_target, test_data, test_target, text_vectoriser, parameter_grid, scoring=\"accuracy\", folds=5):\n",
        "    \"\"\"\n",
        "    Performs grid searches for models and returns the training and test accuracies. \n",
        "    \"\"\"\n",
        "    dat = []\n",
        "    ##iterate through each model\n",
        "    for name, model, params in models:\n",
        "        # add any model parameters to the parameter grid\n",
        "        param_grid = copy.deepcopy(parameter_grid)  # deep copy so that 'parameter_grid' does not maintain a reference to 'param_grid'\n",
        "        for param_name, param_options in params:\n",
        "            param_grid[0]['model__' + param_name] = param_options\n",
        "\n",
        "        # the pipeline\n",
        "        if len(train_data) > 300:\n",
        "          pipe_tfidf = Pipeline([('clean', text_cleanup_preprocessor),\n",
        "                                ('vector', TfidfVectorizer()),\n",
        "                                ('selector', SelectKBest(chi2, k = 250)),\n",
        "                                ('model',  model)])\n",
        "        else:\n",
        "          pipe_tfidf = Pipeline([('clean', text_cleanup_preprocessor),\n",
        "                                ('vector', TfidfVectorizer()),\n",
        "                                ('model',  model)])\n",
        "        pipelines = []\n",
        "        pipelines.append(pipe_tfidf)\n",
        "\n",
        "        # grid search cv\n",
        "        gs_sentiment_classification = GridSearchCV(pipe_tfidf, param_grid,\n",
        "                              scoring=scoring,\n",
        "                              cv=folds,\n",
        "                              verbose=1,\n",
        "                              n_jobs=-1)\n",
        "        \n",
        "        gs_sentiment_classification.fit(train_data, train_target)\n",
        "\n",
        "        print('Best parameter set: %s ' % gs_sentiment_classification.best_params_)\n",
        "        train_score = gs_sentiment_classification.best_score_\n",
        "        print('CV Accuracy: %.3f' % train_score)\n",
        "\n",
        "\n",
        "        clf = gs_sentiment_classification.best_estimator_\n",
        "        best_models.append(clf)\n",
        "        pred = clf.predict(X_test)\n",
        "\n",
        "        precision = precision_score(y_true=y_test, y_pred=pred)\n",
        "        recall = recall_score(y_true=y_test, y_pred=pred)\n",
        "        f1 = f1_score(y_true=y_test, y_pred=pred)\n",
        "\n",
        "\n",
        "\n",
        "        test_score = clf.score(test_data, test_target)\n",
        "        print(\"Precision score is: \", precision)\n",
        "        print(\"Recall score is is: \", recall)\n",
        "        print(\"f1 score is: \", f1)\n",
        "        print('Test Accuracy: %.3f\\n' % test_score)\n",
        "        dat.append([name, train_score, test_score, precision, recall, f1])\n",
        "\n",
        "    return pd.DataFrame(dat, columns=['Model', 'Train Accuracy', 'Test Accuracy', 'precision', 'recall', 'f1'])\n"
      ],
      "metadata": {
        "id": "TYrO3MNweZRR"
      },
      "execution_count": 171,
      "outputs": []
    },
    {
      "cell_type": "code",
      "source": [
        "print(X_test.shape)"
      ],
      "metadata": {
        "colab": {
          "base_uri": "https://localhost:8080/"
        },
        "id": "qakiAqLIOIai",
        "outputId": "c1ca8086-00ef-4aed-8c2f-8da2f567f738"
      },
      "execution_count": 172,
      "outputs": [
        {
          "output_type": "stream",
          "name": "stdout",
          "text": [
            "(837,)\n"
          ]
        }
      ]
    },
    {
      "cell_type": "markdown",
      "source": [
        "## 3.1 Add models & their model parameters\n",
        "\n",
        "Here we make a list and then we add models which are in the format as follows.\n",
        "\n",
        "String, Model method, List of model parameters (2d list as we can have multiple values for each parameter)"
      ],
      "metadata": {
        "id": "cuAQAd4y8Cz8"
      }
    },
    {
      "cell_type": "code",
      "source": [
        "models = []\n",
        "models.append(('LR', LogisticRegression(), [('max_iter', [128]), ('solver', [('lbfgs')]), ('multi_class', ['auto']), ('C', [(1), (0.5)])]))\n",
        "models.append(('SVM', SVC( gamma=0.1, C=1.0), [('kernel', [('linear'), ('poly')])]))\n",
        "models.append(('ANN', MLPClassifier(), [('max_iter', [1024]), ('solver', [('lbfgs')]), ('activation', [('relu'), ('identity'),('tanh')])])) \n",
        "# Supported activations are ['identity', 'logistic', 'relu', 'softmax', 'tanh'].\n",
        "models.append(('KNN', KNeighborsClassifier(), [('n_neighbors', [(10), (15)])]))\n",
        "models.append(('RF', RandomForestClassifier(random_state=42),[('n_estimators', [(200)]), ('max_depth', [(70)])]))\n",
        "\n",
        "pre_processtext_grid = [{'vector__ngram_range': [(1, 2)], #\n",
        "               'vector__stop_words': [stop], # use the stop dictionary of stopwords \n",
        "               'vector__tokenizer': [tokenizer_stemmer, tokenizer], # use a tokeniser and the stemmer\n",
        "               'vector__min_df': [(10)],\n",
        "               'vector__max_df': [(0.8)],\n",
        "               }]\n",
        "tfidf = TfidfVectorizer(strip_accents=None,\n",
        "                         lowercase=False,\n",
        "                         preprocessor=None)\n",
        "\n",
        "plot_data = gsearch(models, X_train, y_train, X_test, y_test, tfidf, pre_processtext_grid)\n",
        "print(plot_data)"
      ],
      "metadata": {
        "id": "KE5fNeXQKxv9"
      },
      "execution_count": null,
      "outputs": []
    },
    {
      "cell_type": "markdown",
      "source": [
        "# 4.0 Analysis of gsearch function\n",
        "\n",
        "Lets plot and investigate the results from the above models."
      ],
      "metadata": {
        "id": "zxtkpCyh8ZUs"
      }
    },
    {
      "cell_type": "code",
      "source": [
        "plot_data.plot.bar(x='Model', ylim=(.5, 1.))"
      ],
      "metadata": {
        "id": "o1pKO2wjz2Nx"
      },
      "execution_count": null,
      "outputs": []
    },
    {
      "cell_type": "markdown",
      "source": [
        "### 4.1 Graph feature importance (results interpretation)"
      ],
      "metadata": {
        "id": "wPv3yRHH9AAg"
      }
    },
    {
      "cell_type": "markdown",
      "source": [
        "While its nice knowing we have ±80% test accuracy we dont really know what is being selected by the model to determine if a review is positive or negative, lets look into the feature selection of the first model we trained in the above code (LR model)."
      ],
      "metadata": {
        "id": "5MC8dE6RiGI_"
      }
    },
    {
      "cell_type": "code",
      "source": [
        "i = best_models[0]\n",
        "print(i.named_steps[\"model\"])\n",
        "print(i.named_steps[\"model\"].coef_[0][:5])\n",
        "# first 5 coefs from the LR model to see what the values look like"
      ],
      "metadata": {
        "colab": {
          "base_uri": "https://localhost:8080/"
        },
        "id": "xD-5SxkLdClN",
        "outputId": "1ce37651-a854-47c8-d20f-d407b0b45f34"
      },
      "execution_count": null,
      "outputs": [
        {
          "output_type": "stream",
          "name": "stdout",
          "text": [
            "LogisticRegression()\n",
            "[-0.641197   -0.78296312 -0.31829511  0.32753488  0.28178696]\n"
          ]
        }
      ]
    },
    {
      "cell_type": "code",
      "source": [
        "feature_names = i.named_steps[\"vector\"].get_feature_names_out()\n",
        "print(len(feature_names))\n",
        "print(feature_names[:20])"
      ],
      "metadata": {
        "colab": {
          "base_uri": "https://localhost:8080/"
        },
        "outputId": "a72a0be1-9d4b-4456-ac81-c2160b08eee1",
        "id": "MoJh3q1chP-L"
      },
      "execution_count": null,
      "outputs": [
        {
          "output_type": "stream",
          "name": "stdout",
          "text": [
            "762\n",
            "['1' '10' '2' '20' '3' '4' '5' '7' '70' '8' '90' 'abl' 'abov' 'absolut'\n",
            " 'accept' 'across' 'act' 'action' 'actor' 'actress']\n"
          ]
        }
      ]
    },
    {
      "cell_type": "code",
      "source": [
        "coefs = i.named_steps[\"model\"].coef_.flatten()\n",
        "\n",
        "# print(coefs)\n",
        "# prepare the coefs for graphing/visualisation"
      ],
      "metadata": {
        "id": "Fk91sSqBhP-W"
      },
      "execution_count": null,
      "outputs": []
    },
    {
      "cell_type": "code",
      "source": [
        "# Zip coefficients and names together and make a DataFrame\n",
        "zipped = zip(feature_names, coefs)\n",
        "df_plot = pd.DataFrame(zipped, columns=[\"feature\", \"value\"])\n",
        "# Sort the features by the absolute value of their coefficient\n",
        "df_plot[\"abs_value\"] = df_plot[\"value\"].apply(lambda x: abs(x))\n",
        "df_plot[\"colors\"] = df_plot[\"value\"].apply(lambda x: \"green\" if x > 0 else \"red\")\n",
        "df_plot = df_plot.sort_values(\"abs_value\", ascending=False)"
      ],
      "metadata": {
        "id": "sYVbT-e-hP-W"
      },
      "execution_count": null,
      "outputs": []
    },
    {
      "cell_type": "code",
      "source": [
        "import seaborn as sns\n",
        "fig, ax = plt.subplots(1, 1, figsize=(12, 7))\n",
        "sns.barplot(x=\"feature\",\n",
        "            y=\"value\",\n",
        "            data=df_plot.head(30),\n",
        "           palette=df_plot.head(30)[\"colors\"])\n",
        "ax.set_xticklabels(ax.get_xticklabels(), rotation=90, fontsize=20)\n",
        "ax.set_title(\"Top 30 Features\", fontsize=25)\n",
        "ax.set_ylabel(\"Coef\", fontsize=22)\n",
        "ax.set_xlabel(\"Feature Name\", fontsize=22)"
      ],
      "metadata": {
        "colab": {
          "base_uri": "https://localhost:8080/",
          "height": 612
        },
        "outputId": "5e73ab29-f6df-4311-f2d3-661da9b51aaa",
        "id": "XbO8b5KShP-W"
      },
      "execution_count": null,
      "outputs": [
        {
          "output_type": "execute_result",
          "data": {
            "text/plain": [
              "Text(0.5, 0, 'Feature Name')"
            ]
          },
          "metadata": {},
          "execution_count": 75
        },
        {
          "output_type": "display_data",
          "data": {
            "text/plain": [
              "<Figure size 864x504 with 1 Axes>"
            ],
            "image/png": "[encoded data removed]"
          },
          "metadata": {
            "needs_background": "light"
          }
        }
      ]
    },
    {
      "cell_type": "markdown",
      "source": [
        "# 5.0 RNN (LSTM) model"
      ],
      "metadata": {
        "id": "aLjLogAO9ZDq"
      }
    },
    {
      "cell_type": "markdown",
      "source": [
        "Lets try using a sequence learner on the sentiment analysis dataset."
      ],
      "metadata": {
        "id": "0j0ibMf6LizO"
      }
    },
    {
      "cell_type": "code",
      "execution_count": 128,
      "metadata": {
        "id": "69dThIMv0ocI"
      },
      "outputs": [],
      "source": [
        "from keras.preprocessing import sequence\n",
        "from keras.models import Sequential\n",
        "from keras.layers import Dense, Embedding\n",
        "from keras.layers import LSTM\n",
        "from keras.datasets import imdb\n",
        "\n",
        "from keras.wrappers.scikit_learn import KerasClassifier\n",
        "from sklearn.model_selection import GridSearchCV\n",
        "from keras.preprocessing.sequence import *\n",
        "from keras.preprocessing.text import Tokenizer\n",
        "\n",
        "from keras.preprocessing import sequence\n",
        "from keras.models import Sequential\n",
        "from keras.layers import Dense, Embedding\n",
        "from keras.layers import LSTM\n",
        "from keras.datasets import imdb\n",
        "from sklearn import model_selection\n",
        "from sklearn.pipeline import make_pipeline\n",
        "from sklearn.pipeline import Pipeline"
      ]
    },
    {
      "cell_type": "markdown",
      "source": [
        "## 5.1 Import & setup"
      ],
      "metadata": {
        "id": "jXWPr6av9w43"
      }
    },
    {
      "cell_type": "code",
      "source": [
        "from keras_preprocessing import sequence\n",
        "from keras.utils import pad_sequences"
      ],
      "metadata": {
        "id": "7sUKHCPx1DTA"
      },
      "execution_count": 129,
      "outputs": []
    },
    {
      "cell_type": "markdown",
      "source": [
        "We will use the imdb dataset rather than the DF we imported earlier as this data comes pre-padded and we need more than the fraction we took out of the df."
      ],
      "metadata": {
        "id": "W9OgpEfJLp0y"
      }
    },
    {
      "cell_type": "code",
      "source": [
        "max_features = 6000\n",
        "maxlen = 150  # cut texts after this number of words (among top max_features most common words)\n",
        "\n",
        "print('Loading data...')\n",
        "(X_train, y_train), (X_test, y_test) = imdb.load_data(num_words=max_features)\n",
        "print(len(X_train), 'train sequences')\n",
        "print(len(X_test), 'test sequences')\n",
        "y_train = y_train[:8000]\n",
        "y_test = y_test[:8000]\n",
        "print('Pad sequences (samples x time)')\n",
        "X_train = sequence.pad_sequences(X_train[:8000], maxlen=maxlen)\n",
        "X_test = sequence.pad_sequences(X_test[:8000], maxlen=maxlen)\n",
        "\n",
        "print('x_train shape:', X_train.shape)\n",
        "print('x_test shape:', X_test.shape)\n"
      ],
      "metadata": {
        "colab": {
          "base_uri": "https://localhost:8080/"
        },
        "id": "Co60ZYjf1STU",
        "outputId": "486f26af-0bc0-4fe5-eb80-b81ec48bb12d"
      },
      "execution_count": 130,
      "outputs": [
        {
          "output_type": "stream",
          "name": "stdout",
          "text": [
            "Loading data...\n",
            "25000 train sequences\n",
            "25000 test sequences\n",
            "Pad sequences (samples x time)\n",
            "x_train shape: (8000, 150)\n",
            "x_test shape: (8000, 150)\n"
          ]
        }
      ]
    },
    {
      "cell_type": "markdown",
      "source": [
        "## 5.2 Dataset visualisations"
      ],
      "metadata": {
        "id": "9NzJmQl492fq"
      }
    },
    {
      "cell_type": "markdown",
      "source": [
        "We see here it is tokenized and padded."
      ],
      "metadata": {
        "id": "ftQZINi-L1vU"
      }
    },
    {
      "cell_type": "code",
      "source": [
        "print(X_train[0]) \n",
        "print(len(X_train[0])) "
      ],
      "metadata": {
        "colab": {
          "base_uri": "https://localhost:8080/"
        },
        "id": "HQCVJbR72S2a",
        "outputId": "7ecd792d-2a28-4e35-9779-b1ed35435d7d"
      },
      "execution_count": 131,
      "outputs": [
        {
          "output_type": "stream",
          "name": "stdout",
          "text": [
            "[  12   16   43  530   38   76   15   13 1247    4   22   17  515   17\n",
            "   12   16  626   18    2    5   62  386   12    8  316    8  106    5\n",
            "    4 2223 5244   16  480   66 3785   33    4  130   12   16   38  619\n",
            "    5   25  124   51   36  135   48   25 1415   33    6   22   12  215\n",
            "   28   77   52    5   14  407   16   82    2    8    4  107  117 5952\n",
            "   15  256    4    2    7 3766    5  723   36   71   43  530  476   26\n",
            "  400  317   46    7    4    2 1029   13  104   88    4  381   15  297\n",
            "   98   32 2071   56   26  141    6  194    2   18    4  226   22   21\n",
            "  134  476   26  480    5  144   30 5535   18   51   36   28  224   92\n",
            "   25  104    4  226   65   16   38 1334   88   12   16  283    5   16\n",
            " 4472  113  103   32   15   16 5345   19  178   32]\n",
            "150\n"
          ]
        }
      ]
    },
    {
      "cell_type": "markdown",
      "source": [
        "## 5.3 Create pipeline & fit"
      ],
      "metadata": {
        "id": "jnYIM_xs98vz"
      }
    },
    {
      "cell_type": "markdown",
      "source": [
        "As we can see the training instances have been vectorised and padded - we have padded them to our maxlen size."
      ],
      "metadata": {
        "id": "kj2Eqhu42Zad"
      }
    },
    {
      "cell_type": "code",
      "source": [
        "def LSTM_model(dropout, optimizer='adam', activation='sigmoid', max_features=6000, maxlen=150):\n",
        "\n",
        "  print('Creating model.....')\n",
        "  model = Sequential()\n",
        "  model.add(Embedding(max_features, 128))\n",
        "  model.add(LSTM(128, dropout=0.2, recurrent_dropout=0.2))\n",
        "  model.add(Dense(1, activation=activation))\n",
        "\n",
        "  model.compile(loss='binary_crossentropy',\n",
        "                optimizer=optimizer,\n",
        "                metrics=['accuracy'])\n",
        "  model.summary()\n",
        "\n",
        "  return model"
      ],
      "metadata": {
        "id": "9PcIXDta0ptR"
      },
      "execution_count": 132,
      "outputs": []
    },
    {
      "cell_type": "code",
      "source": [
        "keras_lstm_clf = KerasClassifier(build_fn=LSTM_model, verbose=1)\n",
        "\n",
        "pipe = Pipeline([ \n",
        "    # ('tcp', text_cleanup_preprocessor), data is pre cleaned and processed\n",
        "    # ('tpp', text_padding_preprocessor),\n",
        "    ('clf', keras_lstm_clf)\n",
        "])\n",
        "\n",
        "params = {\n",
        "    'clf__optimizer': ['rmsprop'],\n",
        "    'clf__activation': [('sigmoid')],\n",
        "    'clf__epochs': [10],\n",
        "    'clf__dropout' : [(0.2)],\n",
        "    'clf__batch_size' : [32]\n",
        "}\n",
        "\n",
        "pipe.get_params().keys() # show the params we can tune"
      ],
      "metadata": {
        "colab": {
          "base_uri": "https://localhost:8080/"
        },
        "id": "wKYnUqSe17Dp",
        "outputId": "ca485065-d187-470a-f317-a5ab4bed2c4f"
      },
      "execution_count": 133,
      "outputs": [
        {
          "output_type": "stream",
          "name": "stderr",
          "text": [
            "<ipython-input-133-e8fcd674e7ef>:1: DeprecationWarning: KerasClassifier is deprecated, use Sci-Keras (https://github.com/adriangb/scikeras) instead. See https://www.adriangb.com/scikeras/stable/migration.html for help migrating.\n",
            "  keras_lstm_clf = KerasClassifier(build_fn=LSTM_model, verbose=1)\n"
          ]
        },
        {
          "output_type": "execute_result",
          "data": {
            "text/plain": [
              "dict_keys(['memory', 'steps', 'verbose', 'clf', 'clf__verbose', 'clf__build_fn'])"
            ]
          },
          "metadata": {},
          "execution_count": 133
        }
      ]
    },
    {
      "cell_type": "markdown",
      "source": [
        "This will take some time to run - it is on the whole dataset."
      ],
      "metadata": {
        "id": "ZwbCiPFNfAd6"
      }
    },
    {
      "cell_type": "code",
      "source": [
        "grid_lstm= GridSearchCV(pipe, params, scoring='accuracy', n_jobs=-1, cv=5, verbose=True)\n",
        "\n",
        "grid_lstm.fit(X_train, y_train)\n",
        "\n",
        "print(grid_lstm.best_params_)"
      ],
      "metadata": {
        "colab": {
          "base_uri": "https://localhost:8080/"
        },
        "id": "NsKwWqo90-k_",
        "outputId": "34ab8748-2405-4b78-e5e5-8d846e9e9b0e"
      },
      "execution_count": null,
      "outputs": [
        {
          "output_type": "stream",
          "name": "stdout",
          "text": [
            "Fitting 5 folds for each of 1 candidates, totalling 5 fits\n",
            "Creating model.....\n",
            "Model: \"sequential_1\"\n",
            "_________________________________________________________________\n",
            " Layer (type)                Output Shape              Param #   \n",
            "=================================================================\n",
            " embedding_1 (Embedding)     (None, None, 128)         2560000   \n",
            "                                                                 \n",
            " lstm_1 (LSTM)               (None, 128)               131584    \n",
            "                                                                 \n",
            " dense_1 (Dense)             (None, 1)                 129       \n",
            "                                                                 \n",
            "=================================================================\n",
            "Total params: 2,691,713\n",
            "Trainable params: 2,691,713\n",
            "Non-trainable params: 0\n",
            "_________________________________________________________________\n",
            "Epoch 1/10\n",
            "782/782 [==============================] - 201s 253ms/step - loss: 0.6365 - accuracy: 0.7111\n",
            "Epoch 2/10\n",
            "782/782 [==============================] - 197s 252ms/step - loss: 0.5100 - accuracy: 0.8395\n",
            "Epoch 3/10\n",
            "782/782 [==============================] - 197s 252ms/step - loss: 0.4219 - accuracy: 0.8718\n",
            "Epoch 4/10\n",
            "782/782 [==============================] - 196s 251ms/step - loss: 0.3940 - accuracy: 0.8946\n",
            "Epoch 5/10\n",
            "782/782 [==============================] - 196s 251ms/step - loss: 0.3599 - accuracy: 0.9127\n",
            "Epoch 6/10\n",
            "782/782 [==============================] - 196s 251ms/step - loss: 0.3556 - accuracy: 0.9258\n",
            "Epoch 7/10\n",
            "782/782 [==============================] - 199s 255ms/step - loss: 0.3337 - accuracy: 0.9392\n",
            "Epoch 8/10\n",
            "782/782 [==============================] - 199s 254ms/step - loss: 0.3149 - accuracy: 0.9490\n",
            "Epoch 9/10\n",
            "782/782 [==============================] - 198s 253ms/step - loss: 0.2919 - accuracy: 0.9590\n",
            "Epoch 10/10\n",
            "782/782 [==============================] - 199s 254ms/step - loss: 0.2808 - accuracy: 0.9672\n",
            "0.63288 {'clf__activation': 'relu', 'clf__batch_size': 32, 'clf__dropout': 0.2, 'clf__epochs': 10, 'clf__optimizer': 'rmsprop'}\n"
          ]
        }
      ]
    },
    {
      "cell_type": "markdown",
      "source": [
        "## 5.4 Investigate results"
      ],
      "metadata": {
        "id": "ZntRgo1U-GCt"
      }
    },
    {
      "cell_type": "code",
      "source": [
        "best_ver1 = grid_lstm.best_estimator_\n",
        "print(\"Test accuracy from all the models test data is: \", best_ver1.score(X_test, y_test))\n"
      ],
      "metadata": {
        "colab": {
          "base_uri": "https://localhost:8080/"
        },
        "id": "Ak8cJFoVbk_p",
        "outputId": "8589f510-a6a3-4966-cb01-9b63b10e3b34"
      },
      "execution_count": null,
      "outputs": [
        {
          "output_type": "stream",
          "name": "stdout",
          "text": [
            "782/782 [==============================] - 26s 33ms/step - loss: 1.5408 - accuracy: 0.8303\n",
            "Test accuracy from all the models test data is:  0.8303200006484985\n"
          ]
        }
      ]
    },
    {
      "cell_type": "code",
      "execution_count": null,
      "metadata": {
        "id": "Vy7qePMccqGt",
        "colab": {
          "base_uri": "https://localhost:8080/"
        },
        "outputId": "58ee20cc-fb5b-4cea-c275-79ab60d16d74"
      },
      "outputs": [
        {
          "output_type": "stream",
          "name": "stdout",
          "text": [
            "250/250 [==============================] - 15s 60ms/step\n"
          ]
        }
      ],
      "source": [
        "from sklearn.metrics import confusion_matrix\n",
        "y_pred = best_ver1.predict(X_test)\n",
        "result = confusion_matrix(y_test, y_pred , normalize='pred')\n"
      ]
    },
    {
      "cell_type": "code",
      "source": [
        "print(result)"
      ],
      "metadata": {
        "colab": {
          "base_uri": "https://localhost:8080/"
        },
        "id": "weiC0atiHKSA",
        "outputId": "9b23ea90-6e01-4efe-adc7-43bb64f081d2"
      },
      "execution_count": null,
      "outputs": [
        {
          "output_type": "stream",
          "name": "stdout",
          "text": [
            "[[0.83811682 0.1785005 ]\n",
            " [0.16188318 0.8214995 ]]\n"
          ]
        }
      ]
    },
    {
      "cell_type": "markdown",
      "source": [
        "The LSTM model took quite some time but still only was capable of accuracy similar to our other models, we could tune some parameters such as the batchsize and loss but litreature suggests that LSTM is very good at very large datasets and there isnt enough data here or time for it to be the clear choice.\n",
        "\n",
        "Lets see how a CNN from keras will perform with some heavy param tuning."
      ],
      "metadata": {
        "id": "7ZUzqGTzjtbc"
      }
    },
    {
      "cell_type": "markdown",
      "source": [
        "Lets re-import the data and setup the values for training"
      ],
      "metadata": {
        "id": "tb8wE716M58M"
      }
    },
    {
      "cell_type": "markdown",
      "source": [
        "# 5.0.0 Keras CNN"
      ],
      "metadata": {
        "id": "NXg_4VFX-NS_"
      }
    },
    {
      "cell_type": "code",
      "source": [
        "data_file = \"https://raw.githubusercontent.com/nirmalie/CM4107/main/movie_data_cat.csv\"\n",
        "df = pd.read_csv(data_file,  encoding='utf-8')\n",
        "print('Shape:', df.shape)\n",
        "\n",
        "class_mapping = {label:idx for idx,label in enumerate(np.unique(df['sentiment']))}\n",
        "df['sentiment'] = df['sentiment'].map(class_mapping)"
      ],
      "metadata": {
        "colab": {
          "base_uri": "https://localhost:8080/"
        },
        "id": "mantuUm3M1Dm",
        "outputId": "5e9758b8-4bf6-4c7d-aed0-2f59acbf56e8"
      },
      "execution_count": 134,
      "outputs": [
        {
          "output_type": "stream",
          "name": "stdout",
          "text": [
            "Shape: (50000, 2)\n"
          ]
        }
      ]
    },
    {
      "cell_type": "code",
      "source": [
        "small_df= df.sample(frac=0.1, replace=False, random_state=1)\n",
        "X = small_df.loc[:, 'review'].values\n",
        "y = small_df.loc[:, 'sentiment'].values\n",
        "\n",
        "X_train, X_test, y_train, y_test = train_test_split(X, y, \n",
        "                                                          random_state=42,\n",
        "                                                          test_size=0.30, # lets use 30% for testing\n",
        "                                                          stratify=y)\n",
        "y_test_ohe = to_categorical(y_test, 2)\n",
        "y_train_ohe = to_categorical(y_train, 2)\n",
        "print('x_train shape:', X_train.shape)\n",
        "print('y_train_ohe shape:', y_train_ohe.shape)\n",
        "print('x_test shape:', X_test.shape)\n",
        "print('y_test_ohe shape:', y_train_ohe.shape)\n",
        "print(X_train[0:5])\n",
        "print(y_train_ohe[0:5])\n"
      ],
      "metadata": {
        "colab": {
          "base_uri": "https://localhost:8080/"
        },
        "id": "Upqo7naZpyj8",
        "outputId": "1dbb7f8e-0b31-49b9-e80a-dbea0b9d151d"
      },
      "execution_count": 140,
      "outputs": [
        {
          "output_type": "stream",
          "name": "stdout",
          "text": [
            "x_train shape: (3500,)\n",
            "y_train_ohe shape: (3500, 2)\n",
            "x_test shape: (1500,)\n",
            "y_test_ohe shape: (3500, 2)\n",
            "[\"This movie is about a fictional soap opera. It is very fast and funny. To say anything else would ruin the movie. There are several plots and sub plots in the movie. This movie has ensemble cast with today's hottest stars. They all gives over the top performances. This movie is favorite of mine from the year 1991. Soapdish is perfect for fans of either daytime soap opera /or prime time soap opera!!!If you watch soap go check this movie it's hilarious!!!\"\n",
            " 'Just after the end of WWII Powell & Pressburger were asked to come up with something to try to heal the rift developing between the UK & the USA. At the time there was a lot of \"Overpaid, over sexed and over here\" type of comments. Somehow they came up with this masterpiece.<br /><br />My favourite movie of ALL time. It\\'s got everything. Romance, poetry, emotion, religion, drama and very quirky.<br /><br />I can never explain exactly why, but it hits all the right buttons and although I\\'ve seen it hundreds of times (yes, really) I\\'m still guaranteed to be in tears at many points throughout.<br /><br />Was it the magnificent acting, the wonderful sets, the inspired script ? Who knows. But *DO* watch it and you\\'ll see what I mean.'\n",
            " \"This is the best series of its type I've seen all year. I can't help thinking it's just my luck - a series I love gets 6 episodes (and more next year) and the constant stream of cookie-cutter cop shows get never ending episodes.<br /><br />I think the reasons New Tricks succeeds are many. The scripts are good, and the mix of characters superb, The acting is top flight, and the blend of comedy and drama works a treat. The stories aren't all that memorable, but that's not the reason I watch shows like this one. <br /><br />The theme song is a favourite, and we were disappointed to find it isn't available in any published edition. Great stuff, BBC- a triumph of sense over sex-appeal (aside from the young constable nobody's there as eye-lolly, and even if he IS, he can still act!).\"\n",
            " \"And a made for TV movie too, this movie was good. the acting in it and the plot was just so great. this one of the only movies I've seen that I felt warped my mind because after seeing it I was afraid of Reaper coming to kill me through my computer screen. There were just a few minor things wrong with this movie, but it's very easily over looked.<br /><br />Antonio Sabbato Jr did an excellent role in this movie along with Janine Turner and Robert Wagner. this movie just has so much suspense and it made me wanting more because I never thought a low budget TV movie could be so powerful. After viewing this I read the novel this movie was based on (four times) and it too kicked was great. If you ever see this movie come on TV, I'd watch it. The effects in this movie were pretty well done, I honestly don't know what a live calcifying human would look like but with the way the FX team did this movie I was impressed and all it shows is that all these bad made for TV movies out there with low budgets shouldn't suck so bad.<br /><br />watch it. It's really good, no really, it is!\"\n",
            " 'This is one of the funniest movies that I have seen this year. The people that made it must be so incredibly whacked and twisted. It is a beautiful thing. There were a lot of quality one-liners. This movie blew Uncle Sam out of the water (it was made by tha same people, i think)']\n",
            "[[0. 1.]\n",
            " [0. 1.]\n",
            " [0. 1.]\n",
            " [0. 1.]\n",
            " [0. 1.]]\n"
          ]
        }
      ]
    },
    {
      "cell_type": "code",
      "source": [
        "try:\n",
        "    import scikeras\n",
        "except ImportError:\n",
        "    !python -m pip install scikeras"
      ],
      "metadata": {
        "id": "YCKpzoBBru7b"
      },
      "execution_count": 165,
      "outputs": []
    },
    {
      "cell_type": "code",
      "source": [
        "from scikeras.wrappers import KerasClassifier, KerasRegressor\n",
        "from tensorflow import keras"
      ],
      "metadata": {
        "id": "llUq6uBkr-VP"
      },
      "execution_count": 166,
      "outputs": []
    },
    {
      "cell_type": "code",
      "source": [
        "def create_model(meta, hidden_layer_sizes=[128, 64], optimizer=\"adam\", dropout=0.3):\n",
        "    n_features_in_ = meta[\"n_features_in_\"]\n",
        "    print(\"n_features_in_\", n_features_in_)\n",
        "    n_classes_ = meta[\"n_classes_\"]\n",
        "    print(\"n_classes_\", n_classes_)\n",
        "\n",
        "    model = Sequential()\n",
        "    model.add(Dense(256, activation='sigmoid', input_shape=(n_features_in_,)))\n",
        "    model.add(Dropout(dropout) )\n",
        "\n",
        "    for hidden_layer_size in hidden_layer_sizes:\n",
        "        model.add(Dense ( hidden_layer_size, activation=\"sigmoid\"))\n",
        "        model.add(Dropout(dropout))\n",
        "\n",
        "    model.add(Dense(n_classes_, activation=\"softmax\"))\n",
        "    print(\"meta\", model.summary())\n",
        "    model.compile(loss='categorical_crossentropy', optimizer=optimizer, metrics=[\"accuracy\"])\n",
        "    return model"
      ],
      "metadata": {
        "id": "WsHgbDSEYWhL"
      },
      "execution_count": 177,
      "outputs": []
    },
    {
      "cell_type": "code",
      "source": [
        "keras_clf = KerasClassifier(build_fn=create_model, verbose=1)# Wrapped Keras classifier\n",
        "\n",
        "pipe = Pipeline([\n",
        "    ('tcp', text_cleanup_preprocessor),\n",
        "    ('vect', TfidfVectorizer()),\n",
        "    ('fs',   SelectKBest(chi2)), # k finds the top features \n",
        "    ('clf', keras_clf)\n",
        "])\n",
        "\n",
        "params = {\n",
        "    'vect__ngram_range': [(1,1)],# (1,2)], #can also extract 2-grams of words in addition to the 1-grams (individual words)\n",
        "    'vect__tokenizer': [tokenizer_stemmer, tokenizer], # use a tokeniser and the stemmer \n",
        "    'vect__stop_words': [stop, None], # use the stop dictionary of stopwords or not\n",
        "    'clf__optimizer': [('rmsprop')],\n",
        "    'clf__batch_size': [(100)],\n",
        "     'vect__min_df': [(25)],\n",
        "      'vect__max_df': [(0.75)],\n",
        "    'clf__epochs': [(25)],\n",
        "    'fs__k': [(100), (250), (400)]\n",
        "}\n",
        "\n"
      ],
      "metadata": {
        "id": "M1mG93f3aHBO"
      },
      "execution_count": 178,
      "outputs": []
    },
    {
      "cell_type": "code",
      "source": [
        "print(X_train.shape, y_train_ohe)"
      ],
      "metadata": {
        "colab": {
          "base_uri": "https://localhost:8080/"
        },
        "id": "yLbI4027P_bR",
        "outputId": "36d69262-8d9c-4b8b-f213-6fde839a26fb"
      },
      "execution_count": 179,
      "outputs": [
        {
          "output_type": "stream",
          "name": "stdout",
          "text": [
            "(3500,) [[0. 1.]\n",
            " [0. 1.]\n",
            " [0. 1.]\n",
            " ...\n",
            " [1. 0.]\n",
            " [0. 1.]\n",
            " [1. 0.]]\n"
          ]
        }
      ]
    },
    {
      "cell_type": "code",
      "source": [
        "grid = GridSearchCV(pipe, params, n_jobs=-1, cv=3, verbose=True)\n",
        "\n",
        "grid.fit(X_train, y_train_ohe)\n",
        "\n",
        "print(grid.best_score_, grid.best_params_)"
      ],
      "metadata": {
        "colab": {
          "base_uri": "https://localhost:8080/"
        },
        "id": "ibKY1BGUbWkP",
        "outputId": "a7c992d7-c814-4900-ac25-d9e41c108ed9"
      },
      "execution_count": 180,
      "outputs": [
        {
          "output_type": "stream",
          "name": "stdout",
          "text": [
            "Fitting 3 folds for each of 12 candidates, totalling 36 fits\n",
            "n_features_in_ 400\n",
            "n_classes_ 2\n",
            "Model: \"sequential_19\"\n",
            "_________________________________________________________________\n",
            " Layer (type)                Output Shape              Param #   \n",
            "=================================================================\n",
            " dense_67 (Dense)            (None, 256)               102656    \n",
            "                                                                 \n",
            " dropout_48 (Dropout)        (None, 256)               0         \n",
            "                                                                 \n",
            " dense_68 (Dense)            (None, 128)               32896     \n",
            "                                                                 \n",
            " dropout_49 (Dropout)        (None, 128)               0         \n",
            "                                                                 \n",
            " dense_69 (Dense)            (None, 64)                8256      \n",
            "                                                                 \n",
            " dropout_50 (Dropout)        (None, 64)                0         \n",
            "                                                                 \n",
            " dense_70 (Dense)            (None, 2)                 130       \n",
            "                                                                 \n",
            "=================================================================\n",
            "Total params: 143,938\n",
            "Trainable params: 143,938\n",
            "Non-trainable params: 0\n",
            "_________________________________________________________________\n",
            "meta None\n",
            "Epoch 1/25\n"
          ]
        },
        {
          "output_type": "stream",
          "name": "stderr",
          "text": [
            "/usr/local/lib/python3.8/dist-packages/scikeras/wrappers.py:301: UserWarning: ``build_fn`` will be renamed to ``model`` in a future release, at which point use of ``build_fn`` will raise an Error instead.\n",
            "  warnings.warn(\n",
            "/usr/local/lib/python3.8/dist-packages/tensorflow/python/framework/indexed_slices.py:444: UserWarning: Converting sparse IndexedSlices(IndexedSlices(indices=Tensor(\"gradient_tape/sequential_19/dense_67/embedding_lookup_sparse/Reshape_1:0\", shape=(None,), dtype=int32), values=Tensor(\"gradient_tape/sequential_19/dense_67/embedding_lookup_sparse/Reshape:0\", shape=(None, 256), dtype=float32), dense_shape=Tensor(\"gradient_tape/sequential_19/dense_67/embedding_lookup_sparse/Cast:0\", shape=(2,), dtype=int32))) to a dense Tensor of unknown shape. This may consume a large amount of memory.\n",
            "  warnings.warn(\n"
          ]
        },
        {
          "output_type": "stream",
          "name": "stdout",
          "text": [
            "35/35 [==============================] - 1s 11ms/step - loss: 0.7314 - accuracy: 0.4917\n",
            "Epoch 2/25\n",
            "35/35 [==============================] - 0s 11ms/step - loss: 0.7165 - accuracy: 0.4900\n",
            "Epoch 3/25\n",
            "35/35 [==============================] - 0s 10ms/step - loss: 0.7039 - accuracy: 0.5054\n",
            "Epoch 4/25\n",
            "35/35 [==============================] - 0s 11ms/step - loss: 0.6986 - accuracy: 0.5103\n",
            "Epoch 5/25\n",
            "35/35 [==============================] - 0s 11ms/step - loss: 0.6982 - accuracy: 0.5049\n",
            "Epoch 6/25\n",
            "35/35 [==============================] - 0s 11ms/step - loss: 0.6940 - accuracy: 0.5191\n",
            "Epoch 7/25\n",
            "35/35 [==============================] - 0s 11ms/step - loss: 0.6864 - accuracy: 0.5426\n",
            "Epoch 8/25\n",
            "35/35 [==============================] - 0s 11ms/step - loss: 0.6740 - accuracy: 0.5831\n",
            "Epoch 9/25\n",
            "35/35 [==============================] - 0s 11ms/step - loss: 0.6286 - accuracy: 0.6683\n",
            "Epoch 10/25\n",
            "35/35 [==============================] - 0s 11ms/step - loss: 0.5320 - accuracy: 0.7503\n",
            "Epoch 11/25\n",
            "35/35 [==============================] - 0s 11ms/step - loss: 0.4563 - accuracy: 0.7911\n",
            "Epoch 12/25\n",
            "35/35 [==============================] - 0s 11ms/step - loss: 0.4185 - accuracy: 0.8103\n",
            "Epoch 13/25\n",
            "35/35 [==============================] - 0s 11ms/step - loss: 0.3982 - accuracy: 0.8149\n",
            "Epoch 14/25\n",
            "35/35 [==============================] - 0s 10ms/step - loss: 0.3590 - accuracy: 0.8454\n",
            "Epoch 15/25\n",
            "35/35 [==============================] - 0s 11ms/step - loss: 0.3605 - accuracy: 0.8386\n",
            "Epoch 16/25\n",
            "35/35 [==============================] - 0s 10ms/step - loss: 0.3571 - accuracy: 0.8394\n",
            "Epoch 17/25\n",
            "35/35 [==============================] - 0s 12ms/step - loss: 0.3480 - accuracy: 0.8509\n",
            "Epoch 18/25\n",
            "35/35 [==============================] - 0s 11ms/step - loss: 0.3423 - accuracy: 0.8537\n",
            "Epoch 19/25\n",
            "35/35 [==============================] - 0s 11ms/step - loss: 0.3438 - accuracy: 0.8540\n",
            "Epoch 20/25\n",
            "35/35 [==============================] - 0s 10ms/step - loss: 0.3288 - accuracy: 0.8654\n",
            "Epoch 21/25\n",
            "35/35 [==============================] - 0s 10ms/step - loss: 0.3352 - accuracy: 0.8511\n",
            "Epoch 22/25\n",
            "35/35 [==============================] - 0s 11ms/step - loss: 0.3224 - accuracy: 0.8654\n",
            "Epoch 23/25\n",
            "35/35 [==============================] - 0s 11ms/step - loss: 0.3159 - accuracy: 0.8709\n",
            "Epoch 24/25\n",
            "35/35 [==============================] - 0s 12ms/step - loss: 0.3201 - accuracy: 0.8631\n",
            "Epoch 25/25\n",
            "35/35 [==============================] - 0s 11ms/step - loss: 0.3246 - accuracy: 0.8583\n",
            "0.8439972798754386 {'clf__batch_size': 100, 'clf__epochs': 25, 'clf__optimizer': 'rmsprop', 'fs__k': 400, 'vect__max_df': 0.75, 'vect__min_df': 25, 'vect__ngram_range': (1, 1), 'vect__stop_words': {'needn', 'can', 'its', 'did', 'was', 'is', 'on', 'an', \"mustn't\", 'have', 'my', 'your', 'shan', 'other', 're', 'about', 'before', 'herself', 'no', 'above', 'now', 'don', 'ma', 'same', 'that', 'few', 'he', 'at', 'each', 'to', 'this', \"it's\", 'hadn', 'it', 'their', 'which', 's', 'those', 'do', 'with', \"couldn't\", 'off', 'below', 'into', \"wouldn't\", 'be', 'theirs', 'themselves', \"shouldn't\", 'for', 'doing', 'couldn', 'doesn', 'some', 'when', 'yourself', \"didn't\", \"isn't\", 'myself', 'between', \"should've\", 'does', 'd', 'she', 'they', 'hasn', 'mustn', 'only', 'himself', 'won', 'you', 'during', 'being', 'am', 'didn', 'most', \"you've\", 'y', 'over', 'through', 'there', 'i', 'very', 'm', 'had', 'having', 'up', 'shouldn', 'a', 'whom', 'o', \"needn't\", 'will', 'isn', 'after', \"that'll\", 'all', 'these', 'down', 'his', 'her', 'who', 'of', 'from', 've', 'until', 'both', 'yourselves', 'too', 'our', 'how', 'not', \"you're\", \"haven't\", 'and', 'in', 'weren', 'own', 'ain', \"doesn't\", \"hadn't\", 'them', \"shan't\", 'wouldn', 'once', 'than', 'ourselves', 'mightn', \"don't\", 'again', 'while', 'haven', 'under', 'aren', 'nor', 'where', 'me', 'but', 'if', 'should', 'yours', 'just', 't', \"aren't\", 'wasn', 'any', 'then', 'the', 'ours', \"you'll\", 'him', \"wasn't\", 'itself', 'so', 'as', 'are', \"you'd\", 'what', \"mightn't\", 'why', 'has', \"weren't\", 'such', 'll', \"she's\", 'been', 'by', 'were', 'because', 'or', 'out', 'here', 'we', 'against', 'hers', \"won't\", \"hasn't\", 'more', 'further'}, 'vect__tokenizer': <function tokenizer at 0x7fd4d9a21280>}\n"
          ]
        }
      ]
    },
    {
      "cell_type": "markdown",
      "source": [
        "## 5.0.1 Keras CNN results\n"
      ],
      "metadata": {
        "id": "41B0xpvL-aN2"
      }
    },
    {
      "cell_type": "code",
      "source": [
        "imdb_clf = grid.best_estimator_\n",
        "score = imdb_clf.score(X_test, y_test_ohe)\n",
        "print('Test Accuracy: %.2f%%' % (score *100) )\n",
        "\n",
        "# detailed report on test data using classification_report\n",
        "y_pred_ohe = imdb_clf.predict(X_test)\n",
        "print(classification_report(y_test_ohe, y_pred_ohe))"
      ],
      "metadata": {
        "colab": {
          "base_uri": "https://localhost:8080/"
        },
        "id": "wlOBO9Z_yma2",
        "outputId": "f60b7c84-6eed-4189-ba34-8c06f4324980"
      },
      "execution_count": 181,
      "outputs": [
        {
          "output_type": "stream",
          "name": "stdout",
          "text": [
            "15/15 [==============================] - 0s 5ms/step\n",
            "Test Accuracy: 84.47%\n",
            "15/15 [==============================] - 0s 5ms/step\n",
            "              precision    recall  f1-score   support\n",
            "\n",
            "           0       0.84      0.86      0.85       761\n",
            "           1       0.85      0.83      0.84       739\n",
            "\n",
            "   micro avg       0.84      0.84      0.84      1500\n",
            "   macro avg       0.84      0.84      0.84      1500\n",
            "weighted avg       0.84      0.84      0.84      1500\n",
            " samples avg       0.84      0.84      0.84      1500\n",
            "\n"
          ]
        }
      ]
    },
    {
      "cell_type": "markdown",
      "source": [
        "# 6.0 sms dataset exploration"
      ],
      "metadata": {
        "id": "EgnidwYf-gSL"
      }
    },
    {
      "cell_type": "markdown",
      "source": [
        "Lets investigate and train models for a different dataset. \n",
        "\n",
        "The dataset we will use now is the df2 dataset (SMS spam).\n",
        "\n",
        "The order of operations here will be as follows:\n",
        "1. Investigate data\n",
        "2. Create pipeline\n",
        "3. Train pipeline\n",
        "4. Evaluate\n",
        "5. Conclude"
      ],
      "metadata": {
        "id": "U6_sLgvGjchx"
      }
    },
    {
      "cell_type": "markdown",
      "source": [
        "Lets investigate the SMS spam data set."
      ],
      "metadata": {
        "id": "4-Y2AwhbeMWh"
      }
    },
    {
      "cell_type": "markdown",
      "source": [
        "So we have a similar situation here where the class value is either \"ham or spam\" then the sms_msg being text.\n",
        "\n",
        "We will need to convert clas to a 1 or 0 then apply a similar type of pre-processing and vectorisation process to the sms_msg column too."
      ],
      "metadata": {
        "id": "2R8wxvf-WWFq"
      }
    },
    {
      "cell_type": "markdown",
      "source": [
        "## 6.1 load & clean dataset"
      ],
      "metadata": {
        "id": "1wGkZTA0-lzT"
      }
    },
    {
      "cell_type": "code",
      "source": [
        "data_file2 = \"https://raw.githubusercontent.com/nirmalie/CM4107/main/SMSSpamData.csv\"\n",
        "\n",
        "df2 = pd.read_csv(data_file2,  encoding='utf-8')\n",
        "print('Shape:', df2.shape)\n",
        "\n",
        "df2.head()"
      ],
      "metadata": {
        "colab": {
          "base_uri": "https://localhost:8080/",
          "height": 225
        },
        "id": "lRjPgG0bfVP8",
        "outputId": "97b23f15-76a8-4107-de90-f52606426ec8"
      },
      "execution_count": 163,
      "outputs": [
        {
          "output_type": "stream",
          "name": "stdout",
          "text": [
            "Shape: (5574, 2)\n"
          ]
        },
        {
          "output_type": "execute_result",
          "data": {
            "text/plain": [
              "  class                                            sms_msg\n",
              "0   ham  Go until jurong point, crazy.. Available only ...\n",
              "1   ham                      Ok lar... Joking wif u oni...\n",
              "2  spam  Free entry in 2 a wkly comp to win FA Cup fina...\n",
              "3   ham  U dun say so early hor... U c already then say...\n",
              "4   ham  Nah I don't think he goes to usf, he lives aro..."
            ],
            "text/html": [
              "\n",
              "  <div id=\"df-889a95c0-d3cf-464e-963a-1057dda28e8c\">\n",
              "    <div class=\"colab-df-container\">\n",
              "      <div>\n",
              "<style scoped>\n",
              "    .dataframe tbody tr th:only-of-type {\n",
              "        vertical-align: middle;\n",
              "    }\n",
              "\n",
              "    .dataframe tbody tr th {\n",
              "        vertical-align: top;\n",
              "    }\n",
              "\n",
              "    .dataframe thead th {\n",
              "        text-align: right;\n",
              "    }\n",
              "</style>\n",
              "<table border=\"1\" class=\"dataframe\">\n",
              "  <thead>\n",
              "    <tr style=\"text-align: right;\">\n",
              "      <th></th>\n",
              "      <th>class</th>\n",
              "      <th>sms_msg</th>\n",
              "    </tr>\n",
              "  </thead>\n",
              "  <tbody>\n",
              "    <tr>\n",
              "      <th>0</th>\n",
              "      <td>ham</td>\n",
              "      <td>Go until jurong point, crazy.. Available only ...</td>\n",
              "    </tr>\n",
              "    <tr>\n",
              "      <th>1</th>\n",
              "      <td>ham</td>\n",
              "      <td>Ok lar... Joking wif u oni...</td>\n",
              "    </tr>\n",
              "    <tr>\n",
              "      <th>2</th>\n",
              "      <td>spam</td>\n",
              "      <td>Free entry in 2 a wkly comp to win FA Cup fina...</td>\n",
              "    </tr>\n",
              "    <tr>\n",
              "      <th>3</th>\n",
              "      <td>ham</td>\n",
              "      <td>U dun say so early hor... U c already then say...</td>\n",
              "    </tr>\n",
              "    <tr>\n",
              "      <th>4</th>\n",
              "      <td>ham</td>\n",
              "      <td>Nah I don't think he goes to usf, he lives aro...</td>\n",
              "    </tr>\n",
              "  </tbody>\n",
              "</table>\n",
              "</div>\n",
              "      <button class=\"colab-df-convert\" onclick=\"convertToInteractive('df-889a95c0-d3cf-464e-963a-1057dda28e8c')\"\n",
              "              title=\"Convert this dataframe to an interactive table.\"\n",
              "              style=\"display:none;\">\n",
              "        \n",
              "  <svg xmlns=\"http://www.w3.org/2000/svg\" height=\"24px\"viewBox=\"0 0 24 24\"\n",
              "       width=\"24px\">\n",
              "    <path d=\"M0 0h24v24H0V0z\" fill=\"none\"/>\n",
              "    <path d=\"M18.56 5.44l.94 2.06.94-2.06 2.06-.94-2.06-.94-.94-2.06-.94 2.06-2.06.94zm-11 1L8.5 8.5l.94-2.06 2.06-.94-2.06-.94L8.5 2.5l-.94 2.06-2.06.94zm10 10l.94 2.06.94-2.06 2.06-.94-2.06-.94-.94-2.06-.94 2.06-2.06.94z\"/><path d=\"M17.41 7.96l-1.37-1.37c-.4-.4-.92-.59-1.43-.59-.52 0-1.04.2-1.43.59L10.3 9.45l-7.72 7.72c-.78.78-.78 2.05 0 2.83L4 21.41c.39.39.9.59 1.41.59.51 0 1.02-.2 1.41-.59l7.78-7.78 2.81-2.81c.8-.78.8-2.07 0-2.86zM5.41 20L4 18.59l7.72-7.72 1.47 1.35L5.41 20z\"/>\n",
              "  </svg>\n",
              "      </button>\n",
              "      \n",
              "  <style>\n",
              "    .colab-df-container {\n",
              "      display:flex;\n",
              "      flex-wrap:wrap;\n",
              "      gap: 12px;\n",
              "    }\n",
              "\n",
              "    .colab-df-convert {\n",
              "      background-color: #E8F0FE;\n",
              "      border: none;\n",
              "      border-radius: 50%;\n",
              "      cursor: pointer;\n",
              "      display: none;\n",
              "      fill: #1967D2;\n",
              "      height: 32px;\n",
              "      padding: 0 0 0 0;\n",
              "      width: 32px;\n",
              "    }\n",
              "\n",
              "    .colab-df-convert:hover {\n",
              "      background-color: #E2EBFA;\n",
              "      box-shadow: 0px 1px 2px rgba(60, 64, 67, 0.3), 0px 1px 3px 1px rgba(60, 64, 67, 0.15);\n",
              "      fill: #174EA6;\n",
              "    }\n",
              "\n",
              "    [theme=dark] .colab-df-convert {\n",
              "      background-color: #3B4455;\n",
              "      fill: #D2E3FC;\n",
              "    }\n",
              "\n",
              "    [theme=dark] .colab-df-convert:hover {\n",
              "      background-color: #434B5C;\n",
              "      box-shadow: 0px 1px 3px 1px rgba(0, 0, 0, 0.15);\n",
              "      filter: drop-shadow(0px 1px 2px rgba(0, 0, 0, 0.3));\n",
              "      fill: #FFFFFF;\n",
              "    }\n",
              "  </style>\n",
              "\n",
              "      <script>\n",
              "        const buttonEl =\n",
              "          document.querySelector('#df-889a95c0-d3cf-464e-963a-1057dda28e8c button.colab-df-convert');\n",
              "        buttonEl.style.display =\n",
              "          google.colab.kernel.accessAllowed ? 'block' : 'none';\n",
              "\n",
              "        async function convertToInteractive(key) {\n",
              "          const element = document.querySelector('#df-889a95c0-d3cf-464e-963a-1057dda28e8c');\n",
              "          const dataTable =\n",
              "            await google.colab.kernel.invokeFunction('convertToInteractive',\n",
              "                                                     [key], {});\n",
              "          if (!dataTable) return;\n",
              "\n",
              "          const docLinkHtml = 'Like what you see? Visit the ' +\n",
              "            '<a target=\"_blank\" href=https://colab.research.google.com/notebooks/data_table.ipynb>data table notebook</a>'\n",
              "            + ' to learn more about interactive tables.';\n",
              "          element.innerHTML = '';\n",
              "          dataTable['output_type'] = 'display_data';\n",
              "          await google.colab.output.renderOutput(dataTable, element);\n",
              "          const docLink = document.createElement('div');\n",
              "          docLink.innerHTML = docLinkHtml;\n",
              "          element.appendChild(docLink);\n",
              "        }\n",
              "      </script>\n",
              "    </div>\n",
              "  </div>\n",
              "  "
            ]
          },
          "metadata": {},
          "execution_count": 163
        }
      ]
    },
    {
      "cell_type": "code",
      "source": [
        "num_classes = 2\n",
        "class_mapping = {label:idx for idx,label in enumerate(np.unique(df2['class']))}\n",
        "\n",
        "print(\"class_mapping:\" , class_mapping)\n",
        "\n",
        "#use the mapping dictionary to transform the class labels into integers\n",
        "\n",
        "df2['class'] = df2['class'].map(class_mapping)\n",
        "from tensorflow.keras.utils import to_categorical\n"
      ],
      "metadata": {
        "colab": {
          "base_uri": "https://localhost:8080/"
        },
        "id": "hhFgWACYflz0",
        "outputId": "c1c0b9b0-a3d7-4d03-c08f-89acf274584d"
      },
      "execution_count": 164,
      "outputs": [
        {
          "output_type": "stream",
          "name": "stdout",
          "text": [
            "class_mapping: {'ham': 0, 'spam': 1}\n"
          ]
        }
      ]
    },
    {
      "cell_type": "markdown",
      "source": [
        "## 6.2 Visualise the dataset\n",
        "\n",
        "Lets perform some similar visualisations for this dataset."
      ],
      "metadata": {
        "id": "dLuJ5u22-tRf"
      }
    },
    {
      "cell_type": "code",
      "source": [
        "df2.head()"
      ],
      "metadata": {
        "colab": {
          "base_uri": "https://localhost:8080/",
          "height": 206
        },
        "id": "63Nkf6OMfrcY",
        "outputId": "57ffe344-980b-4cac-b07c-3e15f4a40218"
      },
      "execution_count": 165,
      "outputs": [
        {
          "output_type": "execute_result",
          "data": {
            "text/plain": [
              "   class                                            sms_msg\n",
              "0      0  Go until jurong point, crazy.. Available only ...\n",
              "1      0                      Ok lar... Joking wif u oni...\n",
              "2      1  Free entry in 2 a wkly comp to win FA Cup fina...\n",
              "3      0  U dun say so early hor... U c already then say...\n",
              "4      0  Nah I don't think he goes to usf, he lives aro..."
            ],
            "text/html": [
              "\n",
              "  <div id=\"df-32a6ad32-daec-41f6-a22a-99a1557e273e\">\n",
              "    <div class=\"colab-df-container\">\n",
              "      <div>\n",
              "<style scoped>\n",
              "    .dataframe tbody tr th:only-of-type {\n",
              "        vertical-align: middle;\n",
              "    }\n",
              "\n",
              "    .dataframe tbody tr th {\n",
              "        vertical-align: top;\n",
              "    }\n",
              "\n",
              "    .dataframe thead th {\n",
              "        text-align: right;\n",
              "    }\n",
              "</style>\n",
              "<table border=\"1\" class=\"dataframe\">\n",
              "  <thead>\n",
              "    <tr style=\"text-align: right;\">\n",
              "      <th></th>\n",
              "      <th>class</th>\n",
              "      <th>sms_msg</th>\n",
              "    </tr>\n",
              "  </thead>\n",
              "  <tbody>\n",
              "    <tr>\n",
              "      <th>0</th>\n",
              "      <td>0</td>\n",
              "      <td>Go until jurong point, crazy.. Available only ...</td>\n",
              "    </tr>\n",
              "    <tr>\n",
              "      <th>1</th>\n",
              "      <td>0</td>\n",
              "      <td>Ok lar... Joking wif u oni...</td>\n",
              "    </tr>\n",
              "    <tr>\n",
              "      <th>2</th>\n",
              "      <td>1</td>\n",
              "      <td>Free entry in 2 a wkly comp to win FA Cup fina...</td>\n",
              "    </tr>\n",
              "    <tr>\n",
              "      <th>3</th>\n",
              "      <td>0</td>\n",
              "      <td>U dun say so early hor... U c already then say...</td>\n",
              "    </tr>\n",
              "    <tr>\n",
              "      <th>4</th>\n",
              "      <td>0</td>\n",
              "      <td>Nah I don't think he goes to usf, he lives aro...</td>\n",
              "    </tr>\n",
              "  </tbody>\n",
              "</table>\n",
              "</div>\n",
              "      <button class=\"colab-df-convert\" onclick=\"convertToInteractive('df-32a6ad32-daec-41f6-a22a-99a1557e273e')\"\n",
              "              title=\"Convert this dataframe to an interactive table.\"\n",
              "              style=\"display:none;\">\n",
              "        \n",
              "  <svg xmlns=\"http://www.w3.org/2000/svg\" height=\"24px\"viewBox=\"0 0 24 24\"\n",
              "       width=\"24px\">\n",
              "    <path d=\"M0 0h24v24H0V0z\" fill=\"none\"/>\n",
              "    <path d=\"M18.56 5.44l.94 2.06.94-2.06 2.06-.94-2.06-.94-.94-2.06-.94 2.06-2.06.94zm-11 1L8.5 8.5l.94-2.06 2.06-.94-2.06-.94L8.5 2.5l-.94 2.06-2.06.94zm10 10l.94 2.06.94-2.06 2.06-.94-2.06-.94-.94-2.06-.94 2.06-2.06.94z\"/><path d=\"M17.41 7.96l-1.37-1.37c-.4-.4-.92-.59-1.43-.59-.52 0-1.04.2-1.43.59L10.3 9.45l-7.72 7.72c-.78.78-.78 2.05 0 2.83L4 21.41c.39.39.9.59 1.41.59.51 0 1.02-.2 1.41-.59l7.78-7.78 2.81-2.81c.8-.78.8-2.07 0-2.86zM5.41 20L4 18.59l7.72-7.72 1.47 1.35L5.41 20z\"/>\n",
              "  </svg>\n",
              "      </button>\n",
              "      \n",
              "  <style>\n",
              "    .colab-df-container {\n",
              "      display:flex;\n",
              "      flex-wrap:wrap;\n",
              "      gap: 12px;\n",
              "    }\n",
              "\n",
              "    .colab-df-convert {\n",
              "      background-color: #E8F0FE;\n",
              "      border: none;\n",
              "      border-radius: 50%;\n",
              "      cursor: pointer;\n",
              "      display: none;\n",
              "      fill: #1967D2;\n",
              "      height: 32px;\n",
              "      padding: 0 0 0 0;\n",
              "      width: 32px;\n",
              "    }\n",
              "\n",
              "    .colab-df-convert:hover {\n",
              "      background-color: #E2EBFA;\n",
              "      box-shadow: 0px 1px 2px rgba(60, 64, 67, 0.3), 0px 1px 3px 1px rgba(60, 64, 67, 0.15);\n",
              "      fill: #174EA6;\n",
              "    }\n",
              "\n",
              "    [theme=dark] .colab-df-convert {\n",
              "      background-color: #3B4455;\n",
              "      fill: #D2E3FC;\n",
              "    }\n",
              "\n",
              "    [theme=dark] .colab-df-convert:hover {\n",
              "      background-color: #434B5C;\n",
              "      box-shadow: 0px 1px 3px 1px rgba(0, 0, 0, 0.15);\n",
              "      filter: drop-shadow(0px 1px 2px rgba(0, 0, 0, 0.3));\n",
              "      fill: #FFFFFF;\n",
              "    }\n",
              "  </style>\n",
              "\n",
              "      <script>\n",
              "        const buttonEl =\n",
              "          document.querySelector('#df-32a6ad32-daec-41f6-a22a-99a1557e273e button.colab-df-convert');\n",
              "        buttonEl.style.display =\n",
              "          google.colab.kernel.accessAllowed ? 'block' : 'none';\n",
              "\n",
              "        async function convertToInteractive(key) {\n",
              "          const element = document.querySelector('#df-32a6ad32-daec-41f6-a22a-99a1557e273e');\n",
              "          const dataTable =\n",
              "            await google.colab.kernel.invokeFunction('convertToInteractive',\n",
              "                                                     [key], {});\n",
              "          if (!dataTable) return;\n",
              "\n",
              "          const docLinkHtml = 'Like what you see? Visit the ' +\n",
              "            '<a target=\"_blank\" href=https://colab.research.google.com/notebooks/data_table.ipynb>data table notebook</a>'\n",
              "            + ' to learn more about interactive tables.';\n",
              "          element.innerHTML = '';\n",
              "          dataTable['output_type'] = 'display_data';\n",
              "          await google.colab.output.renderOutput(dataTable, element);\n",
              "          const docLink = document.createElement('div');\n",
              "          docLink.innerHTML = docLinkHtml;\n",
              "          element.appendChild(docLink);\n",
              "        }\n",
              "      </script>\n",
              "    </div>\n",
              "  </div>\n",
              "  "
            ]
          },
          "metadata": {},
          "execution_count": 165
        }
      ]
    },
    {
      "cell_type": "markdown",
      "source": [
        "Train and test split for dataset #2"
      ],
      "metadata": {
        "id": "G9F-yAtRgHJK"
      }
    },
    {
      "cell_type": "code",
      "source": [
        "small_df= df2.sample(frac=0.5, replace=False, random_state=1)\n",
        "X = small_df.loc[:, 'sms_msg'].values\n",
        "y = small_df.loc[:, 'class'].values\n",
        "\n",
        "X_train, X_test, y_train, y_test = train_test_split(X, y, \n",
        "                                                          random_state=1,\n",
        "                                                          test_size=0.30, # lets use 30% for testing\n",
        "                                                          stratify=y)\n",
        "y_test_ohe = to_categorical(y_test, num_classes)\n",
        "y_train_ohe = to_categorical(y_train, num_classes)\n",
        "print('x_train shape:', X_train.shape)\n",
        "print('y_train_ohe shape:', y_train_ohe.shape)\n",
        "print('x_test shape:', X_test.shape)\n",
        "print('y_test_ohe shape:', y_train_ohe.shape)\n",
        "print(X_train[0:5])\n",
        "print(y_train_ohe[0:5])"
      ],
      "metadata": {
        "colab": {
          "base_uri": "https://localhost:8080/"
        },
        "id": "VELZ6DGuf7rV",
        "outputId": "bdc74f44-6962-46e0-c6b6-7d765431877a"
      },
      "execution_count": 166,
      "outputs": [
        {
          "output_type": "stream",
          "name": "stdout",
          "text": [
            "x_train shape: (1950,)\n",
            "y_train_ohe shape: (1950, 2)\n",
            "x_test shape: (837,)\n",
            "y_test_ohe shape: (1950, 2)\n",
            "['Great! I hope you like your man well endowed. I am  &lt;#&gt;  inches...'\n",
            " 'Thanks again for your reply today. When is ur visa coming in. And r u still buying the gucci and bags. My sister things are not easy, uncle john also has his own bills so i really need to think about how to make my own money. Later sha.'\n",
            " 'No calls..messages..missed calls'\n",
            " 'Ok . . now i am in bus. . If i come soon i will come otherwise tomorrow'\n",
            " 'Omg I want to scream. I weighed myself and I lost more weight! Woohoo!']\n",
            "[[1. 0.]\n",
            " [1. 0.]\n",
            " [1. 0.]\n",
            " [1. 0.]\n",
            " [1. 0.]]\n"
          ]
        }
      ]
    },
    {
      "cell_type": "code",
      "source": [
        "print(y_test_ohe[2])"
      ],
      "metadata": {
        "colab": {
          "base_uri": "https://localhost:8080/"
        },
        "id": "lojrbBk_rYdI",
        "outputId": "520211ec-7de9-454e-8d97-622c456039f8"
      },
      "execution_count": 101,
      "outputs": [
        {
          "output_type": "stream",
          "name": "stdout",
          "text": [
            "[0. 1.]\n"
          ]
        }
      ]
    },
    {
      "cell_type": "code",
      "source": [
        "df2=pd.DataFrame(X_train, columns=['messages'])\n",
        "df2.head()\n",
        "VOCAB_SIZE = set(df2['messages'].str.replace('[^a-zA-Z ]', '').str.lower().str.split(' ').sum())\n",
        "print(\"Vocabulary approx size: \")\n",
        "len(VOCAB_SIZE)"
      ],
      "metadata": {
        "colab": {
          "base_uri": "https://localhost:8080/"
        },
        "id": "1wmRTGQJgL6g",
        "outputId": "52cd567b-d668-432f-b8b1-3e3e09393341"
      },
      "execution_count": 102,
      "outputs": [
        {
          "output_type": "stream",
          "name": "stdout",
          "text": [
            "Vocabulary approx size: \n"
          ]
        },
        {
          "output_type": "stream",
          "name": "stderr",
          "text": [
            "<ipython-input-102-7e7b36c459a2>:3: FutureWarning: The default value of regex will change from True to False in a future version.\n",
            "  VOCAB_SIZE = set(df2['messages'].str.replace('[^a-zA-Z ]', '').str.lower().str.split(' ').sum())\n"
          ]
        },
        {
          "output_type": "execute_result",
          "data": {
            "text/plain": [
              "4818"
            ]
          },
          "metadata": {},
          "execution_count": 102
        }
      ]
    },
    {
      "cell_type": "code",
      "source": [
        "from matplotlib import pyplot\n",
        "\n",
        "# Summarize review length\n",
        "print(\"Message length: \")\n",
        "result = [len(x) for x in df2.messages]\n",
        "print(\"Mean %.2f words (%f) in a message\" % (np.mean(result), np.std(result)))\n",
        "\n",
        "AVG_REVIEW_LEN = np.mean(result)\n",
        "\n",
        "# plot review length\n",
        "pyplot.boxplot(result)\n",
        "pyplot.show()"
      ],
      "metadata": {
        "colab": {
          "base_uri": "https://localhost:8080/",
          "height": 302
        },
        "id": "_FKmIOncg4NX",
        "outputId": "8cc43129-959d-45f1-9fbf-2ab14a1006d5"
      },
      "execution_count": 103,
      "outputs": [
        {
          "output_type": "stream",
          "name": "stdout",
          "text": [
            "Message length: \n",
            "Mean 81.45 words (59.069639) in a message\n"
          ]
        },
        {
          "output_type": "display_data",
          "data": {
            "text/plain": [
              "<Figure size 432x288 with 1 Axes>"
            ],
            "image/png": "[encoded data removed]"
          },
          "metadata": {
            "needs_background": "light"
          }
        }
      ]
    },
    {
      "cell_type": "markdown",
      "source": [
        "All of the above is similar to what was done for the first dataset, here we see the mean is around 60 words per message with some large outliers once again. Like before these outliers will be dealth with by selectkbest and the vectoriser we use."
      ],
      "metadata": {
        "id": "sXvt_aT6hFn_"
      }
    },
    {
      "cell_type": "code",
      "source": [
        "try:\n",
        "    import scikeras\n",
        "except ImportError:\n",
        "    !python -m pip install scikeras"
      ],
      "metadata": {
        "colab": {
          "base_uri": "https://localhost:8080/"
        },
        "id": "UGub6NzrhDd9",
        "outputId": "426f77dd-8e28-493d-d088-3c8b1927b122"
      },
      "execution_count": 79,
      "outputs": [
        {
          "output_type": "stream",
          "name": "stdout",
          "text": [
            "Looking in indexes: https://pypi.org/simple, https://us-python.pkg.dev/colab-wheels/public/simple/\n",
            "Collecting scikeras\n",
            "  Downloading scikeras-0.9.0-py3-none-any.whl (27 kB)\n",
            "Requirement already satisfied: packaging>=0.21 in /usr/local/lib/python3.8/dist-packages (from scikeras) (21.3)\n",
            "Requirement already satisfied: scikit-learn>=1.0.0 in /usr/local/lib/python3.8/dist-packages (from scikeras) (1.0.2)\n",
            "Requirement already satisfied: pyparsing!=3.0.5,>=2.0.2 in /usr/local/lib/python3.8/dist-packages (from packaging>=0.21->scikeras) (3.0.9)\n",
            "Requirement already satisfied: scipy>=1.1.0 in /usr/local/lib/python3.8/dist-packages (from scikit-learn>=1.0.0->scikeras) (1.7.3)\n",
            "Requirement already satisfied: numpy>=1.14.6 in /usr/local/lib/python3.8/dist-packages (from scikit-learn>=1.0.0->scikeras) (1.21.6)\n",
            "Requirement already satisfied: threadpoolctl>=2.0.0 in /usr/local/lib/python3.8/dist-packages (from scikit-learn>=1.0.0->scikeras) (3.1.0)\n",
            "Requirement already satisfied: joblib>=0.11 in /usr/local/lib/python3.8/dist-packages (from scikit-learn>=1.0.0->scikeras) (1.2.0)\n",
            "Installing collected packages: scikeras\n",
            "Successfully installed scikeras-0.9.0\n"
          ]
        }
      ]
    },
    {
      "cell_type": "markdown",
      "source": [
        "#  7.0 Create keras model & pipeline"
      ],
      "metadata": {
        "id": "_Soz2-Sd-97s"
      }
    },
    {
      "cell_type": "code",
      "source": [
        "from scikeras.wrappers import KerasClassifier, KerasRegressor\n",
        "from tensorflow import keras\n",
        "from keras.layers import Dropout, Activation\n"
      ],
      "metadata": {
        "id": "vjFlsOstonod"
      },
      "execution_count": 80,
      "outputs": []
    },
    {
      "cell_type": "code",
      "source": [
        "def create_model(meta, hidden_layer_sizes=[128, 64], optimizer=\"adam\", dropout=0.2):\n",
        "    n_features_in_ = meta[\"n_features_in_\"]\n",
        "    print(\"n_features_in_\", n_features_in_)\n",
        "    n_classes_ = meta[\"n_classes_\"]\n",
        "    print(\"n_classes_\", n_classes_)\n",
        "\n",
        "    model = Sequential()\n",
        "    model.add(Dense(256, activation='relu', input_shape=(n_features_in_,)))\n",
        "    model.add(Dropout(dropout))\n",
        "\n",
        "    for hidden_layer_size in hidden_layer_sizes:\n",
        "        model.add(Dense ( hidden_layer_size, activation=\"relu\"))\n",
        "        model.add(Dropout(dropout))\n",
        "\n",
        "    model.add(Dense(n_classes_, activation=\"softmax\"))\n",
        "    print(\"meta\", model.summary())\n",
        "    model.compile(loss='categorical_crossentropy', optimizer=optimizer, metrics=[\"accuracy\"])\n",
        "    model.summary()\n",
        "\n",
        "    return model"
      ],
      "metadata": {
        "id": "Up7_9i3RopME"
      },
      "execution_count": 111,
      "outputs": []
    },
    {
      "cell_type": "code",
      "source": [
        "keras_clf = KerasClassifier(build_fn=create_model, verbose=1)# Wrapped Keras classifier\n",
        "\n",
        "pipe = Pipeline([\n",
        "    ('tcp', text_cleanup_preprocessor),\n",
        "    ('vect', TfidfVectorizer()),\n",
        "    ('fs',   SelectKBest(chi2)), # k finds the top features \n",
        "    ('clf', keras_clf)\n",
        "])\n",
        "\n",
        "params = {\n",
        "    'vect__ngram_range': [(1,1)],\n",
        "    'vect__tokenizer': [tokenizer_stemmer],\n",
        "    'vect__stop_words': [None], # use the stop dictionary of stopwords or not\n",
        "    'clf__optimizer': [('rmsprop')],\n",
        "    'vect__min_df': [(12), (10)],\n",
        "    'vect__max_df': [(0.4), (0.2)],\n",
        "    'clf__batch_size': [(10)],\n",
        "    'clf__epochs': [(20)],\n",
        "    'fs__k': [(250)]\n",
        "}\n",
        "\n",
        "pipe.get_params().keys()"
      ],
      "metadata": {
        "colab": {
          "base_uri": "https://localhost:8080/"
        },
        "id": "KnzYNx3toqwD",
        "outputId": "6a9fed73-1523-4c04-b92e-b035f907a7ba"
      },
      "execution_count": 122,
      "outputs": [
        {
          "output_type": "execute_result",
          "data": {
            "text/plain": [
              "dict_keys(['memory', 'steps', 'verbose', 'tcp', 'vect', 'fs', 'clf', 'tcp__accept_sparse', 'tcp__check_inverse', 'tcp__func', 'tcp__inv_kw_args', 'tcp__inverse_func', 'tcp__kw_args', 'tcp__validate', 'vect__analyzer', 'vect__binary', 'vect__decode_error', 'vect__dtype', 'vect__encoding', 'vect__input', 'vect__lowercase', 'vect__max_df', 'vect__max_features', 'vect__min_df', 'vect__ngram_range', 'vect__norm', 'vect__preprocessor', 'vect__smooth_idf', 'vect__stop_words', 'vect__strip_accents', 'vect__sublinear_tf', 'vect__token_pattern', 'vect__tokenizer', 'vect__use_idf', 'vect__vocabulary', 'fs__k', 'fs__score_func', 'clf__model', 'clf__build_fn', 'clf__warm_start', 'clf__random_state', 'clf__optimizer', 'clf__loss', 'clf__metrics', 'clf__batch_size', 'clf__validation_batch_size', 'clf__verbose', 'clf__callbacks', 'clf__validation_split', 'clf__shuffle', 'clf__run_eagerly', 'clf__epochs', 'clf__class_weight'])"
            ]
          },
          "metadata": {},
          "execution_count": 122
        }
      ]
    },
    {
      "cell_type": "code",
      "source": [
        "grid = GridSearchCV(pipe, params, n_jobs=-1, cv=5, verbose=True)\n",
        "\n",
        "grid.fit(X_train, y_train_ohe)\n",
        "\n",
        "print(grid.best_score_, grid.best_params_)"
      ],
      "metadata": {
        "colab": {
          "base_uri": "https://localhost:8080/"
        },
        "id": "dzkql09bosgW",
        "outputId": "37893bfb-ed02-4a49-c900-7fbe9d7543ec"
      },
      "execution_count": 123,
      "outputs": [
        {
          "output_type": "stream",
          "name": "stdout",
          "text": [
            "Fitting 5 folds for each of 4 candidates, totalling 20 fits\n",
            "n_features_in_ 250\n",
            "n_classes_ 2\n",
            "Model: \"sequential_10\"\n",
            "_________________________________________________________________\n",
            " Layer (type)                Output Shape              Param #   \n",
            "=================================================================\n",
            " dense_31 (Dense)            (None, 256)               64256     \n",
            "                                                                 \n",
            " dropout_21 (Dropout)        (None, 256)               0         \n",
            "                                                                 \n",
            " dense_32 (Dense)            (None, 128)               32896     \n",
            "                                                                 \n",
            " dropout_22 (Dropout)        (None, 128)               0         \n",
            "                                                                 \n",
            " dense_33 (Dense)            (None, 64)                8256      \n",
            "                                                                 \n",
            " dropout_23 (Dropout)        (None, 64)                0         \n",
            "                                                                 \n",
            " dense_34 (Dense)            (None, 2)                 130       \n",
            "                                                                 \n",
            "=================================================================\n",
            "Total params: 105,538\n",
            "Trainable params: 105,538\n",
            "Non-trainable params: 0\n",
            "_________________________________________________________________\n",
            "meta None\n",
            "Model: \"sequential_10\"\n",
            "_________________________________________________________________\n",
            " Layer (type)                Output Shape              Param #   \n",
            "=================================================================\n",
            " dense_31 (Dense)            (None, 256)               64256     \n",
            "                                                                 \n",
            " dropout_21 (Dropout)        (None, 256)               0         \n",
            "                                                                 \n",
            " dense_32 (Dense)            (None, 128)               32896     \n",
            "                                                                 \n",
            " dropout_22 (Dropout)        (None, 128)               0         \n",
            "                                                                 \n",
            " dense_33 (Dense)            (None, 64)                8256      \n",
            "                                                                 \n",
            " dropout_23 (Dropout)        (None, 64)                0         \n",
            "                                                                 \n",
            " dense_34 (Dense)            (None, 2)                 130       \n",
            "                                                                 \n",
            "=================================================================\n",
            "Total params: 105,538\n",
            "Trainable params: 105,538\n",
            "Non-trainable params: 0\n",
            "_________________________________________________________________\n"
          ]
        },
        {
          "output_type": "stream",
          "name": "stderr",
          "text": [
            "/usr/local/lib/python3.8/dist-packages/scikeras/wrappers.py:301: UserWarning: ``build_fn`` will be renamed to ``model`` in a future release, at which point use of ``build_fn`` will raise an Error instead.\n",
            "  warnings.warn(\n"
          ]
        },
        {
          "output_type": "stream",
          "name": "stdout",
          "text": [
            "Epoch 1/20\n"
          ]
        },
        {
          "output_type": "stream",
          "name": "stderr",
          "text": [
            "/usr/local/lib/python3.8/dist-packages/tensorflow/python/framework/indexed_slices.py:444: UserWarning: Converting sparse IndexedSlices(IndexedSlices(indices=Tensor(\"gradient_tape/sequential_10/dense_31/embedding_lookup_sparse/Reshape_1:0\", shape=(None,), dtype=int32), values=Tensor(\"gradient_tape/sequential_10/dense_31/embedding_lookup_sparse/Reshape:0\", shape=(None, 256), dtype=float32), dense_shape=Tensor(\"gradient_tape/sequential_10/dense_31/embedding_lookup_sparse/Cast:0\", shape=(2,), dtype=int32))) to a dense Tensor of unknown shape. This may consume a large amount of memory.\n",
            "  warnings.warn(\n"
          ]
        },
        {
          "output_type": "stream",
          "name": "stdout",
          "text": [
            "195/195 [==============================] - 2s 4ms/step - loss: 0.2310 - accuracy: 0.9133\n",
            "Epoch 2/20\n",
            "195/195 [==============================] - 1s 4ms/step - loss: 0.0517 - accuracy: 0.9831\n",
            "Epoch 3/20\n",
            "195/195 [==============================] - 1s 4ms/step - loss: 0.0282 - accuracy: 0.9923\n",
            "Epoch 4/20\n",
            "195/195 [==============================] - 1s 4ms/step - loss: 0.0184 - accuracy: 0.9944\n",
            "Epoch 5/20\n",
            "195/195 [==============================] - 1s 4ms/step - loss: 0.0137 - accuracy: 0.9949\n",
            "Epoch 6/20\n",
            "195/195 [==============================] - 1s 4ms/step - loss: 0.0029 - accuracy: 1.0000\n",
            "Epoch 7/20\n",
            "195/195 [==============================] - 1s 4ms/step - loss: 0.0022 - accuracy: 0.9995\n",
            "Epoch 8/20\n",
            "195/195 [==============================] - 1s 4ms/step - loss: 8.4043e-04 - accuracy: 1.0000\n",
            "Epoch 9/20\n",
            "195/195 [==============================] - 1s 4ms/step - loss: 0.0037 - accuracy: 0.9985\n",
            "Epoch 10/20\n",
            "195/195 [==============================] - 1s 4ms/step - loss: 0.0018 - accuracy: 0.9990\n",
            "Epoch 11/20\n",
            "195/195 [==============================] - 1s 4ms/step - loss: 5.7643e-04 - accuracy: 1.0000\n",
            "Epoch 12/20\n",
            "195/195 [==============================] - 1s 4ms/step - loss: 3.2032e-04 - accuracy: 1.0000\n",
            "Epoch 13/20\n",
            "195/195 [==============================] - 1s 4ms/step - loss: 2.8794e-04 - accuracy: 1.0000\n",
            "Epoch 14/20\n",
            "195/195 [==============================] - 1s 5ms/step - loss: 1.2470e-04 - accuracy: 1.0000\n",
            "Epoch 15/20\n",
            "195/195 [==============================] - 1s 4ms/step - loss: 7.1932e-05 - accuracy: 1.0000\n",
            "Epoch 16/20\n",
            "195/195 [==============================] - 1s 4ms/step - loss: 2.3927e-05 - accuracy: 1.0000\n",
            "Epoch 17/20\n",
            "195/195 [==============================] - 1s 4ms/step - loss: 5.0462e-04 - accuracy: 1.0000\n",
            "Epoch 18/20\n",
            "195/195 [==============================] - 1s 4ms/step - loss: 5.7344e-05 - accuracy: 1.0000\n",
            "Epoch 19/20\n",
            "195/195 [==============================] - 1s 4ms/step - loss: 7.2929e-05 - accuracy: 1.0000\n",
            "Epoch 20/20\n",
            "195/195 [==============================] - 1s 4ms/step - loss: 0.0227 - accuracy: 0.9954\n",
            "0.981025641025641 {'clf__batch_size': 10, 'clf__epochs': 20, 'clf__optimizer': 'rmsprop', 'fs__k': 250, 'vect__max_df': 0.4, 'vect__min_df': 10, 'vect__ngram_range': (1, 1), 'vect__stop_words': None, 'vect__tokenizer': <function tokenizer_stemmer at 0x7fd4d9a21790>}\n"
          ]
        }
      ]
    },
    {
      "cell_type": "code",
      "source": [
        "sms_clf = grid.best_estimator_\n",
        "score = sms_clf.score(X_test, y_test_ohe)\n",
        "print('Test Accuracy: %.2f%%' % (score *100) )\n",
        "\n",
        "# detailed report on test data using classification_report\n",
        "y_pred_ohe = sms_clf.predict(X_test)\n",
        "print(classification_report(y_test_ohe, y_pred_ohe))"
      ],
      "metadata": {
        "colab": {
          "base_uri": "https://localhost:8080/"
        },
        "id": "GKXit1jeo3We",
        "outputId": "3cd8927b-9034-4bca-e3d2-fe0e7bd8505f"
      },
      "execution_count": 110,
      "outputs": [
        {
          "output_type": "stream",
          "name": "stdout",
          "text": [
            "42/42 [==============================] - 0s 2ms/step\n",
            "Test Accuracy: 97.49%\n",
            "42/42 [==============================] - 0s 2ms/step\n",
            "              precision    recall  f1-score   support\n",
            "\n",
            "           0       0.99      0.98      0.99       724\n",
            "           1       0.90      0.92      0.91       113\n",
            "\n",
            "   micro avg       0.97      0.97      0.97       837\n",
            "   macro avg       0.94      0.95      0.95       837\n",
            "weighted avg       0.98      0.97      0.98       837\n",
            " samples avg       0.97      0.97      0.97       837\n",
            "\n"
          ]
        }
      ]
    },
    {
      "cell_type": "markdown",
      "source": [
        "# 8.0 use gsearch function on dataset 2"
      ],
      "metadata": {
        "id": "i3Zk52vA_OXj"
      }
    },
    {
      "cell_type": "markdown",
      "source": [
        "This is quite a good performance result. \n",
        "\n",
        "It is interesting to see that the model preferred the data without the stop words, this is probably due to the fact that ANN models can learn complex relationships and using stop words in the pipeline reduces the dimensionality of the dataset hence being detrimental for the performance."
      ],
      "metadata": {
        "id": "LUEOTAO0s2V-"
      }
    },
    {
      "cell_type": "code",
      "source": [
        "smaller_df = df2.sample(frac=0.5, replace=False, random_state=1)\n",
        "# remove the HTML and punctuation to speed up text processing\n",
        "\n",
        "smaller_df['sms_msg'] = smaller_df['sms_msg'].apply(preprocessor)\n",
        "\n",
        "X = small_df.loc[:, 'sms_msg'].values\n",
        "y = small_df.loc[:, 'class'].values\n",
        "\n",
        "X_train, X_test, y_train, y_test = train_test_split(X, y, \n",
        "                                                          random_state=42,\n",
        "                                                          test_size=0.30, # 30% for testing\n",
        "                                                          stratify=y)\n",
        "print(\"Sample of Training data:\", X_train.shape)\n",
        "print(\"Sample of Test data:\", X_test.shape)"
      ],
      "metadata": {
        "colab": {
          "base_uri": "https://localhost:8080/"
        },
        "id": "337zIJtNEzVR",
        "outputId": "8a5fcf02-e4a8-46b7-8b13-3dbf3f2b68b4"
      },
      "execution_count": 173,
      "outputs": [
        {
          "output_type": "stream",
          "name": "stdout",
          "text": [
            "Sample of Training data: (1950,)\n",
            "Sample of Test data: (837,)\n"
          ]
        }
      ]
    },
    {
      "cell_type": "code",
      "source": [
        "# similar to how we tested the sklearn models for the imbd datset\n",
        "models = []\n",
        "best_models = []\n",
        "models.append(('LR', LogisticRegression(), [('max_iter', [128]), ('solver', [('lbfgs')]), ('multi_class', ['auto'])]))\n",
        "models.append(('SVM', SVC( gamma=0.1, C=1.0), [('kernel', [('linear'), ('poly')])]))\n",
        "# we started with a keras CNN so no point in using sklearns\n",
        "models.append(('KNN', KNeighborsClassifier(), [('n_neighbors', [(3), (5)])]))\n",
        "models.append(('RF', RandomForestClassifier(random_state=42),[('n_estimators', [(200)]), ('max_depth', [(70)])]))\n",
        "\n",
        "\n",
        "\n",
        "pre_processtext_grid = [{'vector__ngram_range': [(1,1), (1, 2)], \n",
        "               'vector__stop_words': [stop],  \n",
        "               'vector__tokenizer': [tokenizer_stemmer, tokenizer], \n",
        "               'vector__min_df': [(10)],\n",
        "               'vector__max_df': [(0.8)],\n",
        "               }]\n",
        "tfidf = TfidfVectorizer(strip_accents=None,\n",
        "                         lowercase=False,\n",
        "                         preprocessor=None)\n",
        "\n",
        "plot_data = gsearch(models, X_train, y_train, X_test, y_test, tfidf, pre_processtext_grid)\n",
        "print(plot_data) "
      ],
      "metadata": {
        "colab": {
          "base_uri": "https://localhost:8080/"
        },
        "id": "sEWW7Pk7q6P4",
        "outputId": "3e24ffc2-a538-493e-fb34-a308f1527aee"
      },
      "execution_count": 185,
      "outputs": [
        {
          "output_type": "stream",
          "name": "stdout",
          "text": [
            "Fitting 5 folds for each of 4 candidates, totalling 20 fits\n",
            "Best parameter set: {'model__max_iter': 128, 'model__multi_class': 'auto', 'model__solver': 'lbfgs', 'vector__max_df': 0.8, 'vector__min_df': 10, 'vector__ngram_range': (1, 1), 'vector__stop_words': {'being', \"aren't\", 'below', 'them', 'then', 'she', 'under', 'here', 'having', 'above', 'other', 'some', 'any', 'haven', 'ma', 'while', 'our', 'am', 'whom', 'doesn', 'he', 'few', 'which', 'so', \"it's\", 'where', 's', \"you'd\", 'you', 'couldn', 'shouldn', 'out', 'an', \"mightn't\", 'once', 'but', 'such', \"she's\", 'ourselves', 'herself', 'itself', 'shan', \"needn't\", 'be', \"hasn't\", \"wouldn't\", 'because', 'the', 'don', 'doing', 'about', \"you'll\", \"haven't\", \"should've\", 't', 'had', 'of', 'aren', 'me', 'yourself', 'ours', 'when', 'has', \"shouldn't\", \"don't\", 'just', \"didn't\", 'wasn', 'between', 'its', 'again', 'ain', 'mightn', 've', \"wasn't\", 'or', \"you've\", 'during', 'll', 'this', 'more', 'off', 'against', 'there', 'your', 'at', 'y', 'mustn', 'further', 'my', 'needn', 'theirs', 'these', 'most', 'than', 'were', 'now', \"couldn't\", 'weren', 'himself', 'into', 'both', 'hadn', 'yourselves', 'i', 'how', 'did', 'on', 'for', 'to', 'they', 'does', 'up', 'all', 'have', 're', 'it', 'been', 'why', 'can', 'm', 'd', 'his', 'too', \"that'll\", 'hasn', 'is', 'as', 'myself', \"weren't\", 'from', 'over', 'who', 'not', 'wouldn', 'didn', \"won't\", 'we', 'in', 'those', 'should', 'him', 'and', \"hadn't\", 'themselves', 'her', 'by', 'that', 'their', 'own', 'down', \"doesn't\", 'very', 'with', 'hers', 'are', \"shan't\", 'was', 'until', 'nor', 'do', \"isn't\", 'isn', 'if', \"you're\", 'each', 'no', 'will', 'what', 'o', 'yours', 'same', \"mustn't\", 'a', 'before', 'after', 'through', 'only', 'won'}, 'vector__tokenizer': <function tokenizer at 0x7fcb4ceb38b0>} \n",
            "CV Accuracy: 0.956\n",
            "Precision score is:  0.9875\n",
            "Recall score is is:  0.6991150442477876\n",
            "f1 score is:  0.8186528497409327\n",
            "Test Accuracy: 0.958\n",
            "\n",
            "Fitting 5 folds for each of 8 candidates, totalling 40 fits\n"
          ]
        },
        {
          "output_type": "stream",
          "name": "stderr",
          "text": [
            "/usr/local/lib/python3.8/dist-packages/sklearn/feature_extraction/text.py:396: UserWarning: Your stop_words may be inconsistent with your preprocessing. Tokenizing the stop words generated tokens ['abov', 'ani', 'becaus', 'befor', 'doe', 'dure', 'onc', 'onli', 'ourselv', \"should'v\", 'themselv', 'veri', 'whi', \"you'r\", \"you'v\", 'yourselv'] not in stop_words.\n",
            "  warnings.warn(\n"
          ]
        },
        {
          "output_type": "stream",
          "name": "stdout",
          "text": [
            "Best parameter set: {'model__kernel': 'linear', 'vector__max_df': 0.8, 'vector__min_df': 10, 'vector__ngram_range': (1, 1), 'vector__stop_words': {'being', \"aren't\", 'below', 'them', 'then', 'she', 'under', 'here', 'having', 'above', 'other', 'some', 'any', 'haven', 'ma', 'while', 'our', 'am', 'whom', 'doesn', 'he', 'few', 'which', 'so', \"it's\", 'where', 's', \"you'd\", 'you', 'couldn', 'shouldn', 'out', 'an', \"mightn't\", 'once', 'but', 'such', \"she's\", 'ourselves', 'herself', 'itself', 'shan', \"needn't\", 'be', \"hasn't\", \"wouldn't\", 'because', 'the', 'don', 'doing', 'about', \"you'll\", \"haven't\", \"should've\", 't', 'had', 'of', 'aren', 'me', 'yourself', 'ours', 'when', 'has', \"shouldn't\", \"don't\", 'just', \"didn't\", 'wasn', 'between', 'its', 'again', 'ain', 'mightn', 've', \"wasn't\", 'or', \"you've\", 'during', 'll', 'this', 'more', 'off', 'against', 'there', 'your', 'at', 'y', 'mustn', 'further', 'my', 'needn', 'theirs', 'these', 'most', 'than', 'were', 'now', \"couldn't\", 'weren', 'himself', 'into', 'both', 'hadn', 'yourselves', 'i', 'how', 'did', 'on', 'for', 'to', 'they', 'does', 'up', 'all', 'have', 're', 'it', 'been', 'why', 'can', 'm', 'd', 'his', 'too', \"that'll\", 'hasn', 'is', 'as', 'myself', \"weren't\", 'from', 'over', 'who', 'not', 'wouldn', 'didn', \"won't\", 'we', 'in', 'those', 'should', 'him', 'and', \"hadn't\", 'themselves', 'her', 'by', 'that', 'their', 'own', 'down', \"doesn't\", 'very', 'with', 'hers', 'are', \"shan't\", 'was', 'until', 'nor', 'do', \"isn't\", 'isn', 'if', \"you're\", 'each', 'no', 'will', 'what', 'o', 'yours', 'same', \"mustn't\", 'a', 'before', 'after', 'through', 'only', 'won'}, 'vector__tokenizer': <function tokenizer_stemmer at 0x7fcae03925e0>} \n",
            "CV Accuracy: 0.976\n",
            "Precision score is:  0.9777777777777777\n",
            "Recall score is is:  0.7787610619469026\n",
            "f1 score is:  0.8669950738916256\n",
            "Test Accuracy: 0.968\n",
            "\n",
            "Fitting 5 folds for each of 8 candidates, totalling 40 fits\n",
            "Best parameter set: {'model__n_neighbors': 3, 'vector__max_df': 0.8, 'vector__min_df': 10, 'vector__ngram_range': (1, 2), 'vector__stop_words': {'being', \"aren't\", 'below', 'them', 'then', 'she', 'under', 'here', 'having', 'above', 'other', 'some', 'any', 'haven', 'ma', 'while', 'our', 'am', 'whom', 'doesn', 'he', 'few', 'which', 'so', \"it's\", 'where', 's', \"you'd\", 'you', 'couldn', 'shouldn', 'out', 'an', \"mightn't\", 'once', 'but', 'such', \"she's\", 'ourselves', 'herself', 'itself', 'shan', \"needn't\", 'be', \"hasn't\", \"wouldn't\", 'because', 'the', 'don', 'doing', 'about', \"you'll\", \"haven't\", \"should've\", 't', 'had', 'of', 'aren', 'me', 'yourself', 'ours', 'when', 'has', \"shouldn't\", \"don't\", 'just', \"didn't\", 'wasn', 'between', 'its', 'again', 'ain', 'mightn', 've', \"wasn't\", 'or', \"you've\", 'during', 'll', 'this', 'more', 'off', 'against', 'there', 'your', 'at', 'y', 'mustn', 'further', 'my', 'needn', 'theirs', 'these', 'most', 'than', 'were', 'now', \"couldn't\", 'weren', 'himself', 'into', 'both', 'hadn', 'yourselves', 'i', 'how', 'did', 'on', 'for', 'to', 'they', 'does', 'up', 'all', 'have', 're', 'it', 'been', 'why', 'can', 'm', 'd', 'his', 'too', \"that'll\", 'hasn', 'is', 'as', 'myself', \"weren't\", 'from', 'over', 'who', 'not', 'wouldn', 'didn', \"won't\", 'we', 'in', 'those', 'should', 'him', 'and', \"hadn't\", 'themselves', 'her', 'by', 'that', 'their', 'own', 'down', \"doesn't\", 'very', 'with', 'hers', 'are', \"shan't\", 'was', 'until', 'nor', 'do', \"isn't\", 'isn', 'if', \"you're\", 'each', 'no', 'will', 'what', 'o', 'yours', 'same', \"mustn't\", 'a', 'before', 'after', 'through', 'only', 'won'}, 'vector__tokenizer': <function tokenizer at 0x7fcb4ceb38b0>} \n",
            "CV Accuracy: 0.935\n",
            "Precision score is:  0.9466666666666667\n",
            "Recall score is is:  0.6283185840707964\n",
            "f1 score is:  0.7553191489361702\n",
            "Test Accuracy: 0.945\n",
            "\n",
            "Fitting 5 folds for each of 4 candidates, totalling 20 fits\n"
          ]
        },
        {
          "output_type": "stream",
          "name": "stderr",
          "text": [
            "/usr/local/lib/python3.8/dist-packages/sklearn/feature_extraction/text.py:396: UserWarning: Your stop_words may be inconsistent with your preprocessing. Tokenizing the stop words generated tokens ['abov', 'ani', 'becaus', 'befor', 'doe', 'dure', 'onc', 'onli', 'ourselv', \"should'v\", 'themselv', 'veri', 'whi', \"you'r\", \"you'v\", 'yourselv'] not in stop_words.\n",
            "  warnings.warn(\n"
          ]
        },
        {
          "output_type": "stream",
          "name": "stdout",
          "text": [
            "Best parameter set: {'model__max_depth': 70, 'model__n_estimators': 200, 'vector__max_df': 0.8, 'vector__min_df': 10, 'vector__ngram_range': (1, 1), 'vector__stop_words': {'being', \"aren't\", 'below', 'them', 'then', 'she', 'under', 'here', 'having', 'above', 'other', 'some', 'any', 'haven', 'ma', 'while', 'our', 'am', 'whom', 'doesn', 'he', 'few', 'which', 'so', \"it's\", 'where', 's', \"you'd\", 'you', 'couldn', 'shouldn', 'out', 'an', \"mightn't\", 'once', 'but', 'such', \"she's\", 'ourselves', 'herself', 'itself', 'shan', \"needn't\", 'be', \"hasn't\", \"wouldn't\", 'because', 'the', 'don', 'doing', 'about', \"you'll\", \"haven't\", \"should've\", 't', 'had', 'of', 'aren', 'me', 'yourself', 'ours', 'when', 'has', \"shouldn't\", \"don't\", 'just', \"didn't\", 'wasn', 'between', 'its', 'again', 'ain', 'mightn', 've', \"wasn't\", 'or', \"you've\", 'during', 'll', 'this', 'more', 'off', 'against', 'there', 'your', 'at', 'y', 'mustn', 'further', 'my', 'needn', 'theirs', 'these', 'most', 'than', 'were', 'now', \"couldn't\", 'weren', 'himself', 'into', 'both', 'hadn', 'yourselves', 'i', 'how', 'did', 'on', 'for', 'to', 'they', 'does', 'up', 'all', 'have', 're', 'it', 'been', 'why', 'can', 'm', 'd', 'his', 'too', \"that'll\", 'hasn', 'is', 'as', 'myself', \"weren't\", 'from', 'over', 'who', 'not', 'wouldn', 'didn', \"won't\", 'we', 'in', 'those', 'should', 'him', 'and', \"hadn't\", 'themselves', 'her', 'by', 'that', 'their', 'own', 'down', \"doesn't\", 'very', 'with', 'hers', 'are', \"shan't\", 'was', 'until', 'nor', 'do', \"isn't\", 'isn', 'if', \"you're\", 'each', 'no', 'will', 'what', 'o', 'yours', 'same', \"mustn't\", 'a', 'before', 'after', 'through', 'only', 'won'}, 'vector__tokenizer': <function tokenizer_stemmer at 0x7fcae03925e0>} \n",
            "CV Accuracy: 0.975\n",
            "Precision score is:  0.9611650485436893\n",
            "Recall score is is:  0.8761061946902655\n",
            "f1 score is:  0.9166666666666666\n",
            "Test Accuracy: 0.978\n",
            "\n",
            "  Model  Train Accuracy  Test Accuracy  precision    recall        f1\n",
            "0    LR        0.956410       0.958184   0.987500  0.699115  0.818653\n",
            "1   SVM        0.975897       0.967742   0.977778  0.778761  0.866995\n",
            "2   KNN        0.935385       0.945042   0.946667  0.628319  0.755319\n",
            "3    RF        0.974872       0.978495   0.961165  0.876106  0.916667\n"
          ]
        }
      ]
    },
    {
      "cell_type": "markdown",
      "source": [
        "## 8.1 Graph dataset 2's results"
      ],
      "metadata": {
        "id": "bIeyEYPF_uQ5"
      }
    },
    {
      "cell_type": "code",
      "source": [
        "plot_data.plot.bar(x='Model', ylim=(.45, 1.))"
      ],
      "metadata": {
        "colab": {
          "base_uri": "https://localhost:8080/",
          "height": 313
        },
        "id": "1sajXaPtu7rV",
        "outputId": "1595a306-b1df-4a37-8fc2-c986b01d0140"
      },
      "execution_count": 186,
      "outputs": [
        {
          "output_type": "execute_result",
          "data": {
            "text/plain": [
              "<matplotlib.axes._subplots.AxesSubplot at 0x7fcad3f3bfa0>"
            ]
          },
          "metadata": {},
          "execution_count": 186
        },
        {
          "output_type": "display_data",
          "data": {
            "text/plain": [
              "<Figure size 432x288 with 1 Axes>"
            ],
            "image/png": "[encoded data removed]"
          },
          "metadata": {}
        }
      ]
    },
    {
      "cell_type": "markdown",
      "source": [
        "## 8.2 feature importance for dataset 2 model"
      ],
      "metadata": {
        "id": "WDnKom7d_9YA"
      }
    },
    {
      "cell_type": "code",
      "source": [
        "i = best_models[0]\n",
        "print(i.named_steps[\"model\"])\n",
        "print(i.named_steps[\"model\"].coef_[0][:5])\n",
        "# first 5 coefs from the LR model to see what the values look like"
      ],
      "metadata": {
        "colab": {
          "base_uri": "https://localhost:8080/"
        },
        "outputId": "bc20cae2-cc4e-405e-8ad0-973eee221d84",
        "id": "VxftSz3iAt5P"
      },
      "execution_count": 194,
      "outputs": [
        {
          "output_type": "stream",
          "name": "stdout",
          "text": [
            "LogisticRegression(max_iter=128)\n",
            "[0.76883202 1.94781892 0.94301367 1.25687642 1.30112061]\n"
          ]
        }
      ]
    },
    {
      "cell_type": "code",
      "source": [
        "feature_names = i.named_steps[\"vector\"].get_feature_names_out()\n",
        "print(len(feature_names))\n",
        "print(feature_names[:20])"
      ],
      "metadata": {
        "colab": {
          "base_uri": "https://localhost:8080/"
        },
        "outputId": "61980e7a-9ccc-43c3-89f4-65557a7850d6",
        "id": "KtvzEB_qAt5Q"
      },
      "execution_count": 189,
      "outputs": [
        {
          "output_type": "stream",
          "name": "stdout",
          "text": [
            "358\n",
            "['000' '1' '10' '100' '1000' '150p' '150ppm' '16' '18' '2' '2nd' '3' '4'\n",
            " '5' '50' '500' '6' '7' '8' '9']\n"
          ]
        }
      ]
    },
    {
      "cell_type": "code",
      "source": [
        "coefs = i.named_steps[\"model\"].coef_.flatten()\n",
        "\n",
        "# print(coefs)\n",
        "# prepare the coefs for graphing/visualisation"
      ],
      "metadata": {
        "id": "8krK5-xHAt5R"
      },
      "execution_count": 190,
      "outputs": []
    },
    {
      "cell_type": "code",
      "source": [
        "# Zip coefficients and names together and make a DataFrame\n",
        "zipped = zip(feature_names, coefs)\n",
        "df_plot = pd.DataFrame(zipped, columns=[\"feature\", \"value\"])\n",
        "# Sort the features by the absolute value of their coefficient\n",
        "df_plot[\"abs_value\"] = df_plot[\"value\"].apply(lambda x: abs(x))\n",
        "df_plot[\"colors\"] = df_plot[\"value\"].apply(lambda x: \"green\" if x > 0 else \"red\")\n",
        "df_plot = df_plot.sort_values(\"abs_value\", ascending=False)"
      ],
      "metadata": {
        "id": "quan0ZoLAt5R"
      },
      "execution_count": 191,
      "outputs": []
    },
    {
      "cell_type": "code",
      "source": [
        "import seaborn as sns\n",
        "fig, ax = plt.subplots(1, 1, figsize=(14, 10))\n",
        "sns.barplot(x=\"feature\",\n",
        "            y=\"value\",\n",
        "            data=df_plot.head(50),\n",
        "           palette=df_plot.head(50)[\"colors\"])\n",
        "ax.set_xticklabels(ax.get_xticklabels(), rotation=90, fontsize=20)\n",
        "ax.set_title(\"Top 50 Features\", fontsize=25)\n",
        "ax.set_ylabel(\"Coef\", fontsize=22)\n",
        "ax.set_xlabel(\"Feature Name\", fontsize=22)"
      ],
      "metadata": {
        "colab": {
          "base_uri": "https://localhost:8080/",
          "height": 732
        },
        "outputId": "db33487d-1406-42c7-e838-c1e02e49ee0d",
        "id": "2KtQTRzuAt5R"
      },
      "execution_count": 195,
      "outputs": [
        {
          "output_type": "execute_result",
          "data": {
            "text/plain": [
              "Text(0.5, 0, 'Feature Name')"
            ]
          },
          "metadata": {},
          "execution_count": 195
        },
        {
          "output_type": "display_data",
          "data": {
            "text/plain": [
              "<Figure size 1008x720 with 1 Axes>"
            ],
            "image/png": "[encoded data removed]"
          },
          "metadata": {}
        }
      ]
    },
    {
      "cell_type": "code",
      "source": [],
      "metadata": {
        "id": "jXh-qwsEGJCW"
      },
      "execution_count": null,
      "outputs": []
    }
  ],
  "metadata": {
    "colab": {
      "provenance": [],
      "toc_visible": true
    },
    "kernelspec": {
      "display_name": "Python 3",
      "name": "python3"
    },
    "language_info": {
      "name": "python"
    }
  },
  "nbformat": 4,
  "nbformat_minor": 0
}